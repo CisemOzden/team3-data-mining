{
 "cells": [
  {
   "cell_type": "code",
   "execution_count": 186,
   "metadata": {},
   "outputs": [],
   "source": [
    "import warnings\n",
    "warnings.filterwarnings(action=\"ignore\")\n",
    "\n",
    "import numpy as np\n",
    "import pandas as pd\n",
    "import matplotlib.pyplot as plt\n",
    "\n",
    "from catboost import CatBoostClassifier, Pool\n",
    "\n",
    "from imblearn.over_sampling import SMOTE\n",
    "from imblearn.pipeline import Pipeline as imbpipeline\n",
    "\n",
    "from sklearn.model_selection import  GridSearchCV, StratifiedKFold\n",
    "from sklearn.metrics import  f1_score, confusion_matrix, classification_report, make_scorer\n",
    "from sklearn.preprocessing import MinMaxScaler, StandardScaler\n",
    "from IPython.display import display\n",
    "from sklearn.feature_selection import SelectKBest, f_classif\n",
    "from sklearn.decomposition import PCA\n",
    "\n",
    "from sklearn.svm import OneClassSVM\n",
    "from sklearn.ensemble import IsolationForest\n",
    "from sklearn.neighbors import LocalOutlierFactor"
   ]
  },
  {
   "cell_type": "markdown",
   "metadata": {},
   "source": [
    "##### Code for plotting confusion matrix"
   ]
  },
  {
   "cell_type": "code",
   "execution_count": 187,
   "metadata": {},
   "outputs": [],
   "source": [
    "import itertools\n",
    "import matplotlib.pyplot as plt\n",
    "import numpy as np\n",
    "def plot_confusion_matrix(cm, classes,\n",
    "                          normalize=False,\n",
    "                          title='Confusion matrix',\n",
    "                          cmap=plt.cm.Blues):\n",
    "    \"\"\"\n",
    "    This function prints and plots the confusion matrix.\n",
    "    Normalization can be applied by setting `normalize=True`.\n",
    "    \"\"\"\n",
    "    if normalize:\n",
    "        cm = cm.astype('float') / cm.sum(axis=1)[:, np.newaxis]\n",
    "\n",
    "    plt.imshow(cm, interpolation='nearest', cmap=cmap)\n",
    "    plt.title(title)\n",
    "    plt.colorbar()\n",
    "    tick_marks = np.arange(len(classes))\n",
    "    plt.xticks(tick_marks, classes, rotation=45)\n",
    "    plt.yticks(tick_marks, classes)\n",
    "\n",
    "    fmt = '.2f' if normalize else 'd'\n",
    "    thresh = cm.max() / 2.\n",
    "    for i, j in itertools.product(range(cm.shape[0]), range(cm.shape[1])):\n",
    "        plt.text(j, i, format(cm[i, j], fmt),\n",
    "                 horizontalalignment=\"center\",\n",
    "                 color=\"white\" if cm[i, j] > thresh else \"black\")\n",
    "\n",
    "    plt.ylabel('True label')\n",
    "    plt.xlabel('Predicted label')\n",
    "    plt.tight_layout()\n",
    "    plt.show()"
   ]
  },
  {
   "cell_type": "markdown",
   "metadata": {},
   "source": [
    "##### Load the data"
   ]
  },
  {
   "cell_type": "code",
   "execution_count": 188,
   "metadata": {},
   "outputs": [
    {
     "name": "stdout",
     "output_type": "stream",
     "text": [
      "0    5279\n",
      "1     176\n",
      "Name: Bankrupt?, dtype: int64\n",
      "0    1320\n",
      "1      44\n",
      "Name: Bankrupt?, dtype: int64\n"
     ]
    }
   ],
   "source": [
    "train = pd.read_csv('../data/original/training_dataset.csv')\n",
    "test = pd.read_csv('../data/original/evaluation_dataset.csv')\n",
    "\n",
    "print(train['Bankrupt?'].value_counts())\n",
    "print(test['Bankrupt?'].value_counts()) "
   ]
  },
  {
   "cell_type": "markdown",
   "metadata": {},
   "source": [
    "### Preprocessing"
   ]
  },
  {
   "cell_type": "markdown",
   "metadata": {},
   "source": [
    "##### Remove some outliers <br>\n",
    "Statistical approach: IQR Test, gives good results in our case"
   ]
  },
  {
   "cell_type": "code",
   "execution_count": 189,
   "metadata": {},
   "outputs": [
    {
     "data": {
      "text/plain": [
       "0    5279\n",
       "1     176\n",
       "Name: Bankrupt?, dtype: int64"
      ]
     },
     "metadata": {},
     "output_type": "display_data"
    },
    {
     "data": {
      "text/plain": [
       "0    4837\n",
       "1     175\n",
       "Name: Bankrupt?, dtype: int64"
      ]
     },
     "metadata": {},
     "output_type": "display_data"
    }
   ],
   "source": [
    "# Removes outliers. 1 bankrupt companie and 442 non banckrupt. \n",
    "def outliers_removal(feature, feature_name, dataset):\n",
    "    q1 = np.percentile(feature, 25)\n",
    "    q3 = np.percentile(feature, 75)\n",
    "    iqr = q3 - q1\n",
    "    fence = iqr * 1.5\n",
    "    fence_lower = q1 - fence \n",
    "    fence_upper = q3 + fence\n",
    "    outliers = [x for x in feature if x < fence_lower or x > fence_upper]\n",
    "    dataset = dataset.drop(dataset[(dataset[feature_name] > fence_upper) | (dataset[feature_name] < fence_lower)].index)\n",
    "    return dataset\n",
    "\n",
    "# Only remove outliers from train data\n",
    "for col in train:\n",
    "    new_train = outliers_removal(train[col], str(col), train)\n",
    "\n",
    "#Original\n",
    "display(train['Bankrupt?'].value_counts())\n",
    "# New\n",
    "display(new_train['Bankrupt?'].value_counts())"
   ]
  },
  {
   "cell_type": "markdown",
   "metadata": {},
   "source": [
    "##### Make a train/test splitt"
   ]
  },
  {
   "cell_type": "code",
   "execution_count": 190,
   "metadata": {},
   "outputs": [
    {
     "name": "stdout",
     "output_type": "stream",
     "text": [
      "0    4837\n",
      "1     175\n",
      "Name: Bankrupt?, dtype: int64\n",
      "0    1320\n",
      "1      44\n",
      "Name: Bankrupt?, dtype: int64\n"
     ]
    }
   ],
   "source": [
    "y_train = new_train['Bankrupt?']\n",
    "X_train = new_train.drop(['Bankrupt?'], axis = 1)\n",
    "\n",
    "y_test = test['Bankrupt?']\n",
    "X_test = test.drop(['Bankrupt?'], axis = 1)\n",
    "\n",
    "print(y_train.value_counts())\n",
    "print(y_test.value_counts()) "
   ]
  },
  {
   "cell_type": "markdown",
   "metadata": {},
   "source": [
    "##### Additional outlier removal"
   ]
  },
  {
   "cell_type": "code",
   "execution_count": 191,
   "metadata": {},
   "outputs": [],
   "source": [
    "# Try and also remove outliers with this method\n",
    "\n",
    "# iso = IsolationForest(contamination=0.3)\n",
    "# yhat = iso.fit_predict(X_train)\n",
    "\n",
    "# # select all rows that are not outliers\n",
    "# mask = yhat != -1\n",
    "# X_train = X_train.to_numpy()\n",
    "# y_train = y_train.to_numpy()\n",
    "# print(X_train.shape, y_train.shape)\n",
    "# X_train, y_train = X_train[mask, :], y_train[mask]\n",
    "# print(X_train.shape, y_train.shape)"
   ]
  },
  {
   "cell_type": "code",
   "execution_count": 192,
   "metadata": {},
   "outputs": [],
   "source": [
    "# Or remove outliers with this method\n",
    "\n",
    "# ee = OneClassSVM(nu=0.03)\n",
    "# yhat = ee.fit_predict(X_train)\n",
    "\n",
    "# # select all rows that are not outliers\n",
    "# mask = yhat != -1\n",
    "# X_train = X_train.to_numpy()\n",
    "# y_train = y_train.to_numpy()\n",
    "# print(X_train.shape, y_train.shape)\n",
    "# X_train, y_train = X_train[mask, :], y_train[mask]\n",
    "# print(X_train.shape, y_train.shape)"
   ]
  },
  {
   "cell_type": "code",
   "execution_count": 193,
   "metadata": {},
   "outputs": [
    {
     "name": "stdout",
     "output_type": "stream",
     "text": [
      "(5012, 95) (5012,)\n",
      "(3508, 95) (3508,)\n"
     ]
    }
   ],
   "source": [
    "# Or remove outliers with this method\n",
    "\n",
    "lof = LocalOutlierFactor(n_neighbors=10, contamination=0.3)\n",
    "yhat = lof.fit_predict(X_train)\n",
    "\n",
    "mask = yhat != -1\n",
    "X_train = X_train.to_numpy()\n",
    "y_train = y_train.to_numpy()\n",
    "print(X_train.shape, y_train.shape)\n",
    "X_train, y_train = X_train[mask, :], y_train[mask]\n",
    "print(X_train.shape, y_train.shape)"
   ]
  },
  {
   "cell_type": "markdown",
   "metadata": {},
   "source": [
    "### Pipeline"
   ]
  },
  {
   "cell_type": "markdown",
   "metadata": {},
   "source": [
    "Sampling using SMOTE. Scale. SelectKBest for feature selection. PCA to reduce dimentionality. StratifiedKFold for crosscalidation. Try logistic regression and tune parameters with GridSearch by using params. "
   ]
  },
  {
   "cell_type": "code",
   "execution_count": 194,
   "metadata": {},
   "outputs": [
    {
     "name": "stdout",
     "output_type": "stream",
     "text": [
      "0:\tlearn: 0.6828626\ttotal: 7.56ms\tremaining: 7.55s\n",
      "100:\tlearn: 0.2771838\ttotal: 757ms\tremaining: 6.74s\n",
      "200:\tlearn: 0.1921206\ttotal: 1.47s\tremaining: 5.84s\n",
      "300:\tlearn: 0.1518759\ttotal: 2.18s\tremaining: 5.06s\n",
      "400:\tlearn: 0.1235489\ttotal: 2.88s\tremaining: 4.3s\n",
      "500:\tlearn: 0.1034366\ttotal: 3.6s\tremaining: 3.58s\n",
      "600:\tlearn: 0.0874349\ttotal: 4.32s\tremaining: 2.87s\n",
      "700:\tlearn: 0.0746060\ttotal: 5.02s\tremaining: 2.14s\n",
      "800:\tlearn: 0.0645548\ttotal: 5.72s\tremaining: 1.42s\n",
      "900:\tlearn: 0.0562320\ttotal: 6.42s\tremaining: 706ms\n",
      "999:\tlearn: 0.0486805\ttotal: 7.13s\tremaining: 0us\n",
      "0:\tlearn: 0.6818876\ttotal: 6.86ms\tremaining: 6.85s\n",
      "100:\tlearn: 0.2749474\ttotal: 709ms\tremaining: 6.31s\n",
      "200:\tlearn: 0.1882335\ttotal: 1.42s\tremaining: 5.65s\n",
      "300:\tlearn: 0.1495365\ttotal: 2.13s\tremaining: 4.94s\n",
      "400:\tlearn: 0.1226380\ttotal: 2.84s\tremaining: 4.24s\n",
      "500:\tlearn: 0.1029827\ttotal: 3.56s\tremaining: 3.54s\n",
      "600:\tlearn: 0.0883962\ttotal: 4.27s\tremaining: 2.83s\n",
      "700:\tlearn: 0.0762515\ttotal: 5s\tremaining: 2.13s\n",
      "800:\tlearn: 0.0665860\ttotal: 5.7s\tremaining: 1.42s\n",
      "900:\tlearn: 0.0580766\ttotal: 6.41s\tremaining: 704ms\n",
      "999:\tlearn: 0.0511964\ttotal: 7.13s\tremaining: 0us\n",
      "0:\tlearn: 0.6811205\ttotal: 7.7ms\tremaining: 7.69s\n",
      "100:\tlearn: 0.2657206\ttotal: 730ms\tremaining: 6.49s\n",
      "200:\tlearn: 0.1845785\ttotal: 1.54s\tremaining: 6.13s\n",
      "300:\tlearn: 0.1464682\ttotal: 2.33s\tremaining: 5.41s\n",
      "400:\tlearn: 0.1204585\ttotal: 3.1s\tremaining: 4.63s\n",
      "500:\tlearn: 0.1014017\ttotal: 3.84s\tremaining: 3.83s\n",
      "600:\tlearn: 0.0864632\ttotal: 4.56s\tremaining: 3.03s\n",
      "700:\tlearn: 0.0739533\ttotal: 5.33s\tremaining: 2.27s\n",
      "800:\tlearn: 0.0642293\ttotal: 6.08s\tremaining: 1.51s\n",
      "900:\tlearn: 0.0559490\ttotal: 6.8s\tremaining: 748ms\n",
      "999:\tlearn: 0.0490768\ttotal: 7.55s\tremaining: 0us\n",
      "0:\tlearn: 0.6811262\ttotal: 7.4ms\tremaining: 7.39s\n",
      "100:\tlearn: 0.2530064\ttotal: 825ms\tremaining: 7.34s\n",
      "200:\tlearn: 0.1778081\ttotal: 1.59s\tremaining: 6.34s\n",
      "300:\tlearn: 0.1441920\ttotal: 2.35s\tremaining: 5.46s\n",
      "400:\tlearn: 0.1198783\ttotal: 3.13s\tremaining: 4.68s\n",
      "500:\tlearn: 0.1011887\ttotal: 3.92s\tremaining: 3.9s\n",
      "600:\tlearn: 0.0859388\ttotal: 4.71s\tremaining: 3.13s\n",
      "700:\tlearn: 0.0736962\ttotal: 5.47s\tremaining: 2.33s\n",
      "800:\tlearn: 0.0638771\ttotal: 6.24s\tremaining: 1.55s\n",
      "900:\tlearn: 0.0557217\ttotal: 7s\tremaining: 769ms\n",
      "999:\tlearn: 0.0489908\ttotal: 7.76s\tremaining: 0us\n",
      "0:\tlearn: 0.6810244\ttotal: 7.96ms\tremaining: 7.96s\n",
      "100:\tlearn: 0.2492384\ttotal: 772ms\tremaining: 6.87s\n",
      "200:\tlearn: 0.1709665\ttotal: 1.54s\tremaining: 6.13s\n",
      "300:\tlearn: 0.1354923\ttotal: 2.32s\tremaining: 5.39s\n",
      "400:\tlearn: 0.1127006\ttotal: 3.14s\tremaining: 4.69s\n",
      "500:\tlearn: 0.0953287\ttotal: 3.94s\tremaining: 3.93s\n",
      "600:\tlearn: 0.0810018\ttotal: 4.76s\tremaining: 3.16s\n",
      "700:\tlearn: 0.0696246\ttotal: 5.57s\tremaining: 2.38s\n",
      "800:\tlearn: 0.0604251\ttotal: 6.36s\tremaining: 1.58s\n",
      "900:\tlearn: 0.0530395\ttotal: 7.2s\tremaining: 791ms\n",
      "999:\tlearn: 0.0463230\ttotal: 7.95s\tremaining: 0us\n",
      "0:\tlearn: 0.6820466\ttotal: 7.69ms\tremaining: 7.68s\n",
      "100:\tlearn: 0.2656531\ttotal: 821ms\tremaining: 7.31s\n",
      "200:\tlearn: 0.1887551\ttotal: 1.64s\tremaining: 6.52s\n",
      "300:\tlearn: 0.1535693\ttotal: 2.44s\tremaining: 5.67s\n",
      "400:\tlearn: 0.1288459\ttotal: 3.25s\tremaining: 4.85s\n",
      "500:\tlearn: 0.1102246\ttotal: 4.07s\tremaining: 4.06s\n",
      "600:\tlearn: 0.0954668\ttotal: 4.9s\tremaining: 3.25s\n",
      "700:\tlearn: 0.0829120\ttotal: 5.7s\tremaining: 2.43s\n",
      "800:\tlearn: 0.0725833\ttotal: 6.49s\tremaining: 1.61s\n",
      "900:\tlearn: 0.0637879\ttotal: 7.39s\tremaining: 813ms\n",
      "999:\tlearn: 0.0557404\ttotal: 8.23s\tremaining: 0us\n",
      "{'cat__auto_class_weights': 'SqrtBalanced', 'cat__learning_rate': 0.01, 'pca__n_components': 15, 'selection__k': 70}\n"
     ]
    }
   ],
   "source": [
    "# StratifiedKFold for crossvalidation in GridSearch\n",
    "cros_val = StratifiedKFold(n_splits=5)\n",
    "\n",
    "scaler =  StandardScaler() #Best\n",
    "\n",
    "# scaler2 = MinMaxScaler() \n",
    "\n",
    "# Do feature selection with SelectKBest.\n",
    "feature_selection = SelectKBest(f_classif)  \n",
    "\n",
    "# Oversample data with SMOTE\n",
    "smote = SMOTE(sampling_strategy='minority', random_state=20)\n",
    "\n",
    "# Dimentionality reduction with PCA.\n",
    "pca = PCA() \n",
    "\n",
    "# Pick an estimator to train\n",
    "estimator = CatBoostClassifier(iterations=1000, verbose=100, early_stopping_rounds=50, random_seed=20)\n",
    "\n",
    "# Define a pipeline. Use imblearn library for pipeline to be able to include SMOTE\n",
    "pipeline = imbpipeline(steps = [('scaler', scaler), \n",
    "                                ('selection', feature_selection), \n",
    "                                ('pca', pca), \n",
    "                                ('smote', smote), \n",
    "                                ('cat', estimator)\n",
    "                                ])\n",
    "\n",
    "# Example parameters that should be tested in the GridSearch\n",
    "params = {'selection__k':[40,50,60,70],\n",
    "          'pca__n_components':[7,10,15],\n",
    "          'cat__learning_rate' : [0.1,0.01,0.001],\n",
    "          'cat__auto_class_weights' : ['Balanced', 'SqrtBalanced']\n",
    "         }\n",
    "\n",
    "# use best_params if you do not want to do a full GridSearch (for comparison in later iterations)\n",
    "best_params = {'selection__k':[70],\n",
    "               'pca__n_components':[15],\n",
    "               'cat__learning_rate' : [0.01],\n",
    "               'cat__auto_class_weights' : ['SqrtBalanced']\n",
    "              }\n",
    "\n",
    "# Make a scorer that vaules puts less weight on precision, more weight on recall.\n",
    "from sklearn.metrics import fbeta_score, make_scorer\n",
    "f2_scorer = make_scorer(fbeta_score, beta=2)\n",
    "\n",
    "# GridSearch for hyperparameter-optimization \n",
    "best_model = GridSearchCV(pipeline, best_params, scoring=f2_scorer, cv=cros_val) \n",
    "\n",
    "# fit our model\n",
    "best_model.fit(X_train, y_train)\n",
    "\n",
    "# Prints the best parameters from the GridSearch\n",
    "print(best_model.best_params_)"
   ]
  },
  {
   "cell_type": "code",
   "execution_count": 195,
   "metadata": {},
   "outputs": [
    {
     "name": "stdout",
     "output_type": "stream",
     "text": [
      "              precision    recall  f1-score   support\n",
      "\n",
      "           0       0.99      0.95      0.97      1320\n",
      "           1       0.30      0.66      0.41        44\n",
      "\n",
      "    accuracy                           0.94      1364\n",
      "   macro avg       0.65      0.80      0.69      1364\n",
      "weighted avg       0.97      0.94      0.95      1364\n",
      "\n",
      "f1-score: 0.4143\n",
      "f2-score: 0.5331\n"
     ]
    },
    {
     "data": {
      "image/png": "[encoded data removed]",
      "text/plain": [
       "<Figure size 432x288 with 2 Axes>"
      ]
     },
     "metadata": {
      "needs_background": "light"
     },
     "output_type": "display_data"
    }
   ],
   "source": [
    "# Make a prediction\n",
    "y_pred_test = best_model.predict(X_test) \n",
    "\n",
    "# Print a classification report for our prediction\n",
    "print(classification_report(y_test, y_pred_test))\n",
    "print(f'f1-score: {round(f1_score(y_test, y_pred_test), 4)}')\n",
    "print(f'f2-score: {round(fbeta_score(y_test, y_pred_test, beta=2), 4)}')\n",
    "\n",
    "# Look at testing results in confusion matrix\n",
    "test_conf_matrix = confusion_matrix(y_test, y_pred_test)\n",
    "plot_confusion_matrix(test_conf_matrix, classes=[0, 1], title='CATBoost')"
   ]
  },
  {
   "cell_type": "code",
   "execution_count": null,
   "metadata": {},
   "outputs": [],
   "source": []
  }
 ],
 "metadata": {
  "interpreter": {
   "hash": "95c2d180611c945bf8134b7443aa5095b2b0c0865c1b1cefcfea1d6aad230ac0"
  },
  "kernelspec": {
   "display_name": "Python 3.8.3 ('base')",
   "language": "python",
   "name": "python3"
  },
  "language_info": {
   "codemirror_mode": {
    "name": "ipython",
    "version": 3
   },
   "file_extension": ".py",
   "mimetype": "text/x-python",
   "name": "python",
   "nbconvert_exporter": "python",
   "pygments_lexer": "ipython3",
   "version": "3.8.3"
  },
  "orig_nbformat": 4
 },
 "nbformat": 4,
 "nbformat_minor": 2
}
