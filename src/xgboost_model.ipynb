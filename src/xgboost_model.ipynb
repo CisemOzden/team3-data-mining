{
 "cells": [
  {
   "cell_type": "markdown",
   "metadata": {},
   "source": [
    "## Import necessary libraries"
   ]
  },
  {
   "cell_type": "code",
   "execution_count": 1,
   "metadata": {},
   "outputs": [
    {
     "name": "stderr",
     "output_type": "stream",
     "text": [
      "c:\\UNI\\Jupyter\\envs\\tf\\lib\\site-packages\\xgboost\\compat.py:36: FutureWarning: pandas.Int64Index is deprecated and will be removed from pandas in a future version. Use pandas.Index with the appropriate dtype instead.\n",
      "  from pandas import MultiIndex, Int64Index\n"
     ]
    }
   ],
   "source": [
    "%reset -f\n",
    "import pandas as pd\n",
    "import pickle\n",
    "import numpy\n",
    "import time\n",
    "from sklearn.model_selection import GridSearchCV\n",
    "from sklearn.model_selection import StratifiedKFold\n",
    "from sklearn.pipeline import Pipeline\n",
    "from sklearn.metrics import confusion_matrix\n",
    "from sklearn.metrics import balanced_accuracy_score\n",
    "import xgboost as xgb\n",
    "from matplotlib import pyplot as plt\n",
    "import seaborn as sns\n",
    "# !pip install imblearn\n",
    "from imblearn.pipeline import Pipeline as imbpipeline\n",
    "from imblearn.over_sampling import SMOTE\n",
    "from sklearn.preprocessing import MinMaxScaler, StandardScaler\n",
    "from sklearn.linear_model import LogisticRegression\n",
    "from sklearn.feature_selection import SelectKBest, chi2, f_classif, mutual_info_classif\n",
    "from sklearn.decomposition import PCA\n",
    "from sklearn.metrics import fbeta_score\n",
    "from sklearn.metrics import make_scorer\n",
    "from imblearn.over_sampling import RandomOverSampler\n",
    "\n",
    "import warnings\n",
    "warnings.filterwarnings(\"ignore\")"
   ]
  },
  {
   "cell_type": "code",
   "execution_count": 2,
   "metadata": {},
   "outputs": [],
   "source": [
    "environment_variables = dir()"
   ]
  },
  {
   "cell_type": "markdown",
   "metadata": {},
   "source": [
    "## Definition of model related constants"
   ]
  },
  {
   "cell_type": "code",
   "execution_count": 3,
   "metadata": {},
   "outputs": [],
   "source": [
    "# Input parameters\n",
    "INPUT_TRAINING_FILE =  \"../data/original/training_dataset.csv\"\n",
    "INPUT_EVALUATION_FILE = \"../data/original/evaluation_dataset.csv\"\n",
    "\n",
    "# Output parameters\n",
    "METHOD_NAME = \"xgboost\"\n",
    "TIMESTAMP = time.strftime(\"%d_%m_%Y-%H_%M_%S\")\n",
    "OUTPUT_MODEL = f\"../data/models/{METHOD_NAME}_model_{TIMESTAMP}.pkl\"\n",
    "OUTPUT_RESULTS = f\"../data/results/{METHOD_NAME}_model_{TIMESTAMP}.txt\"\n",
    "\n",
    "# Hyper parameter optimization parameters\n",
    "HYPER_PARAMETER_OPTIMIZATION_SCORING = \"accuracy\"\n",
    "HYPER_PARAMETER_OPTIMIZATION_CV = 5\n",
    "HYPER_PARAMETER_OPTIMIZATION_BETA = 2\n",
    "\n",
    "# Cross validation parameters\n",
    "CROSS_VALIDATION_CV = 5\n",
    "\n",
    "# Other constants\n",
    "LABELS = [\"Operational\", \"Bankrupt\"]\n",
    "RANDOM_SEED = 42\n",
    "\n",
    "# defining custom fbeta scores.\n",
    "def custom_scorer(y_true, y_pred):\n",
    "    return fbeta_score(y_true, y_pred, beta=HYPER_PARAMETER_OPTIMIZATION_BETA)\n",
    "\n",
    "metrics =  ['logloss','rmse']"
   ]
  },
  {
   "cell_type": "code",
   "execution_count": 4,
   "metadata": {},
   "outputs": [],
   "source": [
    "\n",
    "training_dataset = pd.read_csv(INPUT_TRAINING_FILE, engine=\"python\", delimiter=\",\")\n",
    "training_features = training_dataset.loc[:, training_dataset.columns != \"Bankrupt?\"]\n",
    "training_targets = training_dataset[\"Bankrupt?\"]\n",
    "\n",
    "evaluation_dataset = pd.read_csv(INPUT_EVALUATION_FILE, engine=\"python\", delimiter=\",\")\n",
    "evaluation_features = evaluation_dataset.loc[:, evaluation_dataset.columns != \"Bankrupt?\"]\n",
    "evaluation_targets = evaluation_dataset[\"Bankrupt?\"]"
   ]
  },
  {
   "cell_type": "markdown",
   "metadata": {},
   "source": [
    "## Define pipeline"
   ]
  },
  {
   "cell_type": "code",
   "execution_count": 5,
   "metadata": {},
   "outputs": [],
   "source": [
    "# Creating XGB clasifier with internal pipeline\n",
    "\n",
    "# Creating XGB clasifier with internal pipeline\n",
    "classifier = xgb.XGBClassifier(eval_metric=make_scorer(custom_scorer)#'logloss'\n",
    "                            ,seed=RANDOM_SEED)\n",
    "\n",
    "# Stratified Cross Validation, smote, logistic regression, feature selection with SeleckKBest,\n",
    "# hyperparameter optimization with randomized gridsearch\n",
    "smote = SMOTE(sampling_strategy='minority', random_state=20)\n",
    "# ros = RandomOverSampler()\n",
    "# Assumption: data has a Gaussian distribution. Therfore use standardscaler and logistic regression.(Might be wrong, but looks better tha minmaxscaler)\n",
    "scaler = StandardScaler() # is our data already normalised? (Do not think so).\n",
    "\n",
    "feature_selection = SelectKBest(f_classif)\n",
    "pca = PCA() #performs better with PCA\n",
    "\n",
    "# feature selection before smote. Will smote in pipeline be applied to X_test when using predict? Don't want to balance test data!!!\n",
    "# Does not look like smote is fited on test set, which is good.\n",
    "# try and add pca\n",
    "\n",
    "pipeline = imbpipeline(steps = [ ('selection', feature_selection),\n",
    "                                ('pca', pca),\n",
    "                                ('scaler', scaler), \n",
    "                                ('smote', smote),\n",
    "                                # ('ros',ros),\n",
    "                                ('clasification', classifier)])\n",
    "\n",
    "# Setting tunable XBG parameters\n",
    "parameters = {\n",
    "                 \"clasification__learning_rate\": [  0.3],\n",
    "                   \"clasification__n_estimators\": range(15,45,10)\n",
    "                  ,'clasification__max_leaves' : [2,4,6,8,12,24]\n",
    "                  , \"clasification__max_depth\": [6] \n",
    "                  , \"selection__k\": list(range(30, 90, 10))\n",
    "                # , \"ros__sampling_strategy\": [0.05,0.1,0.2,0.3,0.4]\n",
    "                  , \"selection__score_func\": [chi2,f_classif]\n",
    "                  , \"pca__n_components\": [20,30,95]\n",
    "                # ,'smote__k_neighbors': [5,10,15]\n",
    "              }\n",
    "\n",
    "parameters = {\n",
    "                 \"clasification__learning_rate\": [  0.3],\n",
    "                   \"clasification__n_estimators\": [15]\n",
    "                  ,'clasification__max_leaves' : [25]\n",
    "                  , \"clasification__max_depth\": [6] \n",
    "                  , \"selection__k\": [30]\n",
    "                  , \"selection__score_func\": [f_classif]\n",
    "                  , \"pca__n_components\": [22]\n",
    "                ,'smote__k_neighbors': [5]\n",
    "              }\n",
    "\n",
    "\n"
   ]
  },
  {
   "cell_type": "code",
   "execution_count": 6,
   "metadata": {},
   "outputs": [
    {
     "data": {
      "text/plain": [
       "Pipeline(steps=[('selection', SelectKBest()), ('pca', PCA()),\n",
       "                ('scaler', StandardScaler()),\n",
       "                ('smote', SMOTE(random_state=20, sampling_strategy='minority')),\n",
       "                ('clasification',\n",
       "                 XGBClassifier(base_score=None, booster=None,\n",
       "                               colsample_bylevel=None, colsample_bynode=None,\n",
       "                               colsample_bytree=None, enable_categorical=False,\n",
       "                               eval_metric=make_scorer(custom_scorer),\n",
       "                               gamma=None,...\n",
       "                               interaction_constraints=None, learning_rate=None,\n",
       "                               max_delta_step=None, max_depth=None,\n",
       "                               min_child_weight=None, missing=nan,\n",
       "                               monotone_constraints=None, n_estimators=100,\n",
       "                               n_jobs=None, num_parallel_tree=None,\n",
       "                               predictor=None, random_state=None,\n",
       "                               reg_alpha=None, reg_lambda=None,\n",
       "                               scale_pos_weight=None, seed=42, subsample=None,\n",
       "                               tree_method=None, validate_parameters=None,\n",
       "                               verbosity=None))])"
      ]
     },
     "execution_count": 6,
     "metadata": {},
     "output_type": "execute_result"
    }
   ],
   "source": [
    "# Getting the default hyper parameters of XGBoost\n",
    "pipeline"
   ]
  },
  {
   "cell_type": "code",
   "execution_count": 7,
   "metadata": {},
   "outputs": [],
   "source": [
    "# K-fold parameters\n",
    "cv = StratifiedKFold(n_splits=HYPER_PARAMETER_OPTIMIZATION_CV, shuffle=True, random_state=RANDOM_SEED)\n",
    "\n",
    "grid_estimator = GridSearchCV(pipeline\n",
    "                            , parameters\n",
    "                            , scoring=make_scorer(custom_scorer)\n",
    "                            , cv=cv\n",
    "                            , verbose = 3 # Recomended to see the level \n",
    "                            )\n"
   ]
  },
  {
   "cell_type": "code",
   "execution_count": 8,
   "metadata": {},
   "outputs": [],
   "source": [
    "def grid_search_results(grid, params1, params2, name1, name2):\n",
    "    mean_score = grid.cv_results_['mean_test_score']\n",
    "    std_score = grid.cv_results_['std_test_score']\n",
    "    parameters = grid.cv_results_['params']\n",
    "\n",
    "    # All of the results\n",
    "    for mean_val, std_val, par_val in zip(mean_score, std_score, parameters):\n",
    "        print(f\" Mean {mean_score}, Std: {std_score}, parameters {parameters}\")"
   ]
  },
  {
   "cell_type": "markdown",
   "metadata": {},
   "source": [
    "## Training"
   ]
  },
  {
   "cell_type": "code",
   "execution_count": 9,
   "metadata": {},
   "outputs": [
    {
     "name": "stdout",
     "output_type": "stream",
     "text": [
      "Fitting 5 folds for each of 1 candidates, totalling 5 fits\n",
      "[CV 1/5] END clasification__learning_rate=0.3, clasification__max_depth=6, clasification__max_leaves=25, clasification__n_estimators=15, pca__n_components=22, selection__k=30, selection__score_func=<function f_classif at 0x00000238E9B15C10>, smote__k_neighbors=5;, score=0.600 total time=   2.5s\n",
      "[CV 2/5] END clasification__learning_rate=0.3, clasification__max_depth=6, clasification__max_leaves=25, clasification__n_estimators=15, pca__n_components=22, selection__k=30, selection__score_func=<function f_classif at 0x00000238E9B15C10>, smote__k_neighbors=5;, score=0.399 total time=   0.6s\n",
      "[CV 3/5] END clasification__learning_rate=0.3, clasification__max_depth=6, clasification__max_leaves=25, clasification__n_estimators=15, pca__n_components=22, selection__k=30, selection__score_func=<function f_classif at 0x00000238E9B15C10>, smote__k_neighbors=5;, score=0.420 total time=   1.2s\n",
      "[CV 4/5] END clasification__learning_rate=0.3, clasification__max_depth=6, clasification__max_leaves=25, clasification__n_estimators=15, pca__n_components=22, selection__k=30, selection__score_func=<function f_classif at 0x00000238E9B15C10>, smote__k_neighbors=5;, score=0.430 total time=   2.5s\n",
      "[CV 5/5] END clasification__learning_rate=0.3, clasification__max_depth=6, clasification__max_leaves=25, clasification__n_estimators=15, pca__n_components=22, selection__k=30, selection__score_func=<function f_classif at 0x00000238E9B15C10>, smote__k_neighbors=5;, score=0.537 total time=   4.3s\n"
     ]
    },
    {
     "data": {
      "text/plain": [
       "GridSearchCV(cv=StratifiedKFold(n_splits=5, random_state=42, shuffle=True),\n",
       "             estimator=Pipeline(steps=[('selection', SelectKBest()),\n",
       "                                       ('pca', PCA()),\n",
       "                                       ('scaler', StandardScaler()),\n",
       "                                       ('smote',\n",
       "                                        SMOTE(random_state=20,\n",
       "                                              sampling_strategy='minority')),\n",
       "                                       ('clasification',\n",
       "                                        XGBClassifier(base_score=None,\n",
       "                                                      booster=None,\n",
       "                                                      colsample_bylevel=None,\n",
       "                                                      colsample_bynode=None,\n",
       "                                                      colsample_bytr...\n",
       "                                                      validate_parameters=None,\n",
       "                                                      verbosity=None))]),\n",
       "             param_grid={'clasification__learning_rate': [0.3],\n",
       "                         'clasification__max_depth': [6],\n",
       "                         'clasification__max_leaves': [25],\n",
       "                         'clasification__n_estimators': [15],\n",
       "                         'pca__n_components': [22], 'selection__k': [30],\n",
       "                         'selection__score_func': [<function f_classif at 0x00000238E9B15C10>],\n",
       "                         'smote__k_neighbors': [5]},\n",
       "             scoring=make_scorer(custom_scorer), verbose=3)"
      ]
     },
     "execution_count": 9,
     "metadata": {},
     "output_type": "execute_result"
    }
   ],
   "source": [
    "\n",
    "grid_estimator.fit(training_features, training_targets \n",
    ", clasification__eval_metric = metrics )"
   ]
  },
  {
   "cell_type": "markdown",
   "metadata": {},
   "source": [
    "## Best score and model parameters\n",
    "\n",
    "- F-Beta (2) score = 0.477276"
   ]
  },
  {
   "cell_type": "code",
   "execution_count": 10,
   "metadata": {},
   "outputs": [
    {
     "name": "stdout",
     "output_type": "stream",
     "text": [
      "Best model: Acc. Score = 0.477276, with parameters {'clasification__learning_rate': 0.3, 'clasification__max_depth': 6, 'clasification__max_leaves': 25, 'clasification__n_estimators': 15, 'pca__n_components': 22, 'selection__k': 30, 'selection__score_func': <function f_classif at 0x00000238E9B15C10>, 'smote__k_neighbors': 5}\n"
     ]
    }
   ],
   "source": [
    "print(\"Best model: F-Beta. Score = %f, with parameters %s\" % (grid_estimator.best_score_, grid_estimator.best_params_))"
   ]
  },
  {
   "cell_type": "markdown",
   "metadata": {},
   "source": [
    "## Value metrics"
   ]
  },
  {
   "cell_type": "code",
   "execution_count": 11,
   "metadata": {},
   "outputs": [
    {
     "name": "stdout",
     "output_type": "stream",
     "text": [
      "[15:33:29] WARNING: C:/Users/Administrator/workspace/xgboost-win64_release_1.5.1/src/learner.cc:1115: Starting in XGBoost 1.3.0, the default evaluation metric used with the objective 'binary:logistic' was changed from 'error' to 'logloss'. Explicitly set eval_metric if you'd like to restore the old behavior.\n",
      "[15:33:37] WARNING: C:/Users/Administrator/workspace/xgboost-win64_release_1.5.1/src/learner.cc:1115: Starting in XGBoost 1.3.0, the default evaluation metric used with the objective 'binary:logistic' was changed from 'error' to 'logloss'. Explicitly set eval_metric if you'd like to restore the old behavior.\n",
      "[15:33:42] WARNING: C:/Users/Administrator/workspace/xgboost-win64_release_1.5.1/src/learner.cc:1115: Starting in XGBoost 1.3.0, the default evaluation metric used with the objective 'binary:logistic' was changed from 'error' to 'logloss'. Explicitly set eval_metric if you'd like to restore the old behavior.\n",
      "[15:33:45] WARNING: C:/Users/Administrator/workspace/xgboost-win64_release_1.5.1/src/learner.cc:1115: Starting in XGBoost 1.3.0, the default evaluation metric used with the objective 'binary:logistic' was changed from 'error' to 'logloss'. Explicitly set eval_metric if you'd like to restore the old behavior.\n",
      "[15:33:50] WARNING: C:/Users/Administrator/workspace/xgboost-win64_release_1.5.1/src/learner.cc:1115: Starting in XGBoost 1.3.0, the default evaluation metric used with the objective 'binary:logistic' was changed from 'error' to 'logloss'. Explicitly set eval_metric if you'd like to restore the old behavior.\n",
      "roc_auc = 0.903710 (0.025371)\n",
      "roc_auc of evaluation nan (nan)\n"
     ]
    }
   ],
   "source": [
    "from sklearn.model_selection import cross_val_score\n",
    "\n",
    "scores = cross_val_score(pipeline, training_features, training_targets, cv=cv, scoring = 'roc_auc')\n",
    "print(\"roc_auc = %f (%f)\" % (scores.mean(), scores.std()))\n",
    "\n",
    "evaluation_estimates = grid_estimator.predict(evaluation_features)\n",
    "scores = cross_val_score(pipeline, evaluation_targets, evaluation_estimates, cv=cv, scoring = 'roc_auc')\n",
    "print(\"roc_auc of evaluation %f (%f)\" % (scores.mean(), scores.std()))"
   ]
  },
  {
   "cell_type": "code",
   "execution_count": 12,
   "metadata": {},
   "outputs": [],
   "source": [
    "def confusion_matrix_to_string(cm):\n",
    "    return f\"True operational={cm[0][0]}, True bankrupt={cm[1][1]}, False operational={cm[0][1]}, False bankrupt={cm[1][0]}\"\n",
    "\n",
    "# Use all training data to calculate confusion matrix for training data\n",
    "training_estimates = grid_estimator.predict(training_features)\n",
    "training_accuracy = balanced_accuracy_score(training_targets, training_estimates)\n",
    "training_confusion_matrix = confusion_matrix(training_targets, training_estimates)\n",
    "training_confusion_matrix = confusion_matrix_to_string(training_confusion_matrix)\n",
    "\n",
    "# Use model to estimate manually labeled evaluations\n",
    "evaluation_estimates = grid_estimator.predict(evaluation_features)\n",
    "evaluation_accuracy = balanced_accuracy_score(evaluation_targets, evaluation_estimates)\n",
    "evaluation_confusion_matrix = confusion_matrix(evaluation_targets, evaluation_estimates)\n",
    "evaluation_confusion_matrix = confusion_matrix_to_string(evaluation_confusion_matrix)"
   ]
  },
  {
   "cell_type": "code",
   "execution_count": 13,
   "metadata": {},
   "outputs": [
    {
     "name": "stdout",
     "output_type": "stream",
     "text": [
      "Training evaluation\n",
      "              precision    recall  f1-score   support\n",
      "\n",
      "           0       1.00      0.95      0.98      5279\n",
      "           1       0.41      1.00      0.58       176\n",
      "\n",
      "    accuracy                           0.95      5455\n",
      "   macro avg       0.70      0.98      0.78      5455\n",
      "weighted avg       0.98      0.95      0.96      5455\n",
      "\n",
      "Validation/evaluation\n",
      "              precision    recall  f1-score   support\n",
      "\n",
      "           0       0.99      0.91      0.94      1320\n",
      "           1       0.19      0.66      0.29        44\n",
      "\n",
      "    accuracy                           0.90      1364\n",
      "   macro avg       0.59      0.78      0.62      1364\n",
      "weighted avg       0.96      0.90      0.92      1364\n",
      "\n"
     ]
    }
   ],
   "source": [
    "from sklearn.metrics import confusion_matrix, classification_report, roc_curve, recall_score, make_scorer\n",
    "print(\"Training evaluation\")\n",
    "y_pred_train = grid_estimator.predict(training_features) #prediction on our train \n",
    "# y_pred_train = numpy.argmax(y_pred_train,axis=1)\n",
    "print(classification_report(training_targets, y_pred_train))\n",
    "train_conf_matrix = confusion_matrix(training_targets, y_pred_train)\n",
    "\n",
    "print(\"Validation/evaluation\")\n",
    "y_pred_test = grid_estimator.predict(evaluation_features) # prediction on our test set\n",
    "# y_pred_test = numpy.argmax(y_pred_test,axis=1)\n",
    "print(classification_report(evaluation_targets, y_pred_test))\n",
    "test_conf_matrix = confusion_matrix(evaluation_targets, y_pred_test)\n"
   ]
  },
  {
   "cell_type": "code",
   "execution_count": 14,
   "metadata": {},
   "outputs": [
    {
     "name": "stdout",
     "output_type": "stream",
     "text": [
      "-- Model Specs --\n",
      "  - Test Accuracy 0.9532538955087076 % \n",
      "  - RMSLE 0.1498642945860574  \n",
      "[[5024  255]\n",
      " [   0  176]]\n"
     ]
    },
    {
     "data": {
      "image/png": "[encoded data removed]",
      "text/plain": [
       "<Figure size 432x288 with 2 Axes>"
      ]
     },
     "metadata": {
      "needs_background": "light"
     },
     "output_type": "display_data"
    },
    {
     "name": "stdout",
     "output_type": "stream",
     "text": [
      "-- Model Specs --\n",
      "  - Test Accuracy 0.8973607038123167 % \n",
      "  - RMSLE 0.2220661144790339  \n",
      "[[1195  125]\n",
      " [  15   29]]\n"
     ]
    },
    {
     "data": {
      "image/png": "[encoded data removed]",
      "text/plain": [
       "<Figure size 432x288 with 2 Axes>"
      ]
     },
     "metadata": {
      "needs_background": "light"
     },
     "output_type": "display_data"
    }
   ],
   "source": [
    "from sklearn.metrics import accuracy_score, f1_score\n",
    "from sklearn.metrics import mean_squared_log_error\n",
    "\n",
    "def RMSLE(y_true, y_pred):\n",
    "    return numpy.sqrt(mean_squared_log_error(y_true, y_pred))\n",
    "\n",
    "from sklearn.metrics import confusion_matrix\n",
    "def full_conf_mat(y_test, y_pred, data_title=\"Confusion Matrix of Training data\"):\n",
    "    \n",
    "    print('-- Model Specs --')\n",
    "    print(f\"  - Test Accuracy {accuracy_score(y_test, y_pred)} % \")\n",
    "    print(f\"  - RMSLE {RMSLE(y_test,y_pred)}  \")\n",
    "\n",
    "    #Generate the confusion matrix\n",
    "    cf_matrix = confusion_matrix(y_test, y_pred)\n",
    "    print(cf_matrix)\n",
    "    import seaborn as sns\n",
    "    ax = sns.heatmap(cf_matrix, annot=True, cmap='Blues')\n",
    "    ax.set_title(f'{data_title}\\n\\n');\n",
    "    ax.set_xlabel('\\nPredicted Values')\n",
    "    ax.set_ylabel('Actual Values ');\n",
    "    ax.xaxis.set_ticklabels(['False','True'])\n",
    "    ax.yaxis.set_ticklabels(['False','True'])\n",
    "    plt.show()\n",
    "    \n",
    "full_conf_mat(training_targets, training_estimates, \"Confusion Matrix of Training data\")\n",
    "\n",
    "full_conf_mat(evaluation_targets, evaluation_estimates, \"Confusion Matrix of Validation/Evaluation data\")\n"
   ]
  },
  {
   "cell_type": "code",
   "execution_count": 15,
   "metadata": {},
   "outputs": [
    {
     "name": "stdout",
     "output_type": "stream",
     "text": [
      "GridSearchCV(cv=StratifiedKFold(n_splits=5, random_state=42, shuffle=True),\n",
      "             estimator=Pipeline(steps=[('selection', SelectKBest()),\n",
      "                                       ('pca', PCA()),\n",
      "                                       ('scaler', StandardScaler()),\n",
      "                                       ('smote',\n",
      "                                        SMOTE(random_state=20,\n",
      "                                              sampling_strategy='minority')),\n",
      "                                       ('clasification',\n",
      "                                        XGBClassifier(base_score=None,\n",
      "                                                      booster=None,\n",
      "                                                      colsample_bylevel=None,\n",
      "                                                      colsample_bynode=None,\n",
      "                                                      colsample_bytr...\n",
      "                                                      validate_parameters=None,\n",
      "                                                      verbosity=None))]),\n",
      "             param_grid={'clasification__learning_rate': [0.3],\n",
      "                         'clasification__max_depth': [6],\n",
      "                         'clasification__max_leaves': [25],\n",
      "                         'clasification__n_estimators': [15],\n",
      "                         'pca__n_components': [22], 'selection__k': [30],\n",
      "                         'selection__score_func': [<function f_classif at 0x00000238E9B15C10>],\n",
      "                         'smote__k_neighbors': [5]},\n",
      "             scoring=make_scorer(custom_scorer), verbose=3)\n"
     ]
    },
    {
     "data": {
      "image/png": "[encoded data removed]",
      "text/plain": [
       "<Figure size 720x360 with 1 Axes>"
      ]
     },
     "metadata": {
      "needs_background": "light"
     },
     "output_type": "display_data"
    }
   ],
   "source": [
    "def plot_xgb(params,scores,epo):\n",
    "    for m in params:\n",
    "        test_ = scores['validation_0'][m]\n",
    "        train_ = scores['validation_1'][m]\n",
    "        rang = range(0, epo)\n",
    "        \n",
    "        plt.plot(rang, test_, label=\"Val\")\n",
    "        plt.plot(rang, train_, label=\"Train\")\n",
    "        plt.title(m + \" plot\")\n",
    "        plt.xlabel('Iterations')\n",
    "        plt.ylabel(m)\n",
    "        lgd = plt.legend()\n",
    "        plt.show()\n",
    "\n",
    "\n",
    " \n",
    "print(grid_estimator)\n",
    "\n",
    "f, ax = plt.subplots(figsize=(10,5))\n",
    "\n",
    "# Plot of features\n",
    "keys  = evaluation_dataset.columns.to_list() \n",
    "yy = grid_estimator.best_estimator_.named_steps[\"clasification\"].feature_importances_\n",
    "\n",
    "feature_important  = grid_estimator.best_estimator_.named_steps[\"clasification\"].get_booster().get_score(importance_type='gain')\n",
    "keys = list(feature_important.keys())\n",
    "yy = list(feature_important.values())\n",
    "\n",
    "\n",
    "plot = sns.barplot(x=keys, y=yy, color='blue')\n",
    "ax.set_title('Feature Importance')\n",
    "plot.set_xticklabels(plot.get_xticklabels(),rotation='vertical')\n",
    "plt.show()"
   ]
  },
  {
   "cell_type": "markdown",
   "metadata": {},
   "source": [
    "## Saving trained model"
   ]
  },
  {
   "cell_type": "code",
   "execution_count": 16,
   "metadata": {},
   "outputs": [],
   "source": [
    "with open(OUTPUT_MODEL, \"wb\") as handle:\n",
    "    pickle.dump(grid_estimator, handle, protocol=pickle.HIGHEST_PROTOCOL)"
   ]
  },
  {
   "cell_type": "markdown",
   "metadata": {},
   "source": [
    "## Saving metadata"
   ]
  },
  {
   "cell_type": "code",
   "execution_count": 17,
   "metadata": {},
   "outputs": [
    {
     "name": "stdout",
     "output_type": "stream",
     "text": [
      "CROSS_VALIDATION_CV: 5\n",
      "HYPER_PARAMETER_CLASS_WEIGHT: balanced\n",
      "HYPER_PARAMETER_OPTIMIZATION_BETA: 2\n",
      "HYPER_PARAMETER_OPTIMIZATION_CV: 5\n",
      "HYPER_PARAMETER_OPTIMIZATION_SCORING: accuracy\n",
      "INPUT_EVALUATION_FILE: ../data/original/evaluation_dataset.csv\n",
      "INPUT_TRAINING_FILE: ../data/original/training_dataset.csv\n",
      "LABELS: ['Operational', 'Bankrupt']\n",
      "METHOD_NAME: xgboost\n",
      "OUTPUT_MODEL: ../data/models/xgboost_model_20_05_2022-15_33_02.pkl\n",
      "OUTPUT_RESULTS: ../data/results/xgboost_model_20_05_2022-15_33_02.txt\n",
      "PUNISHMENT_FOR_FALSE_BANKRUPT_PREDICTION: 100\n",
      "RANDOM_SEED: 42\n",
      "TIMESTAMP: 20_05_2022-15_33_02\n",
      "evaluation_accuracy: 0.7821969696969697\n",
      "evaluation_confusion_matrix: True operational=1195, True bankrupt=29, False operational=125, False bankrupt=15\n",
      "feature_important: {'f0': 259.03753662109375, 'f1': 47.23134994506836, 'f2': 23.99347496032715, 'f3': 13.129396438598633, 'f4': 16.91267204284668, 'f5': 19.364234924316406, 'f6': 45.05959701538086, 'f7': 12.970353126525879, 'f8': 11.281243324279785, 'f9': 11.04594898223877, 'f10': 11.484067916870117, 'f11': 3.662355899810791, 'f12': 14.43491268157959, 'f13': 14.828337669372559, 'f14': 23.65195655822754, 'f15': 17.883113861083984, 'f16': 22.130504608154297, 'f17': 18.78519630432129, 'f18': 31.55034637451172, 'f19': 29.220502853393555, 'f20': 15.323838233947754, 'f21': 44.98016357421875}\n",
      "keys: ['f0', 'f1', 'f2', 'f3', 'f4', 'f5', 'f6', 'f7', 'f8', 'f9', 'f10', 'f11', 'f12', 'f13', 'f14', 'f15', 'f16', 'f17', 'f18', 'f19', 'f20', 'f21']\n",
      "metrics: ['logloss', 'rmse']\n",
      "parameters: {'clasification__learning_rate': [0.3], 'clasification__n_estimators': [15], 'clasification__max_leaves': [25], 'clasification__max_depth': [6], 'selection__k': [30], 'selection__score_func': [<function f_classif at 0x00000238E9B15C10>], 'pca__n_components': [22], 'smote__k_neighbors': [5]}\n",
      "training_accuracy: 0.9758476984277324\n",
      "training_confusion_matrix: True operational=5024, True bankrupt=176, False operational=255, False bankrupt=0\n",
      "yy: [259.03753662109375, 47.23134994506836, 23.99347496032715, 13.129396438598633, 16.91267204284668, 19.364234924316406, 45.05959701538086, 12.970353126525879, 11.281243324279785, 11.04594898223877, 11.484067916870117, 3.662355899810791, 14.43491268157959, 14.828337669372559, 23.65195655822754, 17.883113861083984, 22.130504608154297, 18.78519630432129, 31.55034637451172, 29.220502853393555, 15.323838233947754, 44.98016357421875]\n",
      "\n",
      "Best model: Acc. Score = 0.477276, with parameters {'clasification__learning_rate': 0.3, 'clasification__max_depth': 6, 'clasification__max_leaves': 25, 'clasification__n_estimators': 15, 'pca__n_components': 22, 'selection__k': 30, 'selection__score_func': <function f_classif at 0x00000238E9B15C10>, 'smote__k_neighbors': 5}\n"
     ]
    }
   ],
   "source": [
    "current_variables = dir()\n",
    "\n",
    "results_string = \"\"\n",
    "\n",
    "for variable in current_variables:\n",
    "    # Skip environment variables and their container variable\n",
    "    # Ignore also underscore variables\n",
    "    if variable in environment_variables or variable == \"environment_variables\" or variable.startswith(\"_\"):\n",
    "        continue\n",
    "\n",
    "    # Get variables value\n",
    "    variable_value = globals()[variable]\n",
    "\n",
    "    # If variable is numerical or string, append it to results\n",
    "    if type(variable_value) is str or type(variable_value) is int or \\\n",
    "        type(variable_value) is float or type(variable_value) is list or \\\n",
    "        type(variable_value) is numpy.float64 or type(variable_value) is dict:\n",
    "        results_string += f\"{variable}: {variable_value}\\n\"\n",
    "\n",
    "# Print results to screen\n",
    "# for line in results_string:\n",
    "print(f'{results_string}')\n",
    "print(\"Best model: Acc. Score = %f, with parameters %s\" % (grid_estimator.best_score_, grid_estimator.best_params_))\n",
    "\n",
    "\n",
    "# Save results to file\n",
    "with open(OUTPUT_RESULTS, \"w\") as file:\n",
    "    file.write(results_string)\n",
    "    file.write(str(\"Best model: Acc. Score = %f, with parameters %s\" % (grid_estimator.best_score_, grid_estimator.best_params_)))"
   ]
  }
 ],
 "metadata": {
  "interpreter": {
   "hash": "7d2cc45be89154c81e316490ce08739f90b548aca5356e8d287f3c1f6b5a8c71"
  },
  "kernelspec": {
   "display_name": "Python 3.9.7 ('tf')",
   "language": "python",
   "name": "python3"
  },
  "language_info": {
   "codemirror_mode": {
    "name": "ipython",
    "version": 3
   },
   "file_extension": ".py",
   "mimetype": "text/x-python",
   "name": "python",
   "nbconvert_exporter": "python",
   "pygments_lexer": "ipython3",
   "version": "3.9.7"
  }
 },
 "nbformat": 4,
 "nbformat_minor": 2
}
