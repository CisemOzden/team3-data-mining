{
 "cells": [
  {
   "cell_type": "markdown",
   "metadata": {},
   "source": [
    "## Import necessary libraries"
   ]
  },
  {
   "cell_type": "code",
   "execution_count": 71,
   "metadata": {},
   "outputs": [],
   "source": [
    "%reset -f\n",
    "import pandas as pd\n",
    "\n",
    "import pickle\n",
    "import numpy\n",
    "import time\n",
    "from sklearn.model_selection import GridSearchCV\n",
    "from sklearn.model_selection import StratifiedKFold\n",
    "from sklearn.pipeline import Pipeline\n",
    "from sklearn.metrics import confusion_matrix\n",
    "from sklearn.metrics import balanced_accuracy_score\n",
    "import xgboost as xgb\n",
    "from matplotlib import pyplot as plt\n",
    "import seaborn as sns\n",
    "# !pip install imblearn\n",
    "from imblearn.pipeline import Pipeline as imbpipeline\n",
    "from imblearn.over_sampling import SMOTE\n",
    "from sklearn.preprocessing import MinMaxScaler, StandardScaler\n",
    "from sklearn.linear_model import LogisticRegression\n",
    "from sklearn.feature_selection import SelectKBest, chi2, f_classif, mutual_info_classif\n",
    "from sklearn.decomposition import PCA\n",
    "from sklearn.metrics import fbeta_score\n",
    "from sklearn.metrics import make_scorer\n",
    "\n",
    "import warnings\n",
    "warnings.filterwarnings(\"ignore\")"
   ]
  },
  {
   "cell_type": "code",
   "execution_count": 72,
   "metadata": {},
   "outputs": [],
   "source": [
    "environment_variables = dir()"
   ]
  },
  {
   "cell_type": "markdown",
   "metadata": {},
   "source": [
    "## Definition of model related constants"
   ]
  },
  {
   "cell_type": "code",
   "execution_count": 73,
   "metadata": {},
   "outputs": [],
   "source": [
    "# Input parameters\n",
    "INPUT_TRAINING_FILE =  \"../data/original/training_dataset.csv\"\n",
    "INPUT_EVALUATION_FILE = \"../data/original/evaluation_dataset.csv\"\n",
    "\n",
    "# Output parameters\n",
    "METHOD_NAME = \"xgboost\"\n",
    "TIMESTAMP = time.strftime(\"%d_%m_%Y-%H_%M_%S\")\n",
    "OUTPUT_MODEL = f\"../data/models/{METHOD_NAME}_model_{TIMESTAMP}.pkl\"\n",
    "OUTPUT_RESULTS = f\"../data/results/{METHOD_NAME}_model_{TIMESTAMP}.txt\"\n",
    "\n",
    "# Bankrupt companies must have higher weight, because there are fewer samples\n",
    "# HYPER_PARAMETER_CLASS_WEIGHT = {0: 1.0, 1: 100.0}\n",
    "HYPER_PARAMETER_CLASS_WEIGHT = \"balanced\"\n",
    "\n",
    "# Hyper parameter optimization parameters\n",
    "HYPER_PARAMETER_OPTIMIZATION_SCORING = \"accuracy\"\n",
    "HYPER_PARAMETER_OPTIMIZATION_CV = 5\n",
    "\n",
    "HYPER_PARAMETER_OPTIMIZATION_BETA = 2\n",
    "\n",
    "# Cross validation parameters\n",
    "CROSS_VALIDATION_CV = 5\n",
    "\n",
    "# Cost parameterss\n",
    "PUNISHMENT_FOR_FALSE_BANKRUPT_PREDICTION = 100\n",
    "\n",
    "# Other constants\n",
    "LABELS = [\"Operational\", \"Bankrupt\"]\n",
    "RANDOM_SEED = 42\n",
    "#####################\n",
    "\n",
    "def custom_scorer(y_true, y_pred):\n",
    "    return fbeta_score(y_true, y_pred, beta=HYPER_PARAMETER_OPTIMIZATION_BETA)\n",
    "\n",
    "metrics =  ['logloss','rmse']"
   ]
  },
  {
   "cell_type": "code",
   "execution_count": 74,
   "metadata": {},
   "outputs": [],
   "source": [
    "training_dataset = pd.read_csv(INPUT_TRAINING_FILE, engine=\"python\", delimiter=\",\")\n",
    "training_features = training_dataset.loc[:, training_dataset.columns != \"Bankrupt?\"]\n",
    "training_targets = training_dataset[\"Bankrupt?\"]\n",
    "\n",
    "evaluation_dataset = pd.read_csv(INPUT_EVALUATION_FILE, engine=\"python\", delimiter=\",\")\n",
    "evaluation_features = evaluation_dataset.loc[:, evaluation_dataset.columns != \"Bankrupt?\"]\n",
    "evaluation_targets = evaluation_dataset[\"Bankrupt?\"]"
   ]
  },
  {
   "cell_type": "markdown",
   "metadata": {},
   "source": [
    "## Define pipeline"
   ]
  },
  {
   "cell_type": "code",
   "execution_count": 75,
   "metadata": {},
   "outputs": [],
   "source": [
    "# Creating XGB clasifier with internal pipeline\n",
    "from imblearn.over_sampling import RandomOverSampler\n",
    "\n",
    "# Creating XGB clasifier with internal pipeline\n",
    "classifier = xgb.XGBClassifier(eval_metric=make_scorer(custom_scorer)#'logloss'\n",
    "                            ,seed=RANDOM_SEED)\n",
    "\n",
    "# Stratified Cross Validation, smote, logistic regression, feature selection with SeleckKBest,\n",
    "# hyperparameter optimization with randomized gridsearch\n",
    "smote = SMOTE(sampling_strategy='minority', random_state=20)\n",
    "# ros = RandomOverSampler()\n",
    "# Assumption: data has a Gaussian distribution. Therfore use standardscaler and logistic regression.(Might be wrong, but looks better tha minmaxscaler)\n",
    "scaler = StandardScaler() # is our data already normalised? (Do not think so).\n",
    "\n",
    "feature_selection = SelectKBest(f_classif)\n",
    "pca = PCA() #performs better with PCA\n",
    "\n",
    "# feature selection before smote. Will smote in pipeline be applied to X_test when using predict? Don't want to balance test data!!!\n",
    "# Does not look like smote is fited on test set, which is good.\n",
    "# try and add pca\n",
    "\n",
    "pipeline = imbpipeline(steps = [ ('selection', feature_selection),\n",
    "                                ('pca', pca),\n",
    "                                ('scaler', scaler), \n",
    "                                ('smote', smote),\n",
    "                                # ('ros',ros),\n",
    "                                ('clasification', classifier)])\n",
    "\n",
    "# Setting tunable XBG parameters\n",
    "parameters = {\n",
    "                 \"clasification__learning_rate\": [  0.3],\n",
    "                   \"clasification__n_estimators\": range(15,45,10)\n",
    "                  ,'clasification__max_leaves' : [2,4,6,8,12,24]\n",
    "                  , \"clasification__max_depth\": [6] \n",
    "                  , \"selection__k\": list(range(30, 90, 10))\n",
    "                # , \"ros__sampling_strategy\": [0.05,0.1,0.2,0.3,0.4]\n",
    "                  , \"selection__score_func\": [chi2,f_classif]\n",
    "                  , \"pca__n_components\": [20,30,95]\n",
    "                # ,'smote__k_neighbors': [5,10,15]\n",
    "\n",
    "              }\n",
    "\n",
    "# Best paramns\n",
    "# parameters = {'clasification__learning_rate': [0.3], 'clasification__max_depth': [19], 'clasification__n_estimators': [50], 'clasification__max_leaves' :[2], 'clasification__n_estimators': [40]}\n",
    "\n",
    "\n"
   ]
  },
  {
   "cell_type": "code",
   "execution_count": 76,
   "metadata": {},
   "outputs": [
    {
     "data": {
      "text/plain": [
       "Pipeline(steps=[('selection', SelectKBest()), ('pca', PCA()),\n",
       "                ('scaler', StandardScaler()),\n",
       "                ('clasification',\n",
       "                 XGBClassifier(base_score=None, booster=None,\n",
       "                               colsample_bylevel=None, colsample_bynode=None,\n",
       "                               colsample_bytree=None, enable_categorical=False,\n",
       "                               eval_metric=make_scorer(custom_scorer),\n",
       "                               gamma=None, gpu_id=None, importance_type=None,\n",
       "                               interaction_constraints=None, learning_rate=None,\n",
       "                               max_delta_step=None, max_depth=None,\n",
       "                               min_child_weight=None, missing=nan,\n",
       "                               monotone_constraints=None, n_estimators=100,\n",
       "                               n_jobs=None, num_parallel_tree=None,\n",
       "                               predictor=None, random_state=None,\n",
       "                               reg_alpha=None, reg_lambda=None,\n",
       "                               scale_pos_weight=None, seed=42, subsample=None,\n",
       "                               tree_method=None, validate_parameters=None,\n",
       "                               verbosity=None))])"
      ]
     },
     "execution_count": 76,
     "metadata": {},
     "output_type": "execute_result"
    }
   ],
   "source": [
    "# Getting the default hyper parameters of XGBoost\n",
    "pipeline"
   ]
  },
  {
   "cell_type": "code",
   "execution_count": 77,
   "metadata": {},
   "outputs": [],
   "source": [
    "# Best model: Acc. Score = 0.945555, with parameters {'clasification__learning_rate': 0.3, 'clasification__max_depth': 19 , 'clasification__max_leaves': 2, 'clasification__n_estimators': 40}\n",
    "# Best model: Val. ; 69.13 ; Acc. Score = 0.969936, with parameters {'clasification__learning_rate': 0.3, 'clasification__max_depth': 4, 'clasification__n_estimators': 50}\n",
    "\n",
    "# K-fold parameters\n",
    "cv = StratifiedKFold(n_splits=HYPER_PARAMETER_OPTIMIZATION_CV, shuffle=True, random_state=RANDOM_SEED)\n",
    "\n",
    "grid_estimator = GridSearchCV(pipeline\n",
    "                            , parameters\n",
    "                            , scoring=make_scorer(custom_scorer)#HYPER_PARAMETER_OPTIMIZATION_SCORING\n",
    "                            , cv=cv\n",
    "                            , verbose = 3 # Recomended to see the level \n",
    "                            )\n"
   ]
  },
  {
   "cell_type": "code",
   "execution_count": 78,
   "metadata": {},
   "outputs": [],
   "source": [
    "def grid_search_results(grid, params1, params2, name1, name2):\n",
    "    mean_score = grid.cv_results_['mean_test_score']\n",
    "    std_score = grid.cv_results_['std_test_score']\n",
    "    parameters = grid.cv_results_['params']\n",
    "\n",
    "    # All of the results\n",
    "    for mean_val, std_val, par_val in zip(mean_score, std_score, parameters):\n",
    "        print(f\" Mean {mean_score}, Std: {std_score}, parameters {parameters}\")"
   ]
  },
  {
   "cell_type": "markdown",
   "metadata": {},
   "source": [
    "## Training"
   ]
  },
  {
   "cell_type": "code",
   "execution_count": 79,
   "metadata": {},
   "outputs": [
    {
     "name": "stdout",
     "output_type": "stream",
     "text": [
      "Fitting 5 folds for each of 648 candidates, totalling 3240 fits\n",
      "[CV 1/5] END clasification__learning_rate=0.3, clasification__max_depth=6, clasification__max_leaves=2, clasification__n_estimators=15, pca__n_components=20, selection__k=30, selection__score_func=<function chi2 at 0x000001BD9E055310>;, score=0.000 total time=   0.1s\n",
      "[CV 2/5] END clasification__learning_rate=0.3, clasification__max_depth=6, clasification__max_leaves=2, clasification__n_estimators=15, pca__n_components=20, selection__k=30, selection__score_func=<function chi2 at 0x000001BD9E055310>;, score=0.000 total time=   0.1s\n",
      "[CV 3/5] END clasification__learning_rate=0.3, clasification__max_depth=6, clasification__max_leaves=2, clasification__n_estimators=15, pca__n_components=20, selection__k=30, selection__score_func=<function chi2 at 0x000001BD9E055310>;, score=0.000 total time=   0.3s\n",
      "[CV 4/5] END clasification__learning_rate=0.3, clasification__max_depth=6, clasification__max_leaves=2, clasification__n_estimators=15, pca__n_components=20, selection__k=30, selection__score_func=<function chi2 at 0x000001BD9E055310>;, score=0.103 total time=   0.1s\n",
      "[CV 5/5] END clasification__learning_rate=0.3, clasification__max_depth=6, clasification__max_leaves=2, clasification__n_estimators=15, pca__n_components=20, selection__k=30, selection__score_func=<function chi2 at 0x000001BD9E055310>;, score=0.034 total time=   0.1s\n",
      "[CV 1/5] END clasification__learning_rate=0.3, clasification__max_depth=6, clasification__max_leaves=2, clasification__n_estimators=15, pca__n_components=20, selection__k=30, selection__score_func=<function f_classif at 0x000001BD9E0551F0>;, score=0.135 total time=   0.1s\n",
      "[CV 2/5] END clasification__learning_rate=0.3, clasification__max_depth=6, clasification__max_leaves=2, clasification__n_estimators=15, pca__n_components=20, selection__k=30, selection__score_func=<function f_classif at 0x000001BD9E0551F0>;, score=0.273 total time=   0.1s\n",
      "[CV 3/5] END clasification__learning_rate=0.3, clasification__max_depth=6, clasification__max_leaves=2, clasification__n_estimators=15, pca__n_components=20, selection__k=30, selection__score_func=<function f_classif at 0x000001BD9E0551F0>;, score=0.227 total time=   0.1s\n",
      "[CV 4/5] END clasification__learning_rate=0.3, clasification__max_depth=6, clasification__max_leaves=2, clasification__n_estimators=15, pca__n_components=20, selection__k=30, selection__score_func=<function f_classif at 0x000001BD9E0551F0>;, score=0.195 total time=   0.1s\n",
      "[CV 5/5] END clasification__learning_rate=0.3, clasification__max_depth=6, clasification__max_leaves=2, clasification__n_estimators=15, pca__n_components=20, selection__k=30, selection__score_func=<function f_classif at 0x000001BD9E0551F0>;, score=0.370 total time=   0.1s\n",
      "[CV 1/5] END clasification__learning_rate=0.3, clasification__max_depth=6, clasification__max_leaves=2, clasification__n_estimators=15, pca__n_components=20, selection__k=40, selection__score_func=<function chi2 at 0x000001BD9E055310>;, score=0.000 total time=   0.1s\n",
      "[CV 2/5] END clasification__learning_rate=0.3, clasification__max_depth=6, clasification__max_leaves=2, clasification__n_estimators=15, pca__n_components=20, selection__k=40, selection__score_func=<function chi2 at 0x000001BD9E055310>;, score=0.000 total time=   0.1s\n",
      "[CV 3/5] END clasification__learning_rate=0.3, clasification__max_depth=6, clasification__max_leaves=2, clasification__n_estimators=15, pca__n_components=20, selection__k=40, selection__score_func=<function chi2 at 0x000001BD9E055310>;, score=0.000 total time=   0.1s\n",
      "[CV 4/5] END clasification__learning_rate=0.3, clasification__max_depth=6, clasification__max_leaves=2, clasification__n_estimators=15, pca__n_components=20, selection__k=40, selection__score_func=<function chi2 at 0x000001BD9E055310>;, score=0.103 total time=   0.2s\n",
      "[CV 5/5] END clasification__learning_rate=0.3, clasification__max_depth=6, clasification__max_leaves=2, clasification__n_estimators=15, pca__n_components=20, selection__k=40, selection__score_func=<function chi2 at 0x000001BD9E055310>;, score=0.034 total time=   0.1s\n",
      "[CV 1/5] END clasification__learning_rate=0.3, clasification__max_depth=6, clasification__max_leaves=2, clasification__n_estimators=15, pca__n_components=20, selection__k=40, selection__score_func=<function f_classif at 0x000001BD9E0551F0>;, score=0.170 total time=   0.1s\n",
      "[CV 2/5] END clasification__learning_rate=0.3, clasification__max_depth=6, clasification__max_leaves=2, clasification__n_estimators=15, pca__n_components=20, selection__k=40, selection__score_func=<function f_classif at 0x000001BD9E0551F0>;, score=0.255 total time=   0.1s\n",
      "[CV 3/5] END clasification__learning_rate=0.3, clasification__max_depth=6, clasification__max_leaves=2, clasification__n_estimators=15, pca__n_components=20, selection__k=40, selection__score_func=<function f_classif at 0x000001BD9E0551F0>;, score=0.196 total time=   0.1s\n",
      "[CV 4/5] END clasification__learning_rate=0.3, clasification__max_depth=6, clasification__max_leaves=2, clasification__n_estimators=15, pca__n_components=20, selection__k=40, selection__score_func=<function f_classif at 0x000001BD9E0551F0>;, score=0.166 total time=   0.1s\n",
      "[CV 5/5] END clasification__learning_rate=0.3, clasification__max_depth=6, clasification__max_leaves=2, clasification__n_estimators=15, pca__n_components=20, selection__k=40, selection__score_func=<function f_classif at 0x000001BD9E0551F0>;, score=0.190 total time=   0.1s\n",
      "[CV 1/5] END clasification__learning_rate=0.3, clasification__max_depth=6, clasification__max_leaves=2, clasification__n_estimators=15, pca__n_components=20, selection__k=50, selection__score_func=<function chi2 at 0x000001BD9E055310>;, score=0.000 total time=   0.1s\n",
      "[CV 2/5] END clasification__learning_rate=0.3, clasification__max_depth=6, clasification__max_leaves=2, clasification__n_estimators=15, pca__n_components=20, selection__k=50, selection__score_func=<function chi2 at 0x000001BD9E055310>;, score=0.000 total time=   0.1s\n"
     ]
    },
    {
     "ename": "KeyboardInterrupt",
     "evalue": "",
     "output_type": "error",
     "traceback": [
      "\u001b[1;31m---------------------------------------------------------------------------\u001b[0m",
      "\u001b[1;31mKeyboardInterrupt\u001b[0m                         Traceback (most recent call last)",
      "\u001b[1;32mC:\\Users\\DEIVID~1\\AppData\\Local\\Temp/ipykernel_13988/604225906.py\u001b[0m in \u001b[0;36m<module>\u001b[1;34m\u001b[0m\n\u001b[1;32m----> 1\u001b[1;33m grid_estimator.fit(training_features, training_targets \n\u001b[0m\u001b[0;32m      2\u001b[0m , clasification__eval_metric = metrics )\n",
      "\u001b[1;32mc:\\UNI\\Jupyter\\envs\\tf\\lib\\site-packages\\sklearn\\model_selection\\_search.py\u001b[0m in \u001b[0;36mfit\u001b[1;34m(self, X, y, groups, **fit_params)\u001b[0m\n\u001b[0;32m    889\u001b[0m                 \u001b[1;32mreturn\u001b[0m \u001b[0mresults\u001b[0m\u001b[1;33m\u001b[0m\u001b[1;33m\u001b[0m\u001b[0m\n\u001b[0;32m    890\u001b[0m \u001b[1;33m\u001b[0m\u001b[0m\n\u001b[1;32m--> 891\u001b[1;33m             \u001b[0mself\u001b[0m\u001b[1;33m.\u001b[0m\u001b[0m_run_search\u001b[0m\u001b[1;33m(\u001b[0m\u001b[0mevaluate_candidates\u001b[0m\u001b[1;33m)\u001b[0m\u001b[1;33m\u001b[0m\u001b[1;33m\u001b[0m\u001b[0m\n\u001b[0m\u001b[0;32m    892\u001b[0m \u001b[1;33m\u001b[0m\u001b[0m\n\u001b[0;32m    893\u001b[0m             \u001b[1;31m# multimetric is determined here because in the case of a callable\u001b[0m\u001b[1;33m\u001b[0m\u001b[1;33m\u001b[0m\u001b[0m\n",
      "\u001b[1;32mc:\\UNI\\Jupyter\\envs\\tf\\lib\\site-packages\\sklearn\\model_selection\\_search.py\u001b[0m in \u001b[0;36m_run_search\u001b[1;34m(self, evaluate_candidates)\u001b[0m\n\u001b[0;32m   1390\u001b[0m     \u001b[1;32mdef\u001b[0m \u001b[0m_run_search\u001b[0m\u001b[1;33m(\u001b[0m\u001b[0mself\u001b[0m\u001b[1;33m,\u001b[0m \u001b[0mevaluate_candidates\u001b[0m\u001b[1;33m)\u001b[0m\u001b[1;33m:\u001b[0m\u001b[1;33m\u001b[0m\u001b[1;33m\u001b[0m\u001b[0m\n\u001b[0;32m   1391\u001b[0m         \u001b[1;34m\"\"\"Search all candidates in param_grid\"\"\"\u001b[0m\u001b[1;33m\u001b[0m\u001b[1;33m\u001b[0m\u001b[0m\n\u001b[1;32m-> 1392\u001b[1;33m         \u001b[0mevaluate_candidates\u001b[0m\u001b[1;33m(\u001b[0m\u001b[0mParameterGrid\u001b[0m\u001b[1;33m(\u001b[0m\u001b[0mself\u001b[0m\u001b[1;33m.\u001b[0m\u001b[0mparam_grid\u001b[0m\u001b[1;33m)\u001b[0m\u001b[1;33m)\u001b[0m\u001b[1;33m\u001b[0m\u001b[1;33m\u001b[0m\u001b[0m\n\u001b[0m\u001b[0;32m   1393\u001b[0m \u001b[1;33m\u001b[0m\u001b[0m\n\u001b[0;32m   1394\u001b[0m \u001b[1;33m\u001b[0m\u001b[0m\n",
      "\u001b[1;32mc:\\UNI\\Jupyter\\envs\\tf\\lib\\site-packages\\sklearn\\model_selection\\_search.py\u001b[0m in \u001b[0;36mevaluate_candidates\u001b[1;34m(candidate_params, cv, more_results)\u001b[0m\n\u001b[0;32m    836\u001b[0m                     )\n\u001b[0;32m    837\u001b[0m \u001b[1;33m\u001b[0m\u001b[0m\n\u001b[1;32m--> 838\u001b[1;33m                 out = parallel(\n\u001b[0m\u001b[0;32m    839\u001b[0m                     delayed(_fit_and_score)(\n\u001b[0;32m    840\u001b[0m                         \u001b[0mclone\u001b[0m\u001b[1;33m(\u001b[0m\u001b[0mbase_estimator\u001b[0m\u001b[1;33m)\u001b[0m\u001b[1;33m,\u001b[0m\u001b[1;33m\u001b[0m\u001b[1;33m\u001b[0m\u001b[0m\n",
      "\u001b[1;32mc:\\UNI\\Jupyter\\envs\\tf\\lib\\site-packages\\joblib\\parallel.py\u001b[0m in \u001b[0;36m__call__\u001b[1;34m(self, iterable)\u001b[0m\n\u001b[0;32m   1049\u001b[0m                 \u001b[0mself\u001b[0m\u001b[1;33m.\u001b[0m\u001b[0m_iterating\u001b[0m \u001b[1;33m=\u001b[0m \u001b[0mself\u001b[0m\u001b[1;33m.\u001b[0m\u001b[0m_original_iterator\u001b[0m \u001b[1;32mis\u001b[0m \u001b[1;32mnot\u001b[0m \u001b[1;32mNone\u001b[0m\u001b[1;33m\u001b[0m\u001b[1;33m\u001b[0m\u001b[0m\n\u001b[0;32m   1050\u001b[0m \u001b[1;33m\u001b[0m\u001b[0m\n\u001b[1;32m-> 1051\u001b[1;33m             \u001b[1;32mwhile\u001b[0m \u001b[0mself\u001b[0m\u001b[1;33m.\u001b[0m\u001b[0mdispatch_one_batch\u001b[0m\u001b[1;33m(\u001b[0m\u001b[0miterator\u001b[0m\u001b[1;33m)\u001b[0m\u001b[1;33m:\u001b[0m\u001b[1;33m\u001b[0m\u001b[1;33m\u001b[0m\u001b[0m\n\u001b[0m\u001b[0;32m   1052\u001b[0m                 \u001b[1;32mpass\u001b[0m\u001b[1;33m\u001b[0m\u001b[1;33m\u001b[0m\u001b[0m\n\u001b[0;32m   1053\u001b[0m \u001b[1;33m\u001b[0m\u001b[0m\n",
      "\u001b[1;32mc:\\UNI\\Jupyter\\envs\\tf\\lib\\site-packages\\joblib\\parallel.py\u001b[0m in \u001b[0;36mdispatch_one_batch\u001b[1;34m(self, iterator)\u001b[0m\n\u001b[0;32m    864\u001b[0m                 \u001b[1;32mreturn\u001b[0m \u001b[1;32mFalse\u001b[0m\u001b[1;33m\u001b[0m\u001b[1;33m\u001b[0m\u001b[0m\n\u001b[0;32m    865\u001b[0m             \u001b[1;32melse\u001b[0m\u001b[1;33m:\u001b[0m\u001b[1;33m\u001b[0m\u001b[1;33m\u001b[0m\u001b[0m\n\u001b[1;32m--> 866\u001b[1;33m                 \u001b[0mself\u001b[0m\u001b[1;33m.\u001b[0m\u001b[0m_dispatch\u001b[0m\u001b[1;33m(\u001b[0m\u001b[0mtasks\u001b[0m\u001b[1;33m)\u001b[0m\u001b[1;33m\u001b[0m\u001b[1;33m\u001b[0m\u001b[0m\n\u001b[0m\u001b[0;32m    867\u001b[0m                 \u001b[1;32mreturn\u001b[0m \u001b[1;32mTrue\u001b[0m\u001b[1;33m\u001b[0m\u001b[1;33m\u001b[0m\u001b[0m\n\u001b[0;32m    868\u001b[0m \u001b[1;33m\u001b[0m\u001b[0m\n",
      "\u001b[1;32mc:\\UNI\\Jupyter\\envs\\tf\\lib\\site-packages\\joblib\\parallel.py\u001b[0m in \u001b[0;36m_dispatch\u001b[1;34m(self, batch)\u001b[0m\n\u001b[0;32m    782\u001b[0m         \u001b[1;32mwith\u001b[0m \u001b[0mself\u001b[0m\u001b[1;33m.\u001b[0m\u001b[0m_lock\u001b[0m\u001b[1;33m:\u001b[0m\u001b[1;33m\u001b[0m\u001b[1;33m\u001b[0m\u001b[0m\n\u001b[0;32m    783\u001b[0m             \u001b[0mjob_idx\u001b[0m \u001b[1;33m=\u001b[0m \u001b[0mlen\u001b[0m\u001b[1;33m(\u001b[0m\u001b[0mself\u001b[0m\u001b[1;33m.\u001b[0m\u001b[0m_jobs\u001b[0m\u001b[1;33m)\u001b[0m\u001b[1;33m\u001b[0m\u001b[1;33m\u001b[0m\u001b[0m\n\u001b[1;32m--> 784\u001b[1;33m             \u001b[0mjob\u001b[0m \u001b[1;33m=\u001b[0m \u001b[0mself\u001b[0m\u001b[1;33m.\u001b[0m\u001b[0m_backend\u001b[0m\u001b[1;33m.\u001b[0m\u001b[0mapply_async\u001b[0m\u001b[1;33m(\u001b[0m\u001b[0mbatch\u001b[0m\u001b[1;33m,\u001b[0m \u001b[0mcallback\u001b[0m\u001b[1;33m=\u001b[0m\u001b[0mcb\u001b[0m\u001b[1;33m)\u001b[0m\u001b[1;33m\u001b[0m\u001b[1;33m\u001b[0m\u001b[0m\n\u001b[0m\u001b[0;32m    785\u001b[0m             \u001b[1;31m# A job can complete so quickly than its callback is\u001b[0m\u001b[1;33m\u001b[0m\u001b[1;33m\u001b[0m\u001b[0m\n\u001b[0;32m    786\u001b[0m             \u001b[1;31m# called before we get here, causing self._jobs to\u001b[0m\u001b[1;33m\u001b[0m\u001b[1;33m\u001b[0m\u001b[0m\n",
      "\u001b[1;32mc:\\UNI\\Jupyter\\envs\\tf\\lib\\site-packages\\joblib\\_parallel_backends.py\u001b[0m in \u001b[0;36mapply_async\u001b[1;34m(self, func, callback)\u001b[0m\n\u001b[0;32m    206\u001b[0m     \u001b[1;32mdef\u001b[0m \u001b[0mapply_async\u001b[0m\u001b[1;33m(\u001b[0m\u001b[0mself\u001b[0m\u001b[1;33m,\u001b[0m \u001b[0mfunc\u001b[0m\u001b[1;33m,\u001b[0m \u001b[0mcallback\u001b[0m\u001b[1;33m=\u001b[0m\u001b[1;32mNone\u001b[0m\u001b[1;33m)\u001b[0m\u001b[1;33m:\u001b[0m\u001b[1;33m\u001b[0m\u001b[1;33m\u001b[0m\u001b[0m\n\u001b[0;32m    207\u001b[0m         \u001b[1;34m\"\"\"Schedule a func to be run\"\"\"\u001b[0m\u001b[1;33m\u001b[0m\u001b[1;33m\u001b[0m\u001b[0m\n\u001b[1;32m--> 208\u001b[1;33m         \u001b[0mresult\u001b[0m \u001b[1;33m=\u001b[0m \u001b[0mImmediateResult\u001b[0m\u001b[1;33m(\u001b[0m\u001b[0mfunc\u001b[0m\u001b[1;33m)\u001b[0m\u001b[1;33m\u001b[0m\u001b[1;33m\u001b[0m\u001b[0m\n\u001b[0m\u001b[0;32m    209\u001b[0m         \u001b[1;32mif\u001b[0m \u001b[0mcallback\u001b[0m\u001b[1;33m:\u001b[0m\u001b[1;33m\u001b[0m\u001b[1;33m\u001b[0m\u001b[0m\n\u001b[0;32m    210\u001b[0m             \u001b[0mcallback\u001b[0m\u001b[1;33m(\u001b[0m\u001b[0mresult\u001b[0m\u001b[1;33m)\u001b[0m\u001b[1;33m\u001b[0m\u001b[1;33m\u001b[0m\u001b[0m\n",
      "\u001b[1;32mc:\\UNI\\Jupyter\\envs\\tf\\lib\\site-packages\\joblib\\_parallel_backends.py\u001b[0m in \u001b[0;36m__init__\u001b[1;34m(self, batch)\u001b[0m\n\u001b[0;32m    570\u001b[0m         \u001b[1;31m# Don't delay the application, to avoid keeping the input\u001b[0m\u001b[1;33m\u001b[0m\u001b[1;33m\u001b[0m\u001b[0m\n\u001b[0;32m    571\u001b[0m         \u001b[1;31m# arguments in memory\u001b[0m\u001b[1;33m\u001b[0m\u001b[1;33m\u001b[0m\u001b[0m\n\u001b[1;32m--> 572\u001b[1;33m         \u001b[0mself\u001b[0m\u001b[1;33m.\u001b[0m\u001b[0mresults\u001b[0m \u001b[1;33m=\u001b[0m \u001b[0mbatch\u001b[0m\u001b[1;33m(\u001b[0m\u001b[1;33m)\u001b[0m\u001b[1;33m\u001b[0m\u001b[1;33m\u001b[0m\u001b[0m\n\u001b[0m\u001b[0;32m    573\u001b[0m \u001b[1;33m\u001b[0m\u001b[0m\n\u001b[0;32m    574\u001b[0m     \u001b[1;32mdef\u001b[0m \u001b[0mget\u001b[0m\u001b[1;33m(\u001b[0m\u001b[0mself\u001b[0m\u001b[1;33m)\u001b[0m\u001b[1;33m:\u001b[0m\u001b[1;33m\u001b[0m\u001b[1;33m\u001b[0m\u001b[0m\n",
      "\u001b[1;32mc:\\UNI\\Jupyter\\envs\\tf\\lib\\site-packages\\joblib\\parallel.py\u001b[0m in \u001b[0;36m__call__\u001b[1;34m(self)\u001b[0m\n\u001b[0;32m    260\u001b[0m         \u001b[1;31m# change the default number of processes to -1\u001b[0m\u001b[1;33m\u001b[0m\u001b[1;33m\u001b[0m\u001b[0m\n\u001b[0;32m    261\u001b[0m         \u001b[1;32mwith\u001b[0m \u001b[0mparallel_backend\u001b[0m\u001b[1;33m(\u001b[0m\u001b[0mself\u001b[0m\u001b[1;33m.\u001b[0m\u001b[0m_backend\u001b[0m\u001b[1;33m,\u001b[0m \u001b[0mn_jobs\u001b[0m\u001b[1;33m=\u001b[0m\u001b[0mself\u001b[0m\u001b[1;33m.\u001b[0m\u001b[0m_n_jobs\u001b[0m\u001b[1;33m)\u001b[0m\u001b[1;33m:\u001b[0m\u001b[1;33m\u001b[0m\u001b[1;33m\u001b[0m\u001b[0m\n\u001b[1;32m--> 262\u001b[1;33m             return [func(*args, **kwargs)\n\u001b[0m\u001b[0;32m    263\u001b[0m                     for func, args, kwargs in self.items]\n\u001b[0;32m    264\u001b[0m \u001b[1;33m\u001b[0m\u001b[0m\n",
      "\u001b[1;32mc:\\UNI\\Jupyter\\envs\\tf\\lib\\site-packages\\joblib\\parallel.py\u001b[0m in \u001b[0;36m<listcomp>\u001b[1;34m(.0)\u001b[0m\n\u001b[0;32m    260\u001b[0m         \u001b[1;31m# change the default number of processes to -1\u001b[0m\u001b[1;33m\u001b[0m\u001b[1;33m\u001b[0m\u001b[0m\n\u001b[0;32m    261\u001b[0m         \u001b[1;32mwith\u001b[0m \u001b[0mparallel_backend\u001b[0m\u001b[1;33m(\u001b[0m\u001b[0mself\u001b[0m\u001b[1;33m.\u001b[0m\u001b[0m_backend\u001b[0m\u001b[1;33m,\u001b[0m \u001b[0mn_jobs\u001b[0m\u001b[1;33m=\u001b[0m\u001b[0mself\u001b[0m\u001b[1;33m.\u001b[0m\u001b[0m_n_jobs\u001b[0m\u001b[1;33m)\u001b[0m\u001b[1;33m:\u001b[0m\u001b[1;33m\u001b[0m\u001b[1;33m\u001b[0m\u001b[0m\n\u001b[1;32m--> 262\u001b[1;33m             return [func(*args, **kwargs)\n\u001b[0m\u001b[0;32m    263\u001b[0m                     for func, args, kwargs in self.items]\n\u001b[0;32m    264\u001b[0m \u001b[1;33m\u001b[0m\u001b[0m\n",
      "\u001b[1;32mc:\\UNI\\Jupyter\\envs\\tf\\lib\\site-packages\\sklearn\\utils\\fixes.py\u001b[0m in \u001b[0;36m__call__\u001b[1;34m(self, *args, **kwargs)\u001b[0m\n\u001b[0;32m    214\u001b[0m     \u001b[1;32mdef\u001b[0m \u001b[0m__call__\u001b[0m\u001b[1;33m(\u001b[0m\u001b[0mself\u001b[0m\u001b[1;33m,\u001b[0m \u001b[1;33m*\u001b[0m\u001b[0margs\u001b[0m\u001b[1;33m,\u001b[0m \u001b[1;33m**\u001b[0m\u001b[0mkwargs\u001b[0m\u001b[1;33m)\u001b[0m\u001b[1;33m:\u001b[0m\u001b[1;33m\u001b[0m\u001b[1;33m\u001b[0m\u001b[0m\n\u001b[0;32m    215\u001b[0m         \u001b[1;32mwith\u001b[0m \u001b[0mconfig_context\u001b[0m\u001b[1;33m(\u001b[0m\u001b[1;33m**\u001b[0m\u001b[0mself\u001b[0m\u001b[1;33m.\u001b[0m\u001b[0mconfig\u001b[0m\u001b[1;33m)\u001b[0m\u001b[1;33m:\u001b[0m\u001b[1;33m\u001b[0m\u001b[1;33m\u001b[0m\u001b[0m\n\u001b[1;32m--> 216\u001b[1;33m             \u001b[1;32mreturn\u001b[0m \u001b[0mself\u001b[0m\u001b[1;33m.\u001b[0m\u001b[0mfunction\u001b[0m\u001b[1;33m(\u001b[0m\u001b[1;33m*\u001b[0m\u001b[0margs\u001b[0m\u001b[1;33m,\u001b[0m \u001b[1;33m**\u001b[0m\u001b[0mkwargs\u001b[0m\u001b[1;33m)\u001b[0m\u001b[1;33m\u001b[0m\u001b[1;33m\u001b[0m\u001b[0m\n\u001b[0m\u001b[0;32m    217\u001b[0m \u001b[1;33m\u001b[0m\u001b[0m\n\u001b[0;32m    218\u001b[0m \u001b[1;33m\u001b[0m\u001b[0m\n",
      "\u001b[1;32mc:\\UNI\\Jupyter\\envs\\tf\\lib\\site-packages\\sklearn\\model_selection\\_validation.py\u001b[0m in \u001b[0;36m_fit_and_score\u001b[1;34m(estimator, X, y, scorer, train, test, verbose, parameters, fit_params, return_train_score, return_parameters, return_n_test_samples, return_times, return_estimator, split_progress, candidate_progress, error_score)\u001b[0m\n\u001b[0;32m    678\u001b[0m             \u001b[0mestimator\u001b[0m\u001b[1;33m.\u001b[0m\u001b[0mfit\u001b[0m\u001b[1;33m(\u001b[0m\u001b[0mX_train\u001b[0m\u001b[1;33m,\u001b[0m \u001b[1;33m**\u001b[0m\u001b[0mfit_params\u001b[0m\u001b[1;33m)\u001b[0m\u001b[1;33m\u001b[0m\u001b[1;33m\u001b[0m\u001b[0m\n\u001b[0;32m    679\u001b[0m         \u001b[1;32melse\u001b[0m\u001b[1;33m:\u001b[0m\u001b[1;33m\u001b[0m\u001b[1;33m\u001b[0m\u001b[0m\n\u001b[1;32m--> 680\u001b[1;33m             \u001b[0mestimator\u001b[0m\u001b[1;33m.\u001b[0m\u001b[0mfit\u001b[0m\u001b[1;33m(\u001b[0m\u001b[0mX_train\u001b[0m\u001b[1;33m,\u001b[0m \u001b[0my_train\u001b[0m\u001b[1;33m,\u001b[0m \u001b[1;33m**\u001b[0m\u001b[0mfit_params\u001b[0m\u001b[1;33m)\u001b[0m\u001b[1;33m\u001b[0m\u001b[1;33m\u001b[0m\u001b[0m\n\u001b[0m\u001b[0;32m    681\u001b[0m \u001b[1;33m\u001b[0m\u001b[0m\n\u001b[0;32m    682\u001b[0m     \u001b[1;32mexcept\u001b[0m \u001b[0mException\u001b[0m\u001b[1;33m:\u001b[0m\u001b[1;33m\u001b[0m\u001b[1;33m\u001b[0m\u001b[0m\n",
      "\u001b[1;32mc:\\UNI\\Jupyter\\envs\\tf\\lib\\site-packages\\imblearn\\pipeline.py\u001b[0m in \u001b[0;36mfit\u001b[1;34m(self, X, y, **fit_params)\u001b[0m\n\u001b[0;32m    270\u001b[0m             \u001b[1;32mif\u001b[0m \u001b[0mself\u001b[0m\u001b[1;33m.\u001b[0m\u001b[0m_final_estimator\u001b[0m \u001b[1;33m!=\u001b[0m \u001b[1;34m\"passthrough\"\u001b[0m\u001b[1;33m:\u001b[0m\u001b[1;33m\u001b[0m\u001b[1;33m\u001b[0m\u001b[0m\n\u001b[0;32m    271\u001b[0m                 \u001b[0mfit_params_last_step\u001b[0m \u001b[1;33m=\u001b[0m \u001b[0mfit_params_steps\u001b[0m\u001b[1;33m[\u001b[0m\u001b[0mself\u001b[0m\u001b[1;33m.\u001b[0m\u001b[0msteps\u001b[0m\u001b[1;33m[\u001b[0m\u001b[1;33m-\u001b[0m\u001b[1;36m1\u001b[0m\u001b[1;33m]\u001b[0m\u001b[1;33m[\u001b[0m\u001b[1;36m0\u001b[0m\u001b[1;33m]\u001b[0m\u001b[1;33m]\u001b[0m\u001b[1;33m\u001b[0m\u001b[1;33m\u001b[0m\u001b[0m\n\u001b[1;32m--> 272\u001b[1;33m                 \u001b[0mself\u001b[0m\u001b[1;33m.\u001b[0m\u001b[0m_final_estimator\u001b[0m\u001b[1;33m.\u001b[0m\u001b[0mfit\u001b[0m\u001b[1;33m(\u001b[0m\u001b[0mXt\u001b[0m\u001b[1;33m,\u001b[0m \u001b[0myt\u001b[0m\u001b[1;33m,\u001b[0m \u001b[1;33m**\u001b[0m\u001b[0mfit_params_last_step\u001b[0m\u001b[1;33m)\u001b[0m\u001b[1;33m\u001b[0m\u001b[1;33m\u001b[0m\u001b[0m\n\u001b[0m\u001b[0;32m    273\u001b[0m         \u001b[1;32mreturn\u001b[0m \u001b[0mself\u001b[0m\u001b[1;33m\u001b[0m\u001b[1;33m\u001b[0m\u001b[0m\n\u001b[0;32m    274\u001b[0m \u001b[1;33m\u001b[0m\u001b[0m\n",
      "\u001b[1;32mc:\\UNI\\Jupyter\\envs\\tf\\lib\\site-packages\\xgboost\\core.py\u001b[0m in \u001b[0;36minner_f\u001b[1;34m(*args, **kwargs)\u001b[0m\n\u001b[0;32m    504\u001b[0m         \u001b[1;32mfor\u001b[0m \u001b[0mk\u001b[0m\u001b[1;33m,\u001b[0m \u001b[0marg\u001b[0m \u001b[1;32min\u001b[0m \u001b[0mzip\u001b[0m\u001b[1;33m(\u001b[0m\u001b[0msig\u001b[0m\u001b[1;33m.\u001b[0m\u001b[0mparameters\u001b[0m\u001b[1;33m,\u001b[0m \u001b[0margs\u001b[0m\u001b[1;33m)\u001b[0m\u001b[1;33m:\u001b[0m\u001b[1;33m\u001b[0m\u001b[1;33m\u001b[0m\u001b[0m\n\u001b[0;32m    505\u001b[0m             \u001b[0mkwargs\u001b[0m\u001b[1;33m[\u001b[0m\u001b[0mk\u001b[0m\u001b[1;33m]\u001b[0m \u001b[1;33m=\u001b[0m \u001b[0marg\u001b[0m\u001b[1;33m\u001b[0m\u001b[1;33m\u001b[0m\u001b[0m\n\u001b[1;32m--> 506\u001b[1;33m         \u001b[1;32mreturn\u001b[0m \u001b[0mf\u001b[0m\u001b[1;33m(\u001b[0m\u001b[1;33m**\u001b[0m\u001b[0mkwargs\u001b[0m\u001b[1;33m)\u001b[0m\u001b[1;33m\u001b[0m\u001b[1;33m\u001b[0m\u001b[0m\n\u001b[0m\u001b[0;32m    507\u001b[0m \u001b[1;33m\u001b[0m\u001b[0m\n\u001b[0;32m    508\u001b[0m     \u001b[1;32mreturn\u001b[0m \u001b[0minner_f\u001b[0m\u001b[1;33m\u001b[0m\u001b[1;33m\u001b[0m\u001b[0m\n",
      "\u001b[1;32mc:\\UNI\\Jupyter\\envs\\tf\\lib\\site-packages\\xgboost\\sklearn.py\u001b[0m in \u001b[0;36mfit\u001b[1;34m(self, X, y, sample_weight, base_margin, eval_set, eval_metric, early_stopping_rounds, verbose, xgb_model, sample_weight_eval_set, base_margin_eval_set, feature_weights, callbacks)\u001b[0m\n\u001b[0;32m   1248\u001b[0m         )\n\u001b[0;32m   1249\u001b[0m \u001b[1;33m\u001b[0m\u001b[0m\n\u001b[1;32m-> 1250\u001b[1;33m         self._Booster = train(\n\u001b[0m\u001b[0;32m   1251\u001b[0m             \u001b[0mparams\u001b[0m\u001b[1;33m,\u001b[0m\u001b[1;33m\u001b[0m\u001b[1;33m\u001b[0m\u001b[0m\n\u001b[0;32m   1252\u001b[0m             \u001b[0mtrain_dmatrix\u001b[0m\u001b[1;33m,\u001b[0m\u001b[1;33m\u001b[0m\u001b[1;33m\u001b[0m\u001b[0m\n",
      "\u001b[1;32mc:\\UNI\\Jupyter\\envs\\tf\\lib\\site-packages\\xgboost\\training.py\u001b[0m in \u001b[0;36mtrain\u001b[1;34m(params, dtrain, num_boost_round, evals, obj, feval, maximize, early_stopping_rounds, evals_result, verbose_eval, xgb_model, callbacks)\u001b[0m\n\u001b[0;32m    186\u001b[0m     \u001b[0mBooster\u001b[0m \u001b[1;33m:\u001b[0m \u001b[0ma\u001b[0m \u001b[0mtrained\u001b[0m \u001b[0mbooster\u001b[0m \u001b[0mmodel\u001b[0m\u001b[1;33m\u001b[0m\u001b[1;33m\u001b[0m\u001b[0m\n\u001b[0;32m    187\u001b[0m     \"\"\"\n\u001b[1;32m--> 188\u001b[1;33m     bst = _train_internal(params, dtrain,\n\u001b[0m\u001b[0;32m    189\u001b[0m                           \u001b[0mnum_boost_round\u001b[0m\u001b[1;33m=\u001b[0m\u001b[0mnum_boost_round\u001b[0m\u001b[1;33m,\u001b[0m\u001b[1;33m\u001b[0m\u001b[1;33m\u001b[0m\u001b[0m\n\u001b[0;32m    190\u001b[0m                           \u001b[0mevals\u001b[0m\u001b[1;33m=\u001b[0m\u001b[0mevals\u001b[0m\u001b[1;33m,\u001b[0m\u001b[1;33m\u001b[0m\u001b[1;33m\u001b[0m\u001b[0m\n",
      "\u001b[1;32mc:\\UNI\\Jupyter\\envs\\tf\\lib\\site-packages\\xgboost\\training.py\u001b[0m in \u001b[0;36m_train_internal\u001b[1;34m(params, dtrain, num_boost_round, evals, obj, feval, xgb_model, callbacks, evals_result, maximize, verbose_eval, early_stopping_rounds)\u001b[0m\n\u001b[0;32m     79\u001b[0m         \u001b[1;32mif\u001b[0m \u001b[0mcallbacks\u001b[0m\u001b[1;33m.\u001b[0m\u001b[0mbefore_iteration\u001b[0m\u001b[1;33m(\u001b[0m\u001b[0mbst\u001b[0m\u001b[1;33m,\u001b[0m \u001b[0mi\u001b[0m\u001b[1;33m,\u001b[0m \u001b[0mdtrain\u001b[0m\u001b[1;33m,\u001b[0m \u001b[0mevals\u001b[0m\u001b[1;33m)\u001b[0m\u001b[1;33m:\u001b[0m\u001b[1;33m\u001b[0m\u001b[1;33m\u001b[0m\u001b[0m\n\u001b[0;32m     80\u001b[0m             \u001b[1;32mbreak\u001b[0m\u001b[1;33m\u001b[0m\u001b[1;33m\u001b[0m\u001b[0m\n\u001b[1;32m---> 81\u001b[1;33m         \u001b[0mbst\u001b[0m\u001b[1;33m.\u001b[0m\u001b[0mupdate\u001b[0m\u001b[1;33m(\u001b[0m\u001b[0mdtrain\u001b[0m\u001b[1;33m,\u001b[0m \u001b[0mi\u001b[0m\u001b[1;33m,\u001b[0m \u001b[0mobj\u001b[0m\u001b[1;33m)\u001b[0m\u001b[1;33m\u001b[0m\u001b[1;33m\u001b[0m\u001b[0m\n\u001b[0m\u001b[0;32m     82\u001b[0m         \u001b[1;32mif\u001b[0m \u001b[0mcallbacks\u001b[0m\u001b[1;33m.\u001b[0m\u001b[0mafter_iteration\u001b[0m\u001b[1;33m(\u001b[0m\u001b[0mbst\u001b[0m\u001b[1;33m,\u001b[0m \u001b[0mi\u001b[0m\u001b[1;33m,\u001b[0m \u001b[0mdtrain\u001b[0m\u001b[1;33m,\u001b[0m \u001b[0mevals\u001b[0m\u001b[1;33m)\u001b[0m\u001b[1;33m:\u001b[0m\u001b[1;33m\u001b[0m\u001b[1;33m\u001b[0m\u001b[0m\n\u001b[0;32m     83\u001b[0m             \u001b[1;32mbreak\u001b[0m\u001b[1;33m\u001b[0m\u001b[1;33m\u001b[0m\u001b[0m\n",
      "\u001b[1;32mc:\\UNI\\Jupyter\\envs\\tf\\lib\\site-packages\\xgboost\\core.py\u001b[0m in \u001b[0;36mupdate\u001b[1;34m(self, dtrain, iteration, fobj)\u001b[0m\n\u001b[0;32m   1678\u001b[0m \u001b[1;33m\u001b[0m\u001b[0m\n\u001b[0;32m   1679\u001b[0m         \u001b[1;32mif\u001b[0m \u001b[0mfobj\u001b[0m \u001b[1;32mis\u001b[0m \u001b[1;32mNone\u001b[0m\u001b[1;33m:\u001b[0m\u001b[1;33m\u001b[0m\u001b[1;33m\u001b[0m\u001b[0m\n\u001b[1;32m-> 1680\u001b[1;33m             _check_call(_LIB.XGBoosterUpdateOneIter(self.handle,\n\u001b[0m\u001b[0;32m   1681\u001b[0m                                                     \u001b[0mctypes\u001b[0m\u001b[1;33m.\u001b[0m\u001b[0mc_int\u001b[0m\u001b[1;33m(\u001b[0m\u001b[0miteration\u001b[0m\u001b[1;33m)\u001b[0m\u001b[1;33m,\u001b[0m\u001b[1;33m\u001b[0m\u001b[1;33m\u001b[0m\u001b[0m\n\u001b[0;32m   1682\u001b[0m                                                     dtrain.handle))\n",
      "\u001b[1;31mKeyboardInterrupt\u001b[0m: "
     ]
    }
   ],
   "source": [
    "\n",
    "grid_estimator.fit(training_features, training_targets \n",
    ", clasification__eval_metric = metrics )"
   ]
  },
  {
   "cell_type": "markdown",
   "metadata": {},
   "source": [
    "## Best score and model parameters"
   ]
  },
  {
   "cell_type": "code",
   "execution_count": null,
   "metadata": {},
   "outputs": [
    {
     "name": "stdout",
     "output_type": "stream",
     "text": [
      "Best model: Acc. Score = 0.486471, with parameters {'clasification__n_estimators': 25}\n"
     ]
    }
   ],
   "source": [
    "print(\"Best model: Acc. Score = %f, with parameters %s\" % (grid_estimator.best_score_, grid_estimator.best_params_))"
   ]
  },
  {
   "cell_type": "markdown",
   "metadata": {},
   "source": [
    "## Value metrics"
   ]
  },
  {
   "cell_type": "code",
   "execution_count": null,
   "metadata": {},
   "outputs": [
    {
     "name": "stdout",
     "output_type": "stream",
     "text": [
      "[17:48:01] WARNING: C:/Users/Administrator/workspace/xgboost-win64_release_1.5.1/src/learner.cc:1115: Starting in XGBoost 1.3.0, the default evaluation metric used with the objective 'binary:logistic' was changed from 'error' to 'logloss'. Explicitly set eval_metric if you'd like to restore the old behavior.\n",
      "[17:48:02] WARNING: C:/Users/Administrator/workspace/xgboost-win64_release_1.5.1/src/learner.cc:1115: Starting in XGBoost 1.3.0, the default evaluation metric used with the objective 'binary:logistic' was changed from 'error' to 'logloss'. Explicitly set eval_metric if you'd like to restore the old behavior.\n",
      "[17:48:03] WARNING: C:/Users/Administrator/workspace/xgboost-win64_release_1.5.1/src/learner.cc:1115: Starting in XGBoost 1.3.0, the default evaluation metric used with the objective 'binary:logistic' was changed from 'error' to 'logloss'. Explicitly set eval_metric if you'd like to restore the old behavior.\n",
      "[17:48:05] WARNING: C:/Users/Administrator/workspace/xgboost-win64_release_1.5.1/src/learner.cc:1115: Starting in XGBoost 1.3.0, the default evaluation metric used with the objective 'binary:logistic' was changed from 'error' to 'logloss'. Explicitly set eval_metric if you'd like to restore the old behavior.\n",
      "[17:48:06] WARNING: C:/Users/Administrator/workspace/xgboost-win64_release_1.5.1/src/learner.cc:1115: Starting in XGBoost 1.3.0, the default evaluation metric used with the objective 'binary:logistic' was changed from 'error' to 'logloss'. Explicitly set eval_metric if you'd like to restore the old behavior.\n",
      "roc_auc = 0.899922 (0.029776)\n",
      "roc_auc of evaluation nan (nan)\n"
     ]
    }
   ],
   "source": [
    "from sklearn.model_selection import cross_val_score\n",
    "\n",
    "scores = cross_val_score(pipeline, training_features, training_targets, cv=cv, scoring = 'roc_auc')\n",
    "print(\"roc_auc = %f (%f)\" % (scores.mean(), scores.std()))\n",
    "\n",
    "evaluation_estimates = grid_estimator.predict(evaluation_features)\n",
    "scores = cross_val_score(pipeline, evaluation_targets, evaluation_estimates, cv=cv, scoring = 'roc_auc')\n",
    "print(\"roc_auc of evaluation %f (%f)\" % (scores.mean(), scores.std()))"
   ]
  },
  {
   "cell_type": "code",
   "execution_count": null,
   "metadata": {},
   "outputs": [],
   "source": [
    "def confusion_matrix_to_string(cm):\n",
    "    return f\"True operational={cm[0][0]}, True bankrupt={cm[1][1]}, False operational={cm[0][1]}, False bankrupt={cm[1][0]}\"\n",
    "\n",
    "# Use all training data to calculate confusion matrix for training data\n",
    "training_estimates = grid_estimator.predict(training_features)\n",
    "training_accuracy = balanced_accuracy_score(training_targets, training_estimates)\n",
    "training_confusion_matrix = confusion_matrix(training_targets, training_estimates)\n",
    "training_confusion_matrix = confusion_matrix_to_string(training_confusion_matrix)\n",
    "\n",
    "# Use model to estimate manually labeled evaluations\n",
    "evaluation_estimates = grid_estimator.predict(evaluation_features)\n",
    "evaluation_accuracy = balanced_accuracy_score(evaluation_targets, evaluation_estimates)\n",
    "evaluation_confusion_matrix = confusion_matrix(evaluation_targets, evaluation_estimates)\n",
    "evaluation_confusion_matrix = confusion_matrix_to_string(evaluation_confusion_matrix)"
   ]
  },
  {
   "cell_type": "code",
   "execution_count": null,
   "metadata": {},
   "outputs": [
    {
     "name": "stdout",
     "output_type": "stream",
     "text": [
      "Training evaluation\n",
      "              precision    recall  f1-score   support\n",
      "\n",
      "           0       1.00      0.96      0.98      5279\n",
      "           1       0.48      0.98      0.64       176\n",
      "\n",
      "    accuracy                           0.96      5455\n",
      "   macro avg       0.74      0.97      0.81      5455\n",
      "weighted avg       0.98      0.96      0.97      5455\n",
      "\n",
      "Validation/evaluation\n",
      "              precision    recall  f1-score   support\n",
      "\n",
      "           0       0.99      0.93      0.96      1320\n",
      "           1       0.23      0.61      0.34        44\n",
      "\n",
      "    accuracy                           0.92      1364\n",
      "   macro avg       0.61      0.77      0.65      1364\n",
      "weighted avg       0.96      0.92      0.94      1364\n",
      "\n"
     ]
    }
   ],
   "source": [
    "from sklearn.metrics import confusion_matrix, classification_report, roc_curve, recall_score, make_scorer\n",
    "print(\"Training evaluation\")\n",
    "y_pred_train = grid_estimator.predict(training_features) #prediction on our train \n",
    "# y_pred_train = numpy.argmax(y_pred_train,axis=1)\n",
    "print(classification_report(training_targets, y_pred_train))\n",
    "train_conf_matrix = confusion_matrix(training_targets, y_pred_train)\n",
    "\n",
    "print(\"Validation/evaluation\")\n",
    "y_pred_test = grid_estimator.predict(evaluation_features) # prediction on our test set\n",
    "# y_pred_test = numpy.argmax(y_pred_test,axis=1)\n",
    "print(classification_report(evaluation_targets, y_pred_test))\n",
    "test_conf_matrix = confusion_matrix(evaluation_targets, y_pred_test)\n"
   ]
  },
  {
   "cell_type": "code",
   "execution_count": null,
   "metadata": {},
   "outputs": [
    {
     "name": "stdout",
     "output_type": "stream",
     "text": [
      "-- Model Specs --\n",
      "  - Test Accuracy 0.9649862511457379 % \n",
      "  - RMSLE 0.1297014308541167  \n",
      "[[5091  188]\n",
      " [   3  173]]\n"
     ]
    },
    {
     "data": {
      "image/png": "[encoded data removed]",
      "text/plain": [
       "<Figure size 432x288 with 2 Axes>"
      ]
     },
     "metadata": {
      "needs_background": "light"
     },
     "output_type": "display_data"
    },
    {
     "name": "stdout",
     "output_type": "stream",
     "text": [
      "-- Model Specs --\n",
      "  - Test Accuracy 0.9230205278592375 % \n",
      "  - RMSLE 0.1923148964585467  \n",
      "[[1232   88]\n",
      " [  17   27]]\n"
     ]
    },
    {
     "data": {
      "image/png": "[encoded data removed]",
      "text/plain": [
       "<Figure size 432x288 with 2 Axes>"
      ]
     },
     "metadata": {
      "needs_background": "light"
     },
     "output_type": "display_data"
    }
   ],
   "source": [
    "from sklearn.metrics import accuracy_score, f1_score\n",
    "from sklearn.metrics import mean_squared_log_error\n",
    "\n",
    "def RMSLE(y_true, y_pred):\n",
    "    return numpy.sqrt(mean_squared_log_error(y_true, y_pred))\n",
    "\n",
    "from sklearn.metrics import confusion_matrix\n",
    "def full_conf_mat(y_test, y_pred, data_title=\"Confusion Matrix of Training data\"):\n",
    "    \n",
    "    print('-- Model Specs --')\n",
    "    print(f\"  - Test Accuracy {accuracy_score(y_test, y_pred)} % \")\n",
    "    print(f\"  - RMSLE {RMSLE(y_test,y_pred)}  \")\n",
    "\n",
    "    #Generate the confusion matrix\n",
    "    cf_matrix = confusion_matrix(y_test, y_pred)\n",
    "    print(cf_matrix)\n",
    "    import seaborn as sns\n",
    "    ax = sns.heatmap(cf_matrix, annot=True, cmap='Blues')\n",
    "    ax.set_title(f'{data_title}\\n\\n');\n",
    "    ax.set_xlabel('\\nPredicted Values')\n",
    "    ax.set_ylabel('Actual Values ');\n",
    "    ax.xaxis.set_ticklabels(['False','True'])\n",
    "    ax.yaxis.set_ticklabels(['False','True'])\n",
    "    plt.show()\n",
    "    \n",
    "full_conf_mat(training_targets, training_estimates, \"Confusion Matrix of Training data\")\n",
    "\n",
    "full_conf_mat(evaluation_targets, evaluation_estimates, \"Confusion Matrix of Validation/Evaluation data\")\n"
   ]
  },
  {
   "cell_type": "code",
   "execution_count": null,
   "metadata": {},
   "outputs": [
    {
     "name": "stdout",
     "output_type": "stream",
     "text": [
      "GridSearchCV(cv=StratifiedKFold(n_splits=5, random_state=42, shuffle=True),\n",
      "             estimator=Pipeline(steps=[('selection', SelectKBest()),\n",
      "                                       ('pca', PCA()),\n",
      "                                       ('smote',\n",
      "                                        SMOTE(random_state=20,\n",
      "                                              sampling_strategy='minority')),\n",
      "                                       ('clasification',\n",
      "                                        XGBClassifier(base_score=None,\n",
      "                                                      booster=None,\n",
      "                                                      colsample_bylevel=None,\n",
      "                                                      colsample_bynode=None,\n",
      "                                                      colsample_bytree=None,\n",
      "                                                      enable_categorical=F...\n",
      "                                                      monotone_constraints=None,\n",
      "                                                      n_estimators=100,\n",
      "                                                      n_jobs=None,\n",
      "                                                      num_parallel_tree=None,\n",
      "                                                      predictor=None,\n",
      "                                                      random_state=None,\n",
      "                                                      reg_alpha=None,\n",
      "                                                      reg_lambda=None,\n",
      "                                                      scale_pos_weight=None,\n",
      "                                                      seed=42, subsample=None,\n",
      "                                                      tree_method=None,\n",
      "                                                      validate_parameters=None,\n",
      "                                                      verbosity=None))]),\n",
      "             param_grid={'clasification__n_estimators': range(25, 45, 10)},\n",
      "             scoring=make_scorer(custom_scorer), verbose=3)\n"
     ]
    },
    {
     "data": {
      "image/png": "[encoded data removed]",
      "text/plain": [
       "<Figure size 720x360 with 1 Axes>"
      ]
     },
     "metadata": {
      "needs_background": "light"
     },
     "output_type": "display_data"
    }
   ],
   "source": [
    "def plot_xgb(params,scores,epo):\n",
    "    for m in params:\n",
    "        test_ = scores['validation_0'][m]\n",
    "        train_ = scores['validation_1'][m]\n",
    "        rang = range(0, epo)\n",
    "        \n",
    "        plt.plot(rang, test_, label=\"Val\")\n",
    "        plt.plot(rang, train_, label=\"Train\")\n",
    "        plt.title(m + \" plot\")\n",
    "        plt.xlabel('Iterations')\n",
    "        plt.ylabel(m)\n",
    "        lgd = plt.legend()\n",
    "        plt.show()\n",
    "\n",
    "\n",
    " \n",
    "print(grid_estimator)\n",
    "# results = grid_estimator.best_estimator_.named_steps[\"clasification\"].evals_result()\n",
    "# # grid_estimator.best_estimator_.evals_result()\n",
    "\n",
    "# plot_xgb(metrics,results,grid_estimator.best_params_['clasification__n_estimators'])\n",
    "\n",
    "\n",
    "f, ax = plt.subplots(figsize=(10,5))\n",
    "# Plot of features\n",
    "\n",
    "keys  = evaluation_dataset.columns.to_list() \n",
    "yy = grid_estimator.best_estimator_.named_steps[\"clasification\"].feature_importances_\n",
    "\n",
    "feature_important  = grid_estimator.best_estimator_.named_steps[\"clasification\"].get_booster().get_score(importance_type='gain')\n",
    "keys = list(feature_important.keys())\n",
    "yy = list(feature_important.values())\n",
    "\n",
    "\n",
    "plot = sns.barplot(x=keys, y=yy, color='blue')\n",
    "ax.set_title('Feature Importance')\n",
    "plot.set_xticklabels(plot.get_xticklabels(),rotation='vertical')\n",
    "plt.show()"
   ]
  },
  {
   "cell_type": "markdown",
   "metadata": {},
   "source": [
    "## Saving trained model"
   ]
  },
  {
   "cell_type": "code",
   "execution_count": null,
   "metadata": {},
   "outputs": [],
   "source": [
    "with open(OUTPUT_MODEL, \"wb\") as handle:\n",
    "    pickle.dump(grid_estimator, handle, protocol=pickle.HIGHEST_PROTOCOL)"
   ]
  },
  {
   "cell_type": "markdown",
   "metadata": {},
   "source": [
    "## Saving metadata"
   ]
  },
  {
   "cell_type": "code",
   "execution_count": null,
   "metadata": {},
   "outputs": [
    {
     "name": "stdout",
     "output_type": "stream",
     "text": [
      "CROSS_VALIDATION_CV: 5\n",
      "HYPER_PARAMETER_CLASS_WEIGHT: balanced\n",
      "HYPER_PARAMETER_OPTIMIZATION_BETA: 2\n",
      "HYPER_PARAMETER_OPTIMIZATION_CV: 5\n",
      "HYPER_PARAMETER_OPTIMIZATION_SCORING: accuracy\n",
      "INPUT_EVALUATION_FILE: ../data/original/evaluation_dataset.csv\n",
      "INPUT_TRAINING_FILE: ../data/original/training_dataset.csv\n",
      "LABELS: ['Operational', 'Bankrupt']\n",
      "METHOD_NAME: xgboost\n",
      "OUTPUT_MODEL: ../data/models/xgboost_model_12_05_2022-17_47_55.pkl\n",
      "OUTPUT_RESULTS: ../data/results/xgboost_model_12_05_2022-17_47_55.txt\n",
      "PUNISHMENT_FOR_FALSE_BANKRUPT_PREDICTION: 100\n",
      "RANDOM_SEED: 42\n",
      "TIMESTAMP: 12_05_2022-17_47_55\n",
      "evaluation_accuracy: 0.7734848484848484\n",
      "evaluation_confusion_matrix: True operational=1232, True bankrupt=27, False operational=88, False bankrupt=17\n",
      "feature_important: {'f0': 109.58001708984375, 'f1': 21.624542236328125, 'f2': 15.749852180480957, 'f3': 7.904501438140869, 'f4': 11.610383033752441, 'f5': 11.372520446777344, 'f6': 12.085987091064453, 'f7': 18.730512619018555, 'f8': 13.879497528076172, 'f9': 11.162727355957031}\n",
      "keys: ['f0', 'f1', 'f2', 'f3', 'f4', 'f5', 'f6', 'f7', 'f8', 'f9']\n",
      "metrics: ['logloss', 'rmse']\n",
      "parameters: {'clasification__n_estimators': range(25, 45, 10)}\n",
      "training_accuracy: 0.9736708699994834\n",
      "training_confusion_matrix: True operational=5091, True bankrupt=173, False operational=188, False bankrupt=3\n",
      "yy: [109.58001708984375, 21.624542236328125, 15.749852180480957, 7.904501438140869, 11.610383033752441, 11.372520446777344, 12.085987091064453, 18.730512619018555, 13.879497528076172, 11.162727355957031]\n",
      "\n",
      "Best model: Acc. Score = 0.486471, with parameters {'clasification__n_estimators': 25}\n"
     ]
    }
   ],
   "source": [
    "current_variables = dir()\n",
    "\n",
    "results_string = \"\"\n",
    "\n",
    "for variable in current_variables:\n",
    "    # Skip environment variables and their container variable\n",
    "    # Ignore also underscore variables\n",
    "    if variable in environment_variables or variable == \"environment_variables\" or variable.startswith(\"_\"):\n",
    "        continue\n",
    "\n",
    "    # Get variables value\n",
    "    variable_value = globals()[variable]\n",
    "\n",
    "    # If variable is numerical or string, append it to results\n",
    "    if type(variable_value) is str or type(variable_value) is int or \\\n",
    "        type(variable_value) is float or type(variable_value) is list or \\\n",
    "        type(variable_value) is numpy.float64 or type(variable_value) is dict:\n",
    "        results_string += f\"{variable}: {variable_value}\\n\"\n",
    "\n",
    "# Print results to screen\n",
    "# for line in results_string:\n",
    "print(f'{results_string}')\n",
    "print(\"Best model: Acc. Score = %f, with parameters %s\" % (grid_estimator.best_score_, grid_estimator.best_params_))\n",
    "\n",
    "\n",
    "# Save results to file\n",
    "with open(OUTPUT_RESULTS, \"w\") as file:\n",
    "    file.write(results_string)\n",
    "    file.write(str(\"Best model: Acc. Score = %f, with parameters %s\" % (grid_estimator.best_score_, grid_estimator.best_params_)))"
   ]
  }
 ],
 "metadata": {
  "interpreter": {
   "hash": "7d2cc45be89154c81e316490ce08739f90b548aca5356e8d287f3c1f6b5a8c71"
  },
  "kernelspec": {
   "display_name": "Python 3.9.7 ('tf')",
   "language": "python",
   "name": "python3"
  },
  "language_info": {
   "codemirror_mode": {
    "name": "ipython",
    "version": 3
   },
   "file_extension": ".py",
   "mimetype": "text/x-python",
   "name": "python",
   "nbconvert_exporter": "python",
   "pygments_lexer": "ipython3",
   "version": "3.9.7"
  }
 },
 "nbformat": 4,
 "nbformat_minor": 2
}
