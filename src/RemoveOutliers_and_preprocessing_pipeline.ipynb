{
 "cells": [
  {
   "cell_type": "code",
   "execution_count": 1,
   "metadata": {},
   "outputs": [],
   "source": [
    "import warnings\n",
    "warnings.filterwarnings(action=\"ignore\")\n",
    "\n",
    "import numpy as np\n",
    "import pandas as pd\n",
    "import matplotlib.pyplot as plt\n",
    "\n",
    "from sklearn.linear_model import LogisticRegression\n",
    "\n",
    "from imblearn.over_sampling import SMOTE\n",
    "from imblearn.pipeline import Pipeline as imbpipeline\n",
    "\n",
    "from sklearn.model_selection import  GridSearchCV, StratifiedKFold\n",
    "from sklearn.metrics import  f1_score, confusion_matrix, classification_report, make_scorer\n",
    "from sklearn.preprocessing import MinMaxScaler, StandardScaler\n",
    "from IPython.display import display\n",
    "from sklearn.feature_selection import SelectKBest, f_classif\n",
    "from sklearn.decomposition import PCA\n",
    "\n",
    "from sklearn.svm import OneClassSVM\n",
    "from sklearn.ensemble import IsolationForest\n",
    "from sklearn.neighbors import LocalOutlierFactor"
   ]
  },
  {
   "cell_type": "markdown",
   "metadata": {},
   "source": [
    "##### Code for plotting confusion matrix"
   ]
  },
  {
   "cell_type": "code",
   "execution_count": 2,
   "metadata": {},
   "outputs": [],
   "source": [
    "import itertools\n",
    "import matplotlib.pyplot as plt\n",
    "import numpy as np\n",
    "def plot_confusion_matrix(cm, classes,\n",
    "                          normalize=False,\n",
    "                          title='Confusion matrix',\n",
    "                          cmap=plt.cm.Blues):\n",
    "    \"\"\"\n",
    "    This function prints and plots the confusion matrix.\n",
    "    Normalization can be applied by setting `normalize=True`.\n",
    "    \"\"\"\n",
    "    if normalize:\n",
    "        cm = cm.astype('float') / cm.sum(axis=1)[:, np.newaxis]\n",
    "\n",
    "    plt.imshow(cm, interpolation='nearest', cmap=cmap)\n",
    "    plt.title(title)\n",
    "    plt.colorbar()\n",
    "    tick_marks = np.arange(len(classes))\n",
    "    plt.xticks(tick_marks, classes, rotation=45)\n",
    "    plt.yticks(tick_marks, classes)\n",
    "\n",
    "    fmt = '.2f' if normalize else 'd'\n",
    "    thresh = cm.max() / 2.\n",
    "    for i, j in itertools.product(range(cm.shape[0]), range(cm.shape[1])):\n",
    "        plt.text(j, i, format(cm[i, j], fmt),\n",
    "                 horizontalalignment=\"center\",\n",
    "                 color=\"white\" if cm[i, j] > thresh else \"black\")\n",
    "\n",
    "    plt.ylabel('True label')\n",
    "    plt.xlabel('Predicted label')\n",
    "    plt.tight_layout()\n",
    "    plt.show()"
   ]
  },
  {
   "cell_type": "markdown",
   "metadata": {},
   "source": [
    "##### Load the data"
   ]
  },
  {
   "cell_type": "code",
   "execution_count": 3,
   "metadata": {},
   "outputs": [
    {
     "name": "stdout",
     "output_type": "stream",
     "text": [
      "0    5279\n",
      "1     176\n",
      "Name: Bankrupt?, dtype: int64\n",
      "0    1320\n",
      "1      44\n",
      "Name: Bankrupt?, dtype: int64\n"
     ]
    }
   ],
   "source": [
    "train = pd.read_csv('../data/original/training_dataset.csv')\n",
    "test = pd.read_csv('../data/original/evaluation_dataset.csv')\n",
    "\n",
    "print(train['Bankrupt?'].value_counts())\n",
    "print(test['Bankrupt?'].value_counts()) "
   ]
  },
  {
   "cell_type": "markdown",
   "metadata": {},
   "source": [
    "### Preprocessing"
   ]
  },
  {
   "cell_type": "markdown",
   "metadata": {},
   "source": [
    "##### Remove some outliers <br>\n",
    "Statistical approach: IQR Test, gives good results in our case"
   ]
  },
  {
   "cell_type": "code",
   "execution_count": 4,
   "metadata": {},
   "outputs": [
    {
     "data": {
      "text/plain": [
       "0    5279\n",
       "1     176\n",
       "Name: Bankrupt?, dtype: int64"
      ]
     },
     "metadata": {},
     "output_type": "display_data"
    },
    {
     "data": {
      "text/plain": [
       "0    4837\n",
       "1     175\n",
       "Name: Bankrupt?, dtype: int64"
      ]
     },
     "metadata": {},
     "output_type": "display_data"
    }
   ],
   "source": [
    "# Removes outliers. 1 bankrupt companie and 442 non banckrupt. \n",
    "def outliers_removal(feature, feature_name, dataset):\n",
    "    q1 = np.percentile(feature, 25)\n",
    "    q3 = np.percentile(feature, 75)\n",
    "    iqr = q3 - q1\n",
    "    fence = iqr * 1.5\n",
    "    fence_lower = q1 - fence \n",
    "    fence_upper = q3 + fence\n",
    "    outliers = [x for x in feature if x < fence_lower or x > fence_upper]\n",
    "    dataset = dataset.drop(dataset[(dataset[feature_name] > fence_upper) | (dataset[feature_name] < fence_lower)].index)\n",
    "    return dataset\n",
    "\n",
    "# Only remove outliers from train data\n",
    "for col in train:\n",
    "    new_train = outliers_removal(train[col], str(col), train)\n",
    "\n",
    "#Original\n",
    "display(train['Bankrupt?'].value_counts())\n",
    "# New\n",
    "display(new_train['Bankrupt?'].value_counts())"
   ]
  },
  {
   "cell_type": "markdown",
   "metadata": {},
   "source": [
    "##### Make a train/test splitt"
   ]
  },
  {
   "cell_type": "code",
   "execution_count": 5,
   "metadata": {},
   "outputs": [
    {
     "name": "stdout",
     "output_type": "stream",
     "text": [
      "0    4837\n",
      "1     175\n",
      "Name: Bankrupt?, dtype: int64\n",
      "0    1320\n",
      "1      44\n",
      "Name: Bankrupt?, dtype: int64\n"
     ]
    }
   ],
   "source": [
    "y_train = new_train['Bankrupt?']\n",
    "X_train = new_train.drop(['Bankrupt?'], axis = 1)\n",
    "\n",
    "y_test = test['Bankrupt?']\n",
    "X_test = test.drop(['Bankrupt?'], axis = 1)\n",
    "\n",
    "print(y_train.value_counts())\n",
    "print(y_test.value_counts()) "
   ]
  },
  {
   "cell_type": "markdown",
   "metadata": {},
   "source": [
    "##### Additional outlier removal"
   ]
  },
  {
   "cell_type": "code",
   "execution_count": 6,
   "metadata": {},
   "outputs": [],
   "source": [
    "# Try and also remove outliers with this method\n",
    "\n",
    "# iso = IsolationForest(contamination=0.3)\n",
    "# yhat = iso.fit_predict(X_train)\n",
    "\n",
    "# # select all rows that are not outliers\n",
    "# mask = yhat != -1\n",
    "# X_train = X_train.to_numpy()\n",
    "# y_train = y_train.to_numpy()\n",
    "# print(X_train.shape, y_train.shape)\n",
    "# X_train, y_train = X_train[mask, :], y_train[mask]\n",
    "# print(X_train.shape, y_train.shape)"
   ]
  },
  {
   "cell_type": "code",
   "execution_count": 7,
   "metadata": {},
   "outputs": [],
   "source": [
    "# Or remove outliers with this method\n",
    "\n",
    "# ee = OneClassSVM(nu=0.03)\n",
    "# yhat = ee.fit_predict(X_train)\n",
    "\n",
    "# # select all rows that are not outliers\n",
    "# mask = yhat != -1\n",
    "# X_train = X_train.to_numpy()\n",
    "# y_train = y_train.to_numpy()\n",
    "# print(X_train.shape, y_train.shape)\n",
    "# X_train, y_train = X_train[mask, :], y_train[mask]\n",
    "# print(X_train.shape, y_train.shape)"
   ]
  },
  {
   "cell_type": "code",
   "execution_count": 8,
   "metadata": {},
   "outputs": [],
   "source": [
    "# Or remove outliers with this method\n",
    "\n",
    "# lof = LocalOutlierFactor(n_neighbors=10, contamination=0.3)\n",
    "# yhat = lof.fit_predict(X_train)\n",
    "\n",
    "# mask = yhat != -1\n",
    "# X_train = X_train.to_numpy()\n",
    "# y_train = y_train.to_numpy()\n",
    "# print(X_train.shape, y_train.shape)\n",
    "# X_train, y_train = X_train[mask, :], y_train[mask]\n",
    "# print(X_train.shape, y_train.shape)"
   ]
  },
  {
   "cell_type": "markdown",
   "metadata": {},
   "source": [
    "### Pipeline"
   ]
  },
  {
   "cell_type": "markdown",
   "metadata": {},
   "source": [
    "##### Example using Logistic Regression\n",
    "Sampling using SMOTE. Scale. SelectKBest for feature selection. PCA to reduce dimentionality and <br> \n",
    "removing some outliers??? StratifiedKFold for crosscalidation. Try logistic regression and tune parameters with GridSearch by using params. "
   ]
  },
  {
   "cell_type": "code",
   "execution_count": 9,
   "metadata": {},
   "outputs": [
    {
     "name": "stdout",
     "output_type": "stream",
     "text": [
      "{'pca__n_components': 10, 'reg__C': 10, 'reg__class_weight': 'balanced', 'reg__penalty': 'l2', 'reg__solver': 'newton-cg', 'selection__k': 50}\n"
     ]
    }
   ],
   "source": [
    "# StratifiedKFold for crossvalidation in GridSearch\n",
    "cros_val = StratifiedKFold(n_splits=5)\n",
    "\n",
    "# Looks to better than minmaxscaler for some tre based estimators \n",
    "scaler =  StandardScaler() \n",
    "\n",
    "# Usualy use minmaxscaler. \n",
    "# minmax performs for example better for logistic regression in this case.\n",
    "scaler2 = MinMaxScaler()\n",
    "\n",
    "# Do feature selection with SelectKBest.\n",
    "feature_selection = SelectKBest(f_classif)  \n",
    "\n",
    "# Oversample data with SMOTE\n",
    "smote = SMOTE(sampling_strategy='minority', random_state=20)\n",
    "\n",
    "# Dimentionality reduction with PCA.\n",
    "pca = PCA() \n",
    "\n",
    "# Pick an estimator to train\n",
    "estimator = LogisticRegression(random_state=20)\n",
    "\n",
    "# Define a pipeline. Use imblearn library for pipeline to be able to include SMOTE\n",
    "pipeline = imbpipeline(steps = [('scaler', scaler2), \n",
    "                                ('selection', feature_selection), \n",
    "                                ('pca', pca), \n",
    "                                ('smote', smote), \n",
    "                                ('reg', estimator)\n",
    "                                ])\n",
    "\n",
    "# Example parameters that should be tested in the GridSearch\n",
    "params = {'selection__k':[40,50,60,70],\n",
    "          'pca__n_components':[7,10,15],\n",
    "          'reg__penalty': ['l2'],\n",
    "          'reg__C': [0.001, 0.01, 0.1, 1, 10, 100, 1000],\n",
    "          'reg__class_weight': ['balanced'],\n",
    "          'reg__solver':['newton-cg', 'lbfgs', 'liblinear', 'sag', 'saga']\n",
    "          }\n",
    "\n",
    "# use best_params if you do not want to do a full GridSearch (for comparison in later iterations)\n",
    "best_params = {'selection__k':[50],\n",
    "          'pca__n_components':[10],\n",
    "          'reg__penalty': ['l2'],\n",
    "          'reg__C': [10],\n",
    "          'reg__class_weight': ['balanced'],\n",
    "          'reg__solver':['newton-cg']\n",
    "          }\n",
    "\n",
    "# Make a scorer that vaules puts less weight on precision, more weight on recall.\n",
    "from sklearn.metrics import fbeta_score, make_scorer\n",
    "f2_scorer = make_scorer(fbeta_score, beta=2)\n",
    "\n",
    "# GridSearch for hyperparameter-optimization \n",
    "best_model = GridSearchCV(pipeline, best_params, scoring=f2_scorer, cv=cros_val) \n",
    "\n",
    "# fit our model\n",
    "best_model.fit(X_train, y_train)\n",
    "\n",
    "# Prints the best parameters from the GridSearch\n",
    "print(best_model.best_params_)"
   ]
  },
  {
   "cell_type": "code",
   "execution_count": 10,
   "metadata": {},
   "outputs": [
    {
     "name": "stdout",
     "output_type": "stream",
     "text": [
      "              precision    recall  f1-score   support\n",
      "\n",
      "           0       0.99      0.86      0.92      1320\n",
      "           1       0.16      0.82      0.27        44\n",
      "\n",
      "    accuracy                           0.85      1364\n",
      "   macro avg       0.58      0.84      0.59      1364\n",
      "weighted avg       0.97      0.85      0.90      1364\n",
      "\n",
      "f1-score: 0.2657\n",
      "f2-score: 0.4467\n"
     ]
    },
    {
     "data": {
      "image/png": "[encoded data removed]",
      "text/plain": [
       "<Figure size 432x288 with 2 Axes>"
      ]
     },
     "metadata": {
      "needs_background": "light"
     },
     "output_type": "display_data"
    }
   ],
   "source": [
    "# Make a prediction\n",
    "y_pred_test = best_model.predict(X_test) \n",
    "\n",
    "# Print a classification report for our prediction\n",
    "print(classification_report(y_test, y_pred_test))\n",
    "print(f'f1-score: {round(f1_score(y_test, y_pred_test), 4)}')\n",
    "print(f'f2-score: {round(fbeta_score(y_test, y_pred_test, beta=2), 4)}')\n",
    "\n",
    "# Look at testing results in confusion matrix\n",
    "test_conf_matrix = confusion_matrix(y_test, y_pred_test)\n",
    "plot_confusion_matrix(test_conf_matrix, classes=[0, 1], title='Logistic Regression')"
   ]
  },
  {
   "cell_type": "code",
   "execution_count": null,
   "metadata": {},
   "outputs": [],
   "source": []
  }
 ],
 "metadata": {
  "interpreter": {
   "hash": "95c2d180611c945bf8134b7443aa5095b2b0c0865c1b1cefcfea1d6aad230ac0"
  },
  "kernelspec": {
   "display_name": "Python 3.8.3 ('base')",
   "language": "python",
   "name": "python3"
  },
  "language_info": {
   "codemirror_mode": {
    "name": "ipython",
    "version": 3
   },
   "file_extension": ".py",
   "mimetype": "text/x-python",
   "name": "python",
   "nbconvert_exporter": "python",
   "pygments_lexer": "ipython3",
   "version": "3.8.3"
  },
  "orig_nbformat": 4
 },
 "nbformat": 4,
 "nbformat_minor": 2
}
