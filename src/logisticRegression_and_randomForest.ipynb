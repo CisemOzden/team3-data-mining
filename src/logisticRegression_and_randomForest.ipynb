{
 "cells": [
  {
   "cell_type": "code",
   "execution_count": 1,
   "metadata": {},
   "outputs": [],
   "source": [
    "# IMPORTING LIBRARIES\n",
    "\n",
    "# General Libraries\n",
    "\n",
    "# import os\n",
    "import numpy as np\n",
    "import pandas as pd\n",
    "import seaborn as sns\n",
    "# from scipy.stats import norm\n",
    "# from collections import Counter\n",
    "import matplotlib.pyplot as plt\n",
    "\n",
    "import warnings\n",
    "warnings.filterwarnings(action=\"ignore\")\n",
    "\n",
    "\n",
    "from sklearn.pipeline import make_pipeline\n",
    "from sklearn.model_selection import train_test_split, cross_val_score, StratifiedShuffleSplit\n",
    "\n",
    "# from sklearn import tree\n",
    "from sklearn.svm import SVC\n",
    "from sklearn.linear_model import LogisticRegression\n",
    "from sklearn.ensemble import RandomForestClassifier\n",
    "import xgboost as xgb\n",
    "# from catboost import CatBoostClassifier\n",
    "from sklearn.ensemble import StackingClassifier\n",
    "# from mlxtend.classifier import StackingCVClassifier\n",
    "\n",
    "from imblearn.over_sampling import SMOTE\n",
    "from imblearn.pipeline import Pipeline as imbpipeline\n",
    "from sklearn.pipeline import FeatureUnion\n",
    "\n",
    "from sklearn.model_selection import cross_val_predict, RandomizedSearchCV, GridSearchCV, KFold, cross_validate, RepeatedStratifiedKFold, StratifiedKFold\n",
    "from sklearn.metrics import recall_score, f1_score, roc_auc_score, accuracy_score, precision_score, precision_recall_curve, average_precision_score\n",
    "from sklearn.metrics import confusion_matrix, classification_report, roc_curve, recall_score, make_scorer\n",
    "from sklearn.preprocessing import MinMaxScaler, StandardScaler\n",
    "from IPython.display import display\n",
    "from sklearn.feature_selection import SelectKBest, chi2, f_classif, mutual_info_classif \n",
    "from sklearn.decomposition import PCA\n",
    "\n",
    "from sklearn.svm import OneClassSVM\n",
    "from sklearn.ensemble import IsolationForest\n",
    "from sklearn.neighbors import LocalOutlierFactor"
   ]
  },
  {
   "cell_type": "markdown",
   "metadata": {},
   "source": [
    "##### Code for plotting confusion matrix"
   ]
  },
  {
   "cell_type": "code",
   "execution_count": 2,
   "metadata": {},
   "outputs": [],
   "source": [
    "import itertools\n",
    "import matplotlib.pyplot as plt\n",
    "import numpy as np\n",
    "def plot_confusion_matrix(cm, classes,\n",
    "                          normalize=False,\n",
    "                          title='Confusion matrix',\n",
    "                          cmap=plt.cm.Blues):\n",
    "    \"\"\"\n",
    "    This function prints and plots the confusion matrix.\n",
    "    Normalization can be applied by setting `normalize=True`.\n",
    "    \"\"\"\n",
    "    if normalize:\n",
    "        cm = cm.astype('float') / cm.sum(axis=1)[:, np.newaxis]\n",
    "\n",
    "    plt.imshow(cm, interpolation='nearest', cmap=cmap)\n",
    "    plt.title(title)\n",
    "    plt.colorbar()\n",
    "    tick_marks = np.arange(len(classes))\n",
    "    plt.xticks(tick_marks, classes, rotation=45)\n",
    "    plt.yticks(tick_marks, classes)\n",
    "\n",
    "    fmt = '.2f' if normalize else 'd'\n",
    "    thresh = cm.max() / 2.\n",
    "    for i, j in itertools.product(range(cm.shape[0]), range(cm.shape[1])):\n",
    "        plt.text(j, i, format(cm[i, j], fmt),\n",
    "                 horizontalalignment=\"center\",\n",
    "                 color=\"white\" if cm[i, j] > thresh else \"black\")\n",
    "\n",
    "    plt.ylabel('True label')\n",
    "    plt.xlabel('Predicted label')\n",
    "    plt.tight_layout()\n",
    "    plt.show()"
   ]
  },
  {
   "cell_type": "markdown",
   "metadata": {},
   "source": [
    "### Preprosessing"
   ]
  },
  {
   "cell_type": "code",
   "execution_count": 3,
   "metadata": {},
   "outputs": [
    {
     "name": "stdout",
     "output_type": "stream",
     "text": [
      "0    5279\n",
      "1     176\n",
      "Name: Bankrupt?, dtype: int64\n",
      "0    1320\n",
      "1      44\n",
      "Name: Bankrupt?, dtype: int64\n"
     ]
    }
   ],
   "source": [
    "train = pd.read_csv('../data/original/training_dataset.csv')\n",
    "test = pd.read_csv('../data/original/evaluation_dataset.csv')\n",
    "\n",
    "print(train['Bankrupt?'].value_counts())\n",
    "print(test['Bankrupt?'].value_counts()) "
   ]
  },
  {
   "cell_type": "markdown",
   "metadata": {},
   "source": [
    "##### Remove some outliers"
   ]
  },
  {
   "cell_type": "code",
   "execution_count": 4,
   "metadata": {},
   "outputs": [
    {
     "data": {
      "text/plain": [
       "0    5279\n",
       "1     176\n",
       "Name: Bankrupt?, dtype: int64"
      ]
     },
     "metadata": {},
     "output_type": "display_data"
    },
    {
     "data": {
      "text/plain": [
       "0    4837\n",
       "1     175\n",
       "Name: Bankrupt?, dtype: int64"
      ]
     },
     "metadata": {},
     "output_type": "display_data"
    }
   ],
   "source": [
    "# Way to rewrite the code to make it our own\n",
    "# Outliers removal  #removes 2 of the bancrupt companies and almost 600 non bancrupt companies #something changed and it does not do this anymore???\n",
    "# def remove_outlier(df_in, col_name):\n",
    "#     q1 = df_in[col_name].quantile(0.25)\n",
    "#     q3 = df_in[col_name].quantile(0.75)\n",
    "#     iqr = q3-q1 #Interquartile range\n",
    "#     fence_low  = q1-1.5*iqr\n",
    "#     fence_high = q3+1.5*iqr\n",
    "#     df_out = df_in.loc[(df_in[col_name] > fence_low) & (df_in[col_name] < fence_high)]\n",
    "#     return df_out\n",
    "\n",
    "\n",
    "# Taken from kaggle\n",
    "def outliers_removal(feature, feature_name, dataset):\n",
    "    \n",
    "    # Identify 25th & 75th quartiles\n",
    "\n",
    "    q25, q75 = np.percentile(feature, 25), np.percentile(feature, 75)\n",
    "    # print('Quartile 25: {} | Quartile 75: {}'.format(q25, q75))\n",
    "    feat_iqr = q75 - q25\n",
    "    # print('iqr: {}'.format(feat_iqr))\n",
    "    \n",
    "    feat_cut_off = feat_iqr * 1.5\n",
    "    feat_lower, feat_upper = q25 - feat_cut_off, q75 + feat_cut_off\n",
    "    # print('Cut Off: {}'.format(feat_cut_off))\n",
    "    # print(feature_name +' Lower: {}'.format(feat_lower))\n",
    "    # print(feature_name +' Upper: {}'.format(feat_upper))\n",
    "    \n",
    "    outliers = [x for x in feature if x < feat_lower or x > feat_upper]\n",
    "    # print(feature_name + ' outliers for close to bankruptcy cases: {}'.format(len(outliers)))\n",
    "    #print(feature_name + ' outliers:{}'.format(outliers))\n",
    "\n",
    "    dataset = dataset.drop(dataset[(dataset[feature_name] > feat_upper) | (dataset[feature_name] < feat_lower)].index)\n",
    "    # print('-' * 65)\n",
    "    \n",
    "    return dataset\n",
    "\n",
    "# Only remove outliers from train data\n",
    "for col in train:\n",
    "    new_train = outliers_removal(train[col], str(col), train)\n",
    "\n",
    "\n",
    "#Original\n",
    "display(train['Bankrupt?'].value_counts())\n",
    "# New\n",
    "display(new_train['Bankrupt?'].value_counts())"
   ]
  },
  {
   "cell_type": "markdown",
   "metadata": {},
   "source": [
    "##### Try feature reduction\n",
    "Activate code below to remove higly correlated features before feature reduction in pipeline. <br> \n",
    "Does not look like it makes for better results than already using SelectKBest"
   ]
  },
  {
   "cell_type": "code",
   "execution_count": 5,
   "metadata": {},
   "outputs": [],
   "source": [
    "# Taken from the internet:)\n",
    "# Remove some of the higly correlated features, more feature selection later\n",
    "\n",
    "# Use for naive bayes\n",
    "def filter_correlated_features(df, filter_threshold = 0.95):\n",
    "    '''Filters out features with a Pearson correlation coefficient > filter_threshold\n",
    "       Based on: https://chrisalbon.com/machine_learning/feature_selection/drop_highly_correlated_features/\n",
    "    '''\n",
    "    # Take the abs value so both negative and positive correlations are mapped from 0 to 1\n",
    "    corr_matrix = df.corr().abs()\n",
    "\n",
    "    # Select upper triangle of correlation matrix\n",
    "    upper = corr_matrix.where(np.triu(np.ones(corr_matrix.shape), k=1).astype(np.bool))\n",
    "\n",
    "    # Find index of feature columns with correlation greater than filter_threshold\n",
    "    to_drop = [column for column in upper.columns if any(upper[column] > filter_threshold)]\n",
    "    print(\"Dropping\", to_drop)\n",
    "    filtered_df = df.drop(columns=to_drop)\n",
    "    return filtered_df, to_drop\n",
    "\n",
    "\n",
    "# new_train, to_drop = filter_correlated_features(new_train)\n",
    "# # display(to_drop)\n",
    "# display(len(new_train.columns))\n",
    "# test.drop(to_drop, axis = 1, inplace = True)\n",
    "# display(len(test.columns))\n"
   ]
  },
  {
   "cell_type": "markdown",
   "metadata": {},
   "source": [
    "##### Make a train/test splitt"
   ]
  },
  {
   "cell_type": "code",
   "execution_count": 6,
   "metadata": {},
   "outputs": [
    {
     "name": "stdout",
     "output_type": "stream",
     "text": [
      "0    4837\n",
      "1     175\n",
      "Name: Bankrupt?, dtype: int64\n",
      "0    1320\n",
      "1      44\n",
      "Name: Bankrupt?, dtype: int64\n"
     ]
    }
   ],
   "source": [
    "y_train = new_train['Bankrupt?']\n",
    "X_train = new_train.drop(['Bankrupt?'], axis = 1)\n",
    "\n",
    "y_test = test['Bankrupt?']\n",
    "X_test = test.drop(['Bankrupt?'], axis = 1)\n",
    "\n",
    "print(y_train.value_counts())\n",
    "print(y_test.value_counts()) "
   ]
  },
  {
   "cell_type": "markdown",
   "metadata": {},
   "source": [
    "##### New methods for removing outliers\n",
    "Results does not improve"
   ]
  },
  {
   "cell_type": "code",
   "execution_count": 7,
   "metadata": {},
   "outputs": [],
   "source": [
    "# Not any better results\n",
    "# OneClassSVM for removing outliers\n",
    "# identify outliers in the training dataset\n",
    "\n",
    "# ee = OneClassSVM(nu=0.03)\n",
    "# yhat = ee.fit_predict(X_train)\n",
    "\n",
    "# select all rows that are not outliers\n",
    "\n",
    "# mask = yhat != -1\n",
    "# X_train = X_train.to_numpy()\n",
    "# y_train = y_train.to_numpy()\n",
    "# print(X_train.shape, y_train.shape)\n",
    "# X_train, y_train = X_train[mask, :], y_train[mask]\n",
    "# print(X_train.shape, y_train.shape)"
   ]
  },
  {
   "cell_type": "code",
   "execution_count": 8,
   "metadata": {},
   "outputs": [],
   "source": [
    "# iso = IsolationForest(contamination=0.3)\n",
    "# yhat = iso.fit_predict(X_train)\n",
    "\n",
    "# # select all rows that are not outliers\n",
    "\n",
    "# mask = yhat != -1\n",
    "# X_train = X_train.to_numpy()\n",
    "# y_train = y_train.to_numpy()\n",
    "# print(X_train.shape, y_train.shape)\n",
    "# X_train, y_train = X_train[mask, :], y_train[mask]\n",
    "# print(X_train.shape, y_train.shape)"
   ]
  },
  {
   "cell_type": "code",
   "execution_count": 9,
   "metadata": {},
   "outputs": [],
   "source": [
    "# lof = LocalOutlierFactor()\n",
    "# yhat = lof.fit_predict(X_train)\n",
    "\n",
    "# mask = yhat != -1\n",
    "# X_train = X_train.to_numpy()\n",
    "# y_train = y_train.to_numpy()\n",
    "# print(X_train.shape, y_train.shape)\n",
    "# X_train, y_train = X_train[mask, :], y_train[mask]\n",
    "# print(X_train.shape, y_train.shape)"
   ]
  },
  {
   "cell_type": "code",
   "execution_count": 10,
   "metadata": {},
   "outputs": [],
   "source": [
    "# "
   ]
  },
  {
   "cell_type": "markdown",
   "metadata": {},
   "source": [
    "### Pipeline for Logistic Regression\n",
    "SMOTE for sampling. Standardise with StandardScaler. Try logistic regression and tune parameters with gridsearch by using params. <br>\n",
    "StratifiedKFold for crosval and SelectKBest for feature reduction. Apply PCA for removing some outliers??? and reduce dimentionality"
   ]
  },
  {
   "cell_type": "code",
   "execution_count": 11,
   "metadata": {},
   "outputs": [
    {
     "name": "stdout",
     "output_type": "stream",
     "text": [
      "{'pca__n_components': 15, 'reg__C': 0.01, 'reg__class_weight': 'balanced', 'reg__penalty': 'l2', 'reg__solver': 'newton-cg', 'selection__k': 70}\n"
     ]
    }
   ],
   "source": [
    "# Stratified Cross Validation, smote, logistic regression, feature selection with SeleckKBest, \n",
    "# hyperparameter optimization with randomized gridsearch\n",
    "\n",
    "cros_val = StratifiedKFold(n_splits=5)\n",
    "\n",
    "smote = SMOTE(sampling_strategy='minority', random_state=20)\n",
    "# Assumption: data has a Gaussian distribution. Therfore use standardscaler and logistic regression.(Might be wrong, but looks better tha minmaxscaler)\n",
    "scaler =  StandardScaler() # is our data already normalised? (Do not think so). \n",
    "# Data seems to be performing well for gaussian methods \n",
    "\n",
    "# Data might not be Gaussian --> try minmaxscaler. Results does not improve\n",
    "scaler2 = MinMaxScaler()\n",
    "\n",
    "estimator = LogisticRegression(random_state=20)\n",
    "feature_selection = SelectKBest(f_classif)  \n",
    "pca = PCA() #performs better with PCA\n",
    "\n",
    "# feature selection before smote. Will smote in pipeline be applied to X_test when using predict? Don't want to balance test data!!!\n",
    "# Does not look like smote is fited on test set, which is good.\n",
    "\n",
    "# try and add pca\n",
    "pipeline = imbpipeline(steps = [('scaler', scaler), ('selection', feature_selection), ('pca', pca), ('smote', smote), \n",
    "                        ('reg', estimator)])\n",
    "\n",
    "# No scaling, gives us very bad results\n",
    "# pipeline = imbpipeline(steps = [ ('selection', feature_selection), ('smote', smote), ('reg', estimator)])\n",
    "\n",
    "# For when running gridSearch\n",
    "params = {'selection__k':[20,30,40,50,60,70,80],\n",
    "          'pca__n_components':[3,5,7,10,15],\n",
    "          'reg__penalty': ['l2'],\n",
    "          'reg__C': [0.001, 0.01, 0.1, 1, 10, 100, 1000],\n",
    "          'reg__class_weight': ['balanced'],\n",
    "          'reg__solver':['newton-cg', 'lbfgs', 'liblinear', 'sag', 'saga']\n",
    "          }\n",
    "\n",
    "#best params\n",
    "best_params = {'selection__k':[70],\n",
    "          'pca__n_components':[15],\n",
    "          'reg__penalty': ['l2'],\n",
    "          'reg__C': [0.01],\n",
    "          'reg__class_weight': ['balanced'],\n",
    "          'reg__solver':['newton-cg']\n",
    "          }\n",
    "\n",
    "# recall_custom_scorer = make_scorer(\n",
    "#     lambda y, y_pred, **kwargs: recall_score(y, y_pred, pos_label=1)[1]\n",
    "# ) #Not sure if this works.. No better results than setting scoring to 'recall'\n",
    "\n",
    "rand_log_reg = GridSearchCV(pipeline, best_params, scoring='f1', cv=cros_val) #for RandomSearchCV: n_jobs=4 \n",
    "# fit rand_log_reg\n",
    "rand_log_reg.fit(X_train, y_train)\n",
    "\n",
    "print(rand_log_reg.best_params_)\n",
    "\n",
    "# Best_params as of now:\n",
    "# {'pca__n_components': 15, 'reg__C': 0.01, 'reg__class_weight': 'balanced', 'reg__penalty': 'l2', 'reg__solver': 'newton-cg', 'selection__k': 70}\n",
    "# selectin = 70 slightly better than 50."
   ]
  },
  {
   "cell_type": "markdown",
   "metadata": {},
   "source": [
    "##### Look at our results"
   ]
  },
  {
   "cell_type": "code",
   "execution_count": 12,
   "metadata": {},
   "outputs": [
    {
     "name": "stdout",
     "output_type": "stream",
     "text": [
      "              precision    recall  f1-score   support\n",
      "\n",
      "           0       0.99      0.86      0.92      4837\n",
      "           1       0.18      0.86      0.30       175\n",
      "\n",
      "    accuracy                           0.86      5012\n",
      "   macro avg       0.59      0.86      0.61      5012\n",
      "weighted avg       0.97      0.86      0.90      5012\n",
      "\n",
      "              precision    recall  f1-score   support\n",
      "\n",
      "           0       0.99      0.85      0.92      1320\n",
      "           1       0.15      0.80      0.25        44\n",
      "\n",
      "    accuracy                           0.85      1364\n",
      "   macro avg       0.57      0.82      0.58      1364\n",
      "weighted avg       0.96      0.85      0.89      1364\n",
      "\n"
     ]
    }
   ],
   "source": [
    "y_pred_train = rand_log_reg.predict(X_train) #prediction on our train set\n",
    "print(classification_report(y_train, y_pred_train))\n",
    "train_conf_matrix = confusion_matrix(y_train, y_pred_train)\n",
    "\n",
    "y_pred_test = rand_log_reg.predict(X_test) # prediction on our test set\n",
    "print(classification_report(y_test, y_pred_test))\n",
    "test_conf_matrix = confusion_matrix(y_test, y_pred_test)"
   ]
  },
  {
   "cell_type": "code",
   "execution_count": 13,
   "metadata": {},
   "outputs": [
    {
     "name": "stdout",
     "output_type": "stream",
     "text": [
      "f1-score: 0.2964\n"
     ]
    },
    {
     "data": {
      "image/png": "[encoded data removed]",
      "text/plain": [
       "<Figure size 432x288 with 2 Axes>"
      ]
     },
     "metadata": {
      "needs_background": "light"
     },
     "output_type": "display_data"
    }
   ],
   "source": [
    "# Look at training results\n",
    "print(f'f1-score: {round(f1_score(y_train, y_pred_train), 4)}')\n",
    "plot_confusion_matrix(train_conf_matrix, classes=[0, 1], title='Logistic Regression')"
   ]
  },
  {
   "cell_type": "code",
   "execution_count": 14,
   "metadata": {},
   "outputs": [
    {
     "name": "stdout",
     "output_type": "stream",
     "text": [
      "f1-score: 0.2518\n"
     ]
    },
    {
     "data": {
      "image/png": "[encoded data removed]",
      "text/plain": [
       "<Figure size 432x288 with 2 Axes>"
      ]
     },
     "metadata": {
      "needs_background": "light"
     },
     "output_type": "display_data"
    }
   ],
   "source": [
    "# Look at testing results\n",
    "print(f'f1-score: {round(f1_score(y_test, y_pred_test), 4)}')\n",
    "plot_confusion_matrix(test_conf_matrix, classes=[0, 1], title='Logistic Regression')\n",
    "#False negatives are dangerous!\n",
    "# Best f1-score = 0.3254"
   ]
  },
  {
   "cell_type": "markdown",
   "metadata": {},
   "source": [
    "##### Plot ROC Curve for test"
   ]
  },
  {
   "cell_type": "code",
   "execution_count": 15,
   "metadata": {},
   "outputs": [
    {
     "data": {
      "image/png": "[encoded data removed]",
      "text/plain": [
       "<Figure size 432x288 with 1 Axes>"
      ]
     },
     "metadata": {
      "needs_background": "light"
     },
     "output_type": "display_data"
    }
   ],
   "source": [
    "proba_for_each_class = rand_log_reg.predict_proba(X_test)\n",
    "# calculate the ROC Curve\n",
    "fpr, tpr, thresholds = roc_curve(y_test, proba_for_each_class[:,1])\n",
    "\n",
    "# plot the line for random guessing\n",
    "plt.plot([0, 1], [0, 1], linestyle='--', lw=2, color='r', label='Random', alpha=.8)\n",
    "\n",
    "# plot the ROC Curve for the classifier\n",
    "plt.plot(fpr,tpr,label='Logistic_Regression')\n",
    "\n",
    "# show the plot\n",
    "plt.xlabel(\"False Positive Rate\")\n",
    "plt.ylabel(\"True Positive Rate\")\n",
    "plt.legend()\n",
    "plt.show() "
   ]
  },
  {
   "cell_type": "markdown",
   "metadata": {},
   "source": [
    "### Pipeline for Random Forest"
   ]
  },
  {
   "cell_type": "code",
   "execution_count": 16,
   "metadata": {},
   "outputs": [
    {
     "name": "stdout",
     "output_type": "stream",
     "text": [
      "{'forest__bootstrap': False, 'forest__class_weight': 'balanced_subsample', 'forest__criterion': 'entropy', 'forest__max_features': 'log2', 'pca__n_components': 15, 'selection__k': 50}\n"
     ]
    }
   ],
   "source": [
    "# Stratified Cross Validation, smote, logistic regression, feature selection with SeleckKBest, \n",
    "# hyperparameter optimization with randomized gridsearch\n",
    "\n",
    "cros_val = StratifiedKFold(n_splits=5)\n",
    "\n",
    "smote = SMOTE(sampling_strategy='minority', random_state=20)\n",
    "# Assumption: data has a Gaussian distribution. Therfore use standardscaler and logistic regression.(Might be wrong, but looks better tha minmaxscaler)\n",
    "scaler =  StandardScaler() # is our data already normalised? (Do not think so). \n",
    "# Data seems to be performing well for gaussian methods \n",
    "\n",
    "# Data might not be Gaussian --> try minmaxscaler. Results does not improve\n",
    "scaler2 = MinMaxScaler()\n",
    "\n",
    "estimator = RandomForestClassifier(random_state=20)\n",
    "feature_selection = SelectKBest(f_classif) # flere muligheter her? \n",
    "pca = PCA() #performs better with PCA\n",
    "\n",
    "# feature selection before smote. Will smote in pipeline be applied to X_test when using predict? Don't want to balance test data!!!\n",
    "# Does not look like smote is fited on test set, which is good.\n",
    "\n",
    "# try and add pca\n",
    "pipeline = imbpipeline(steps = [('scaler', scaler), ('selection', feature_selection), ('pca', pca), ('smote', smote), \n",
    "                        ('forest', estimator)])\n",
    "\n",
    "# No scaling, gives us very bad results\n",
    "# pipeline = imbpipeline(steps = [ ('selection', feature_selection), ('smote', smote), ('reg', estimator)])\n",
    "\n",
    "# For when running gridSearch\n",
    "params = {'selection__k':[30,40,50,60,70],\n",
    "          'pca__n_components':[5,7,10,15],\n",
    "          'forest__max_features' : ['auto', 'sqrt', 'log2'],\n",
    "          'forest__class_weight' : ['balanced', 'balanced_subsample'],\n",
    "          'forest__criterion' : ['gini', 'entropy'], \n",
    "          'forest__bootstrap' : [True, False]\n",
    "          }\n",
    "\n",
    "#best params, add 'forest__max_depth': [5] ?\n",
    "best_params = {'selection__k':[50],\n",
    "          'pca__n_components':[15],\n",
    "          'forest__max_features' : ['log2'],\n",
    "          'forest__class_weight' : ['balanced_subsample'],\n",
    "          'forest__criterion' : ['entropy'], \n",
    "          'forest__bootstrap' : [False]\n",
    "          }\n",
    "\n",
    "rand_forest = GridSearchCV(pipeline, best_params, scoring='f1', cv=cros_val) #for RandomSearchCV: n_jobs=4 ,  verbose=2\n",
    "# fit rand_log_reg\n",
    "rand_forest.fit(X_train, y_train)\n",
    "\n",
    "print(rand_forest.best_params_)\n",
    "#Best params\n",
    "#{'forest__bootstrap': False, 'forest__class_weight': 'balanced_subsample', 'forest__criterion': 'entropy', \n",
    "# 'forest__max_features': 'log2', 'pca__n_components': 15, 'selection__k': 50}"
   ]
  },
  {
   "cell_type": "code",
   "execution_count": 17,
   "metadata": {},
   "outputs": [
    {
     "name": "stdout",
     "output_type": "stream",
     "text": [
      "              precision    recall  f1-score   support\n",
      "\n",
      "           0       1.00      1.00      1.00      4837\n",
      "           1       1.00      1.00      1.00       175\n",
      "\n",
      "    accuracy                           1.00      5012\n",
      "   macro avg       1.00      1.00      1.00      5012\n",
      "weighted avg       1.00      1.00      1.00      5012\n",
      "\n",
      "              precision    recall  f1-score   support\n",
      "\n",
      "           0       0.98      0.97      0.98      1320\n",
      "           1       0.34      0.48      0.40        44\n",
      "\n",
      "    accuracy                           0.95      1364\n",
      "   macro avg       0.66      0.72      0.69      1364\n",
      "weighted avg       0.96      0.95      0.96      1364\n",
      "\n"
     ]
    }
   ],
   "source": [
    "y_pred_train = rand_forest.predict(X_train) #prediction on our train set\n",
    "print(classification_report(y_train, y_pred_train))\n",
    "train_conf_matrix = confusion_matrix(y_train, y_pred_train)\n",
    "\n",
    "y_pred_test = rand_forest.predict(X_test) # prediction on our test set\n",
    "print(classification_report(y_test, y_pred_test))\n",
    "test_conf_matrix = confusion_matrix(y_test, y_pred_test)"
   ]
  },
  {
   "cell_type": "code",
   "execution_count": 18,
   "metadata": {},
   "outputs": [
    {
     "name": "stdout",
     "output_type": "stream",
     "text": [
      "f1-score: 1.0\n"
     ]
    },
    {
     "data": {
      "image/png": "[encoded data removed]",
      "text/plain": [
       "<Figure size 432x288 with 2 Axes>"
      ]
     },
     "metadata": {
      "needs_background": "light"
     },
     "output_type": "display_data"
    }
   ],
   "source": [
    "# Look at training results. Can this method be better? Any point in trying other scaling, and feature selecting methodes. \n",
    "# Overfitting? And how to deal with it???\n",
    "print(f'f1-score: {round(f1_score(y_train, y_pred_train), 4)}')\n",
    "plot_confusion_matrix(train_conf_matrix, classes=[0, 1], title='Random Forest')"
   ]
  },
  {
   "cell_type": "code",
   "execution_count": 19,
   "metadata": {},
   "outputs": [
    {
     "name": "stdout",
     "output_type": "stream",
     "text": [
      "f1-score: 0.4\n"
     ]
    },
    {
     "data": {
      "image/png": "[encoded data removed]",
      "text/plain": [
       "<Figure size 432x288 with 2 Axes>"
      ]
     },
     "metadata": {
      "needs_background": "light"
     },
     "output_type": "display_data"
    }
   ],
   "source": [
    "# Look at testing results\n",
    "print(f'f1-score: {round(f1_score(y_test, y_pred_test), 4)}')\n",
    "plot_confusion_matrix(test_conf_matrix, classes=[0, 1], title='Random Forest')\n",
    "#False negatives are dangerous!\n",
    "# Best f1-score = 0.5053"
   ]
  },
  {
   "cell_type": "code",
   "execution_count": 20,
   "metadata": {},
   "outputs": [
    {
     "data": {
      "image/png": "[encoded data removed]",
      "text/plain": [
       "<Figure size 432x288 with 1 Axes>"
      ]
     },
     "metadata": {
      "needs_background": "light"
     },
     "output_type": "display_data"
    }
   ],
   "source": [
    "proba_for_each_class = rand_forest.predict_proba(X_test)\n",
    "# calculate the ROC Curve\n",
    "fpr, tpr, thresholds = roc_curve(y_test, proba_for_each_class[:,1])\n",
    "\n",
    "# plot the line for random guessing\n",
    "plt.plot([0, 1], [0, 1], linestyle='--', lw=2, color='r', label='Random', alpha=.8)\n",
    "\n",
    "# plot the ROC Curve for the classifier\n",
    "plt.plot(fpr,tpr,label='Random_Forest')\n",
    "\n",
    "# show the plot\n",
    "plt.xlabel(\"False Positive Rate\")\n",
    "plt.ylabel(\"True Positive Rate\")\n",
    "plt.legend()\n",
    "plt.show() "
   ]
  },
  {
   "cell_type": "code",
   "execution_count": null,
   "metadata": {},
   "outputs": [],
   "source": []
  },
  {
   "cell_type": "code",
   "execution_count": null,
   "metadata": {},
   "outputs": [],
   "source": []
  }
 ],
 "metadata": {
  "interpreter": {
   "hash": "95c2d180611c945bf8134b7443aa5095b2b0c0865c1b1cefcfea1d6aad230ac0"
  },
  "kernelspec": {
   "display_name": "Python 3.8.3 ('base')",
   "language": "python",
   "name": "python3"
  },
  "language_info": {
   "codemirror_mode": {
    "name": "ipython",
    "version": 3
   },
   "file_extension": ".py",
   "mimetype": "text/x-python",
   "name": "python",
   "nbconvert_exporter": "python",
   "pygments_lexer": "ipython3",
   "version": "3.8.3"
  },
  "orig_nbformat": 4
 },
 "nbformat": 4,
 "nbformat_minor": 2
}
