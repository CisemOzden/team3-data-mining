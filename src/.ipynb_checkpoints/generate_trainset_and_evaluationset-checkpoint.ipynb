{
 "cells": [
  {
   "cell_type": "markdown",
   "metadata": {},
   "source": [
    "## Define splitting constants"
   ]
  },
  {
   "cell_type": "code",
   "execution_count": 4,
   "metadata": {},
   "outputs": [],
   "source": [
    "INPUT_FILE = \"../data/preprocessed/difference_preprocessed_data.csv\"\n",
    "\n",
    "OUTPUT_PREFIX = \"\"\n",
    "OUTPUT_TRAINING_FILE = f\"../data/original/training_dataset.csv\"\n",
    "OUTPUT_EVALUATION_FILE = f\"../data/original/evaluation_dataset.csv\"\n",
    "\n",
    "EVALUATION_PERCENTAGE = 0.20"
   ]
  },
  {
   "cell_type": "markdown",
   "metadata": {},
   "source": [
    "## Import necessary libraries"
   ]
  },
  {
   "cell_type": "code",
   "execution_count": 5,
   "metadata": {},
   "outputs": [],
   "source": [
    "import pandas as pd\n",
    "import csv\n",
    "from sklearn.model_selection import train_test_split"
   ]
  },
  {
   "cell_type": "markdown",
   "metadata": {},
   "source": [
    "## Load the data"
   ]
  },
  {
   "cell_type": "code",
   "execution_count": 6,
   "metadata": {},
   "outputs": [],
   "source": [
    "csvFile = INPUT_FILE\n",
    "dataset = pd.read_csv(csvFile)"
   ]
  },
  {
   "cell_type": "markdown",
   "metadata": {},
   "source": [
    "## Split the data"
   ]
  },
  {
   "cell_type": "code",
   "execution_count": 7,
   "metadata": {},
   "outputs": [],
   "source": [
    "# Extract x% from non bankrupt company data\n",
    "non_bankrupt_companies = dataset[dataset[\"Bankrupt?\"] == 0]\n",
    "train_non_bankrupt_companies, evaluation_non_bankrupt_companies = train_test_split(non_bankrupt_companies, test_size=EVALUATION_PERCENTAGE)\n",
    "\n",
    "# Extract x% from bankrupt company data\n",
    "bankrupt_companies = dataset[dataset[\"Bankrupt?\"] == 1]\n",
    "train_bankrupt_companies, evaluation_bankrupt_companies = train_test_split(bankrupt_companies, test_size=EVALUATION_PERCENTAGE)\n",
    "\n",
    "# Merge sampled data back together\n",
    "train_data = pd.concat([train_non_bankrupt_companies, train_bankrupt_companies], axis=0)\n",
    "evaluation_data = pd.concat([evaluation_non_bankrupt_companies, evaluation_bankrupt_companies], axis=0)"
   ]
  },
  {
   "cell_type": "markdown",
   "metadata": {},
   "source": [
    "## Save the split data to separate files"
   ]
  },
  {
   "cell_type": "code",
   "execution_count": 8,
   "metadata": {},
   "outputs": [],
   "source": [
    "train_data.to_csv(OUTPUT_TRAINING_FILE, index=False, quoting=csv.QUOTE_ALL)\n",
    "evaluation_data.to_csv(OUTPUT_EVALUATION_FILE, index=False, quoting=csv.QUOTE_ALL)"
   ]
  }
 ],
 "metadata": {
  "interpreter": {
   "hash": "df7a9a5c37ddd52c7652a98db41541d6c37368917739ba33de99dadb21ef70fe"
  },
  "kernelspec": {
   "display_name": "Python 3",
   "language": "python",
   "name": "python3"
  },
  "language_info": {
   "codemirror_mode": {
    "name": "ipython",
    "version": 3
   },
   "file_extension": ".py",
   "mimetype": "text/x-python",
   "name": "python",
   "nbconvert_exporter": "python",
   "pygments_lexer": "ipython3",
   "version": "3.8.5"
  }
 },
 "nbformat": 4,
 "nbformat_minor": 2
}
