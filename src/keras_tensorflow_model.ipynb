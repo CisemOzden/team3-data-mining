{
 "cells": [
  {
   "cell_type": "markdown",
   "metadata": {},
   "source": [
    "## Import necessary libraries"
   ]
  },
  {
   "cell_type": "code",
   "execution_count": 153,
   "metadata": {},
   "outputs": [],
   "source": [
    "%reset -f\n",
    "\n",
    "import pandas as pd\n",
    "import numpy\n",
    "import time\n",
    "from sklearn.metrics import confusion_matrix\n",
    "from sklearn.metrics import balanced_accuracy_score\n",
    "\n",
    "import time\n",
    "import pandas as pd\n",
    "import os.path\n",
    "import os\n",
    "import numpy as np\n",
    "import matplotlib.pyplot as plt\n",
    "import matplotlib.pyplot as plt\n",
    "import cv2 \n",
    "from sklearn.metrics import mean_squared_log_error\n",
    "from matplotlib import pyplot as plt\n",
    "from PIL import Image\n",
    "from IPython.display import Image, display\n",
    "import tensorflow\n",
    "os.environ['PATH'] += ';C:\\\\Program Files\\\\Graphviz\\\\bin'\n",
    "import graphviz\n",
    "from IPython.display import Image\n",
    "from keras.utils.vis_utils import plot_model\n",
    "from tensorflow.keras.callbacks import EarlyStopping, ModelCheckpoint\n",
    "from sklearn.preprocessing import OneHotEncoder\n",
    "\n",
    "# !pip install talos\n",
    "import talos\n",
    "\n",
    "\n",
    "def RMSLE(y_true, y_pred):\n",
    "    return np.sqrt(mean_squared_log_error(y_true, y_pred))"
   ]
  },
  {
   "cell_type": "markdown",
   "metadata": {},
   "source": [
    "## Save environment parameters, so those won't be saved to report file"
   ]
  },
  {
   "cell_type": "code",
   "execution_count": 154,
   "metadata": {},
   "outputs": [],
   "source": [
    "environment_variables = dir()"
   ]
  },
  {
   "cell_type": "markdown",
   "metadata": {},
   "source": [
    "## Define model related constants"
   ]
  },
  {
   "cell_type": "code",
   "execution_count": 155,
   "metadata": {},
   "outputs": [],
   "source": [
    "# Input parameters\n",
    "# Input parameters\n",
    "TRAINING_FILES = [\"../data/original/training_dataset.csv\"\n",
    ", \"..\\data\\preprocessed\\difference_preprocessed_training_dataset.csv\"\n",
    ", \"..\\data\\preprocessed\\ole_RemoveOutliers_and_preprocessing_pipe_training_dataset.csv\"]\n",
    "EVALUATION_FILES = [\"../data/original/evaluation_dataset.csv\"\n",
    ", \"..\\data\\preprocessed\\difference_preprocessed_evaluation_dataset.csv\"\n",
    ", \"..\\data\\preprocessed\\ole_RemoveOutliers_and_preprocessing_pipe_evaluation_dataset.csv\"]\n",
    "\n",
    "FILE_N = 2\n",
    "INPUT_TRAINING_FILE = TRAINING_FILES[FILE_N] # \"../data/original/training_dataset.csv\"\n",
    "INPUT_EVALUATION_FILE = EVALUATION_FILES[FILE_N] # \"../data/original/evaluation_dataset.csv\"\n",
    "\n",
    "\n",
    "# Output parameters\n",
    "METHOD_NAME = \"keras_tensorflow_resnet\"\n",
    "TIMESTAMP = time.strftime(\"%d_%m_%Y-%H_%M_%S\")\n",
    "OUTPUT_MODEL_FOLDER = f\"../data/models/keras_models\"\n",
    "OUTPUT_MODEL = f\"../data/models/{METHOD_NAME}_model_{TIMESTAMP}.pkl\"\n",
    "OUTPUT_RESULTS = f\"../data/results/{METHOD_NAME}_model_{TIMESTAMP}.txt\"\n",
    "OUTPUT_MODEL_ARCHITECTURE_RESULTS = f\"../img/{METHOD_NAME}_model_{TIMESTAMP}.png\"\n",
    "\n",
    "# Hyper parameter alternatives\n",
    "# Bankrupt companies must have higher weight, because there are fewer samples\n",
    "\n",
    "# Hyper parameter optimization parameters\n",
    "HYPER_PARAMETER_OPTIMIZATION_SCORING = \"accuracy\"\n",
    "HYPER_PARAMETER_OPTIMIZATION_CV = 5\n",
    "\n",
    "# Cross validation parameters\n",
    "CROSS_VALIDATION_CV = 5\n",
    "\n",
    "# Cost parameters\n",
    "PUNISHMENT_FOR_FALSE_BANKRUPT_PREDICTION = 100\n",
    "\n",
    "# Other constants\n",
    "LABELS = [\"Operational\", \"Bankrupt\"]\n",
    "RANDOM_SEED = 42"
   ]
  },
  {
   "cell_type": "markdown",
   "metadata": {},
   "source": [
    "## Load the datasets\n",
    "These dataset should contain \"Bankrupt?\" label and features that should be considered during learning."
   ]
  },
  {
   "cell_type": "code",
   "execution_count": 156,
   "metadata": {},
   "outputs": [],
   "source": [
    "\n",
    "training_dataset = pd.read_csv(INPUT_TRAINING_FILE, engine=\"python\", delimiter=\",\")\n",
    "training_features = training_dataset.loc[:, training_dataset.columns != \"Bankrupt?\"]\n",
    "training_targets = training_dataset[\"Bankrupt?\"]\n",
    "\n",
    "evaluation_dataset = pd.read_csv(INPUT_EVALUATION_FILE, engine=\"python\", delimiter=\",\")\n",
    "evaluation_features = evaluation_dataset.loc[:, evaluation_dataset.columns != \"Bankrupt?\"]\n",
    "evaluation_targets = evaluation_dataset[\"Bankrupt?\"]"
   ]
  },
  {
   "cell_type": "markdown",
   "metadata": {},
   "source": [
    "## Define the training pipeline"
   ]
  },
  {
   "cell_type": "code",
   "execution_count": 157,
   "metadata": {},
   "outputs": [],
   "source": [
    "# # Create internal pipeline\n",
    "# classifier = svm.SVC(class_weight=HYPER_PARAMETER_CLASS_WEIGHT, random_state=RANDOM_SEED)\n",
    "# pipeline = Pipeline(steps=[(\"classification\", classifier)])\n",
    "\n",
    "# # Specify the tunable hyper parameters\n",
    "# parameters = {\n",
    "#     \"classification__kernel\": HYPER_PARAMETER_KERNEL,\n",
    "#     \"classification__gamma\": HYPER_PARAMETER_GAMMA\n",
    "# }\n",
    "\n",
    "# # Define KFold parameters\n",
    "# cv = StratifiedKFold(n_splits=HYPER_PARAMETER_OPTIMIZATION_CV, shuffle=True, random_state=42)\n",
    "\n",
    "# estimator = GridSearchCV(pipeline, parameters,\n",
    "#     scoring=HYPER_PARAMETER_OPTIMIZATION_SCORING, cv=cv)"
   ]
  },
  {
   "cell_type": "code",
   "execution_count": 158,
   "metadata": {},
   "outputs": [],
   "source": [
    "# Define our keras-tensorflow architecture\n",
    "def ResNet(n_in, n_out, neurons = 213 , n_activator = 'relu', f_activator = 'softmax'):\n",
    "    input =tensorflow.keras.layers.Input(shape=(n_in,))\n",
    "\n",
    "    output1 =tensorflow.keras.layers.Dense(n_in, input_shape=(n_in,), activation=n_activator)(input)\n",
    "    output1 =tensorflow.keras.layers.BatchNormalization(axis=1, name='dense_relu' + '2a')(output1)\n",
    "    dense_name_base = \"dense\"\n",
    "    bn_name_base = \"dense_additionall\"\n",
    "    shortcut1 =tensorflow.keras.layers.Dense(n_in, activation=n_activator, kernel_initializer='he_normal',\n",
    "                                name=dense_name_base + '1')(output1)\n",
    "    output2 =tensorflow.keras.layers.Dense(neurons, activation=n_activator, kernel_initializer='he_normal',\n",
    "                                name=dense_name_base + '2a')(output1)\n",
    "    \n",
    "    output2 =tensorflow.keras.layers.BatchNormalization(axis=1, name=bn_name_base + '2a')(output2)\n",
    "    shortcut2 =tensorflow.keras.layers.Dense(neurons, activation=n_activator, kernel_initializer='he_normal',\n",
    "                                name=dense_name_base + '2')(output2)\n",
    "\n",
    "    #     # Jump over neurons\n",
    "    output2 =tensorflow.keras.layers.add([shortcut1, shortcut2])\n",
    "\n",
    "\n",
    "    output3 =tensorflow.keras.layers.Dense(neurons, activation=n_activator, kernel_initializer='he_normal',\n",
    "                                name=dense_name_base + '2b')(output2)\n",
    "    output3 =tensorflow.keras.layers.BatchNormalization(axis=1, name=bn_name_base + '2b')(output3)\n",
    "\n",
    "    shortcut3 =tensorflow.keras.layers.Dense(neurons, activation=n_activator, kernel_initializer='he_normal',\n",
    "                                name=dense_name_base + '222')(output3)\n",
    "    \n",
    "    output4 =tensorflow.keras.layers.Dense(neurons, activation=n_activator, kernel_initializer='he_normal',\n",
    "                                name=dense_name_base + '2c')(output3)\n",
    "    output4 =tensorflow.keras.layers.BatchNormalization(axis=1, name=bn_name_base + '2c')(output4)\n",
    "\n",
    "    shortcut6 =tensorflow.keras.layers.Dense(neurons, activation=n_activator, kernel_initializer='he_normal',\n",
    "                                name=dense_name_base + '4')(output4)\n",
    "\n",
    "    # Jump over neurons\n",
    "    output =tensorflow.keras.layers.add([ output2,shortcut6 ])\n",
    "    output =tensorflow.keras.layers.Dense(n_out, activation=f_activator, name='fc1000')(output)\n",
    "    \n",
    "    # Final model\n",
    "    model =tensorflow.keras.models.Model(inputs=input, outputs=output)\n",
    "    return model\n",
    "\n",
    "\n",
    "\n",
    "\n"
   ]
  },
  {
   "cell_type": "code",
   "execution_count": null,
   "metadata": {},
   "outputs": [],
   "source": []
  },
  {
   "cell_type": "markdown",
   "metadata": {},
   "source": [
    "## Do training"
   ]
  },
  {
   "cell_type": "code",
   "execution_count": 159,
   "metadata": {},
   "outputs": [],
   "source": [
    "def train_fit_model(data_train,target_train, data_test,target_test, model, loss, optimizer, metrics, epochs = 250):\n",
    "\n",
    "    # Plot model information\n",
    "    plot_= True\n",
    "    plot_model(model, to_file=OUTPUT_MODEL_ARCHITECTURE_RESULTS, show_shapes=True, show_layer_names=True)\n",
    "    if plot_:\n",
    "        plot_model(model, to_file=OUTPUT_MODEL_ARCHITECTURE_RESULTS, show_shapes=True, show_layer_names=True)\n",
    "        im = cv2.imread(OUTPUT_MODEL_ARCHITECTURE_RESULTS, 0)\n",
    "        model.summary()\n",
    "        display(Image(filename=OUTPUT_MODEL_ARCHITECTURE_RESULTS))\n",
    "\n",
    "    model.compile(loss=loss, optimizer=optimizer, metrics=metrics)\n",
    "    \n",
    "    file_path = TIMESTAMP\n",
    "    file_path = OUTPUT_MODEL_FOLDER + \"/\" + file_path\n",
    "    if not os.path.exists(file_path):#os.path.join(OUTPUT_MODEL_FOLDER,file_path)):\n",
    "        os.makedirs(file_path)\n",
    "    \n",
    "    checkpath = file_path\n",
    "    os.makedirs(checkpath, exist_ok=True)\n",
    "    checkpath = os.path.join(checkpath, METHOD_NAME + 'model-epoch{epoch:03d}-valloss{val_loss:03f}-acc{val_accuracy:03f}.h5')\n",
    "    \n",
    "    stopper = EarlyStopping(monitor='val_accuracy', min_delta=0.001, patience=20, mode='auto')\n",
    "    saver = ModelCheckpoint(checkpath, save_best_only=True, verbose=1, monitor='val_loss', mode='min')\n",
    "    tensorflow.convert_to_tensor(data_train)\n",
    "    tensorflow.convert_to_tensor(data_test)\n",
    "\n",
    "    history = model.fit(data_train, target_train,\n",
    "                      batch_size=64,\n",
    "                      epochs=epochs,\n",
    "                      verbose=2,\n",
    "                      validation_data=((data_test), target_test),\n",
    "                      callbacks=[saver, stopper])\n",
    "                      \n",
    "    return model, history\n",
    "\n",
    "def ResNet2(n_in, n_out, neurons = 213 , n_activator = 'relu', f_activator = 'softmax'):\n",
    "    input =tensorflow.keras.layers.Input(shape=(n_in,))\n",
    "\n",
    "    output1 =tensorflow.keras.layers.Dense(n_in, input_shape=(n_in,), activation=n_activator)(input)\n",
    "    output1 =tensorflow.keras.layers.BatchNormalization(axis=1, name='dense_relu' + '2a')(output1)\n",
    "    dense_name_base = \"dense\"\n",
    "    bn_name_base = \"dense_additionall\"\n",
    "    shortcut1 =tensorflow.keras.layers.Dense(n_in, activation=n_activator, kernel_initializer='he_normal',\n",
    "                                name=dense_name_base + '1')(output1)\n",
    "    \n",
    "    \n",
    "    output1 =tensorflow.keras.layers.add([output1, shortcut1])#\n",
    "\n",
    "        \n",
    "    output2 =tensorflow.keras.layers.Dense(neurons, activation=n_activator, kernel_initializer='he_normal',\n",
    "                                name=dense_name_base + '2a')(output1)\n",
    "    \n",
    "    output2 =tensorflow.keras.layers.BatchNormalization(axis=1, name=bn_name_base + '2a')(output2)\n",
    "    shortcut2 =tensorflow.keras.layers.Dense(neurons, activation=n_activator, kernel_initializer='he_normal',\n",
    "                                name=dense_name_base + '2')(output2)\n",
    "\n",
    "    shortcut1 =tensorflow.keras.layers.Dense(neurons, activation=n_activator, kernel_initializer='he_normal',\n",
    "                                name=dense_name_base + '22')(output1)\n",
    "#     # Jump over neurons\n",
    "#     output2 =tensorflow.keras.layers.add([shortcut1, shortcut2])\n",
    "    output2 =tensorflow.keras.layers.add([output2, shortcut2,shortcut1])\n",
    "\n",
    "    output3 =tensorflow.keras.layers.Dense(neurons, activation=n_activator, kernel_initializer='he_normal',\n",
    "                                name=dense_name_base + '2b')(output2)\n",
    "    output3 =tensorflow.keras.layers.BatchNormalization(axis=1, name=bn_name_base + '2b')(output3)\n",
    "\n",
    "    shortcut3 =tensorflow.keras.layers.Dense(neurons, activation=n_activator, kernel_initializer='he_normal',\n",
    "                                name=dense_name_base + '222')(output3)\n",
    "    \n",
    "    \n",
    "    output4 =tensorflow.keras.layers.add([output2,output3,shortcut1,shortcut2 , shortcut3 ])\n",
    "\n",
    "\n",
    "    output4 =tensorflow.keras.layers.Dense(neurons, activation=n_activator, kernel_initializer='he_normal',\n",
    "                                name=dense_name_base + '2c')(output4)\n",
    "    output4 =tensorflow.keras.layers.BatchNormalization(axis=1, name=bn_name_base + '2c')(output4)\n",
    "    shortcut4 =tensorflow.keras.layers.Dense(neurons, activation='relu', kernel_initializer='he_normal',\n",
    "                                    name=dense_name_base + '2222')(output4)\n",
    "\n",
    "    output5 =tensorflow.keras.layers.add([output2,output3,output4,shortcut1,shortcut2 , shortcut3,shortcut4 ])\n",
    "    shortcut6 =tensorflow.keras.layers.Dense(neurons, activation=n_activator, kernel_initializer='he_normal',\n",
    "                                name=dense_name_base + '4')(output4)\n",
    "\n",
    "    # Jump over neurons\n",
    "    output =tensorflow.keras.layers.add([output2,output3,output4, output5,shortcut1,shortcut2 , shortcut3,shortcut4,shortcut6 ])\n",
    "\n",
    "    output =tensorflow.keras.layers.Dense(n_out, activation=f_activator, name='fc1000')(output)\n",
    "    \n",
    "    # Final model\n",
    "    model =tensorflow.keras.models.Model(inputs=input, outputs=output)\n",
    "    return model\n",
    "\n",
    "def simple_dense_model(n_in, n_out, neurons = 213 , n_activator = 'relu', f_activator = 'softmax', droput_val = 0, bn = False):\n",
    "    inputs =tensorflow.keras.layers.Input(shape=(n_in,), dtype='float32', name='input_layer')  # Input (2 dimensions)\n",
    "\n",
    "    outputs =tensorflow.keras.layers.Dense(n_in, activation=n_activator, name='hidden_layer_dense')(inputs)  # Hidden layer\n",
    "    if bn:\n",
    "        outputs = tensorflow.keras.layers.BatchNormalization()(outputs)\n",
    "    outputs =tensorflow.keras.layers.Dropout(droput_val)(outputs)\n",
    "\n",
    "    # outputs =tensorflow.keras.layers.Dense(20, activation=n_activator, name='hidden_layer_dense1')(outputs)  # Hidden layer\n",
    "    # outputs =tensorflow.keras.layers.Dropout(droput_val)(outputs)\n",
    "    # outputs = tensorflow.keras.layers.BatchNormalization()(outputs)\n",
    "\n",
    "\n",
    "    outputs =tensorflow.keras.layers.Dense(n_in, activation=n_activator, name='hidden_layer_dense2')(outputs)  # Hidden layer\n",
    "    if bn:\n",
    "        outputs = tensorflow.keras.layers.BatchNormalization()(outputs)\n",
    "    outputs =tensorflow.keras.layers.Dropout(droput_val)(outputs)\n",
    "\n",
    "        \n",
    "    outputs =tensorflow.keras.layers.Dense(n_out, activation=f_activator, name='output_layer')(outputs)  # Output layer (3 labels)\n",
    "\n",
    "    # Completing the model structrure as a working model.\n",
    "    # Užbaigiam modelio struktūrą kaip darbinį modelį.\n",
    "    model =tensorflow.keras.models.Model(inputs=inputs, outputs=outputs, name='neural_network')\n",
    "\n",
    "    return model\n",
    "\n",
    "loss = 'binary_crossentropy'\n",
    "optimizer = 'adam'\n",
    "metrics = ['accuracy', 'MeanSquaredError', 'AUC', \"RootMeanSquaredError\"]\n",
    "\n",
    "# Build a model architecture\n",
    "target_train = np.asarray(training_targets).astype('float32').reshape((-1,1))\n",
    "target_test = np.asarray(evaluation_targets).astype('float32').reshape((-1,1))#\n",
    "input_n = len(training_features.columns)\n",
    "\n",
    "# Preparing the results input/output, for evaluation later on\n",
    "oh_enc = OneHotEncoder(sparse=False)\n",
    "target_train_OH = oh_enc.fit_transform(target_train)\n",
    "target_test_OH = oh_enc.transform(target_test)\n",
    "\n",
    "# Setting our model main parameters\n",
    "model = simple_dense_model(input_n\n",
    "                        , 2\n",
    "                        , neurons = input_n \n",
    "                        , n_activator = 'relu'\n",
    "                        , f_activator = 'sigmoid'\n",
    "                        , droput_val = 0\n",
    "                        , bn = True)"
   ]
  },
  {
   "cell_type": "markdown",
   "metadata": {},
   "source": [
    "## Training our model"
   ]
  },
  {
   "cell_type": "code",
   "execution_count": 160,
   "metadata": {},
   "outputs": [
    {
     "name": "stdout",
     "output_type": "stream",
     "text": [
      "Model: \"neural_network\"\n",
      "_________________________________________________________________\n",
      "Layer (type)                 Output Shape              Param #   \n",
      "=================================================================\n",
      "input_layer (InputLayer)     [(None, 95)]              0         \n",
      "_________________________________________________________________\n",
      "hidden_layer_dense (Dense)   (None, 95)                9120      \n",
      "_________________________________________________________________\n",
      "batch_normalization_39 (Batc (None, 95)                380       \n",
      "_________________________________________________________________\n",
      "dropout_41 (Dropout)         (None, 95)                0         \n",
      "_________________________________________________________________\n",
      "hidden_layer_dense2 (Dense)  (None, 95)                9120      \n",
      "_________________________________________________________________\n",
      "batch_normalization_40 (Batc (None, 95)                380       \n",
      "_________________________________________________________________\n",
      "dropout_42 (Dropout)         (None, 95)                0         \n",
      "_________________________________________________________________\n",
      "output_layer (Dense)         (None, 2)                 192       \n",
      "=================================================================\n",
      "Total params: 19,192\n",
      "Trainable params: 18,812\n",
      "Non-trainable params: 380\n",
      "_________________________________________________________________\n"
     ]
    },
    {
     "data": {
      "image/png": "[encoded data removed]",
      "text/plain": [
       "<IPython.core.display.Image object>"
      ]
     },
     "metadata": {},
     "output_type": "display_data"
    },
    {
     "name": "stdout",
     "output_type": "stream",
     "text": [
      "Epoch 1/100\n",
      "79/79 - 8s - loss: 0.5872 - accuracy: 0.7885 - mean_squared_error: 0.1977 - auc: 0.8030 - root_mean_squared_error: 0.4447 - val_loss: 0.3906 - val_accuracy: 0.9457 - val_mean_squared_error: 0.1114 - val_auc: 0.9613 - val_root_mean_squared_error: 0.3337\n",
      "\n",
      "Epoch 00001: val_loss improved from inf to 0.39061, saving model to ../data/models/keras_models/10_05_2022-23_50_35\\keras_tensorflow_resnetmodel-epoch001-valloss0.390614-acc0.945748.h5\n",
      "Epoch 2/100\n",
      "79/79 - 2s - loss: 0.2938 - accuracy: 0.9603 - mean_squared_error: 0.0730 - auc: 0.9733 - root_mean_squared_error: 0.2702 - val_loss: 0.1875 - val_accuracy: 0.9670 - val_mean_squared_error: 0.0406 - val_auc: 0.9753 - val_root_mean_squared_error: 0.2014\n",
      "\n",
      "Epoch 00002: val_loss improved from 0.39061 to 0.18746, saving model to ../data/models/keras_models/10_05_2022-23_50_35\\keras_tensorflow_resnetmodel-epoch002-valloss0.187459-acc0.967009.h5\n",
      "Epoch 3/100\n",
      "79/79 - 2s - loss: 0.1672 - accuracy: 0.9653 - mean_squared_error: 0.0365 - auc: 0.9782 - root_mean_squared_error: 0.1912 - val_loss: 0.1470 - val_accuracy: 0.9677 - val_mean_squared_error: 0.0321 - val_auc: 0.9738 - val_root_mean_squared_error: 0.1790\n",
      "\n",
      "Epoch 00003: val_loss improved from 0.18746 to 0.14701, saving model to ../data/models/keras_models/10_05_2022-23_50_35\\keras_tensorflow_resnetmodel-epoch003-valloss0.147009-acc0.967742.h5\n",
      "Epoch 4/100\n",
      "79/79 - 1s - loss: 0.1373 - accuracy: 0.9667 - mean_squared_error: 0.0315 - auc: 0.9829 - root_mean_squared_error: 0.1775 - val_loss: 0.1435 - val_accuracy: 0.9648 - val_mean_squared_error: 0.0320 - val_auc: 0.9767 - val_root_mean_squared_error: 0.1788\n",
      "\n",
      "Epoch 00004: val_loss improved from 0.14701 to 0.14355, saving model to ../data/models/keras_models/10_05_2022-23_50_35\\keras_tensorflow_resnetmodel-epoch004-valloss0.143546-acc0.964809.h5\n",
      "Epoch 5/100\n",
      "79/79 - 1s - loss: 0.1286 - accuracy: 0.9651 - mean_squared_error: 0.0307 - auc: 0.9854 - root_mean_squared_error: 0.1753 - val_loss: 0.1448 - val_accuracy: 0.9685 - val_mean_squared_error: 0.0312 - val_auc: 0.9760 - val_root_mean_squared_error: 0.1766\n",
      "\n",
      "Epoch 00005: val_loss did not improve from 0.14355\n",
      "Epoch 6/100\n",
      "79/79 - 1s - loss: 0.1227 - accuracy: 0.9667 - mean_squared_error: 0.0299 - auc: 0.9874 - root_mean_squared_error: 0.1728 - val_loss: 0.1515 - val_accuracy: 0.9670 - val_mean_squared_error: 0.0333 - val_auc: 0.9764 - val_root_mean_squared_error: 0.1825\n",
      "\n",
      "Epoch 00006: val_loss did not improve from 0.14355\n",
      "Epoch 7/100\n",
      "79/79 - 1s - loss: 0.1187 - accuracy: 0.9679 - mean_squared_error: 0.0290 - auc: 0.9878 - root_mean_squared_error: 0.1702 - val_loss: 0.1434 - val_accuracy: 0.9685 - val_mean_squared_error: 0.0307 - val_auc: 0.9771 - val_root_mean_squared_error: 0.1751\n",
      "\n",
      "Epoch 00007: val_loss improved from 0.14355 to 0.14338, saving model to ../data/models/keras_models/10_05_2022-23_50_35\\keras_tensorflow_resnetmodel-epoch007-valloss0.143385-acc0.968475.h5\n",
      "Epoch 8/100\n",
      "79/79 - 1s - loss: 0.1175 - accuracy: 0.9669 - mean_squared_error: 0.0288 - auc: 0.9881 - root_mean_squared_error: 0.1698 - val_loss: 0.1476 - val_accuracy: 0.9677 - val_mean_squared_error: 0.0319 - val_auc: 0.9775 - val_root_mean_squared_error: 0.1786\n",
      "\n",
      "Epoch 00008: val_loss did not improve from 0.14338\n",
      "Epoch 9/100\n",
      "79/79 - 0s - loss: 0.1177 - accuracy: 0.9683 - mean_squared_error: 0.0290 - auc: 0.9883 - root_mean_squared_error: 0.1703 - val_loss: 0.1526 - val_accuracy: 0.9677 - val_mean_squared_error: 0.0318 - val_auc: 0.9761 - val_root_mean_squared_error: 0.1784\n",
      "\n",
      "Epoch 00009: val_loss did not improve from 0.14338\n",
      "Epoch 10/100\n",
      "79/79 - 1s - loss: 0.1150 - accuracy: 0.9677 - mean_squared_error: 0.0282 - auc: 0.9886 - root_mean_squared_error: 0.1680 - val_loss: 0.1478 - val_accuracy: 0.9670 - val_mean_squared_error: 0.0318 - val_auc: 0.9789 - val_root_mean_squared_error: 0.1784\n",
      "\n",
      "Epoch 00010: val_loss did not improve from 0.14338\n",
      "Epoch 11/100\n",
      "79/79 - 1s - loss: 0.1110 - accuracy: 0.9673 - mean_squared_error: 0.0280 - auc: 0.9903 - root_mean_squared_error: 0.1674 - val_loss: 0.1527 - val_accuracy: 0.9677 - val_mean_squared_error: 0.0322 - val_auc: 0.9786 - val_root_mean_squared_error: 0.1794\n",
      "\n",
      "Epoch 00011: val_loss did not improve from 0.14338\n",
      "Epoch 12/100\n",
      "79/79 - 1s - loss: 0.1089 - accuracy: 0.9683 - mean_squared_error: 0.0276 - auc: 0.9906 - root_mean_squared_error: 0.1660 - val_loss: 0.1510 - val_accuracy: 0.9677 - val_mean_squared_error: 0.0310 - val_auc: 0.9787 - val_root_mean_squared_error: 0.1760\n",
      "\n",
      "Epoch 00012: val_loss did not improve from 0.14338\n",
      "Epoch 13/100\n",
      "79/79 - 1s - loss: 0.1096 - accuracy: 0.9673 - mean_squared_error: 0.0276 - auc: 0.9902 - root_mean_squared_error: 0.1661 - val_loss: 0.1497 - val_accuracy: 0.9655 - val_mean_squared_error: 0.0321 - val_auc: 0.9790 - val_root_mean_squared_error: 0.1792\n",
      "\n",
      "Epoch 00013: val_loss did not improve from 0.14338\n",
      "Epoch 14/100\n",
      "79/79 - 1s - loss: 0.1083 - accuracy: 0.9689 - mean_squared_error: 0.0271 - auc: 0.9904 - root_mean_squared_error: 0.1645 - val_loss: 0.1584 - val_accuracy: 0.9655 - val_mean_squared_error: 0.0327 - val_auc: 0.9769 - val_root_mean_squared_error: 0.1808\n",
      "\n",
      "Epoch 00014: val_loss did not improve from 0.14338\n",
      "Epoch 15/100\n",
      "79/79 - 1s - loss: 0.1073 - accuracy: 0.9675 - mean_squared_error: 0.0274 - auc: 0.9911 - root_mean_squared_error: 0.1655 - val_loss: 0.1694 - val_accuracy: 0.9582 - val_mean_squared_error: 0.0367 - val_auc: 0.9762 - val_root_mean_squared_error: 0.1917\n",
      "\n",
      "Epoch 00015: val_loss did not improve from 0.14338\n",
      "Epoch 16/100\n",
      "79/79 - 1s - loss: 0.1049 - accuracy: 0.9675 - mean_squared_error: 0.0269 - auc: 0.9916 - root_mean_squared_error: 0.1641 - val_loss: 0.1521 - val_accuracy: 0.9641 - val_mean_squared_error: 0.0323 - val_auc: 0.9791 - val_root_mean_squared_error: 0.1798\n",
      "\n",
      "Epoch 00016: val_loss did not improve from 0.14338\n",
      "Epoch 17/100\n",
      "79/79 - 1s - loss: 0.1020 - accuracy: 0.9693 - mean_squared_error: 0.0260 - auc: 0.9918 - root_mean_squared_error: 0.1612 - val_loss: 0.1580 - val_accuracy: 0.9655 - val_mean_squared_error: 0.0326 - val_auc: 0.9789 - val_root_mean_squared_error: 0.1804\n",
      "\n",
      "Epoch 00017: val_loss did not improve from 0.14338\n",
      "Epoch 18/100\n",
      "79/79 - 1s - loss: 0.1026 - accuracy: 0.9701 - mean_squared_error: 0.0262 - auc: 0.9919 - root_mean_squared_error: 0.1620 - val_loss: 0.1710 - val_accuracy: 0.9626 - val_mean_squared_error: 0.0361 - val_auc: 0.9762 - val_root_mean_squared_error: 0.1899\n",
      "\n",
      "Epoch 00018: val_loss did not improve from 0.14338\n",
      "Epoch 19/100\n",
      "79/79 - 1s - loss: 0.1019 - accuracy: 0.9689 - mean_squared_error: 0.0260 - auc: 0.9917 - root_mean_squared_error: 0.1611 - val_loss: 0.1600 - val_accuracy: 0.9663 - val_mean_squared_error: 0.0329 - val_auc: 0.9790 - val_root_mean_squared_error: 0.1814\n",
      "\n",
      "Epoch 00019: val_loss did not improve from 0.14338\n",
      "Epoch 20/100\n",
      "79/79 - 1s - loss: 0.0986 - accuracy: 0.9705 - mean_squared_error: 0.0250 - auc: 0.9923 - root_mean_squared_error: 0.1582 - val_loss: 0.1606 - val_accuracy: 0.9677 - val_mean_squared_error: 0.0314 - val_auc: 0.9782 - val_root_mean_squared_error: 0.1772\n",
      "\n",
      "Epoch 00020: val_loss did not improve from 0.14338\n",
      "Epoch 21/100\n",
      "79/79 - 1s - loss: 0.1020 - accuracy: 0.9693 - mean_squared_error: 0.0262 - auc: 0.9920 - root_mean_squared_error: 0.1618 - val_loss: 0.1671 - val_accuracy: 0.9663 - val_mean_squared_error: 0.0330 - val_auc: 0.9773 - val_root_mean_squared_error: 0.1817\n",
      "\n",
      "Epoch 00021: val_loss did not improve from 0.14338\n",
      "Epoch 22/100\n",
      "79/79 - 1s - loss: 0.0989 - accuracy: 0.9709 - mean_squared_error: 0.0256 - auc: 0.9926 - root_mean_squared_error: 0.1600 - val_loss: 0.1625 - val_accuracy: 0.9670 - val_mean_squared_error: 0.0321 - val_auc: 0.9787 - val_root_mean_squared_error: 0.1792\n",
      "\n",
      "Epoch 00022: val_loss did not improve from 0.14338\n",
      "Epoch 23/100\n",
      "79/79 - 1s - loss: 0.0962 - accuracy: 0.9699 - mean_squared_error: 0.0249 - auc: 0.9930 - root_mean_squared_error: 0.1578 - val_loss: 0.1625 - val_accuracy: 0.9655 - val_mean_squared_error: 0.0331 - val_auc: 0.9772 - val_root_mean_squared_error: 0.1819\n",
      "\n",
      "Epoch 00023: val_loss did not improve from 0.14338\n",
      "Epoch 24/100\n",
      "79/79 - 0s - loss: 0.0958 - accuracy: 0.9701 - mean_squared_error: 0.0248 - auc: 0.9931 - root_mean_squared_error: 0.1574 - val_loss: 0.1642 - val_accuracy: 0.9663 - val_mean_squared_error: 0.0325 - val_auc: 0.9778 - val_root_mean_squared_error: 0.1803\n",
      "\n",
      "Epoch 00024: val_loss did not improve from 0.14338\n",
      "Epoch 25/100\n",
      "79/79 - 0s - loss: 0.0991 - accuracy: 0.9693 - mean_squared_error: 0.0253 - auc: 0.9923 - root_mean_squared_error: 0.1591 - val_loss: 0.1673 - val_accuracy: 0.9655 - val_mean_squared_error: 0.0334 - val_auc: 0.9773 - val_root_mean_squared_error: 0.1829\n",
      "\n",
      "Epoch 00025: val_loss did not improve from 0.14338\n"
     ]
    }
   ],
   "source": [
    "estimator, history =  train_fit_model(training_features\n",
    "                                    ,target_train_OH\n",
    "                                    , evaluation_features\n",
    "                                    , target_test_OH\n",
    "                                    , model,loss\n",
    "                                    , optimizer\n",
    "                                    , metrics\n",
    "                                    , epochs = 100)"
   ]
  },
  {
   "cell_type": "code",
   "execution_count": null,
   "metadata": {},
   "outputs": [],
   "source": []
  },
  {
   "cell_type": "code",
   "execution_count": 161,
   "metadata": {},
   "outputs": [],
   "source": [
    "\n",
    "# results = cross_val_score(pipeline, training_features\n",
    "#                                     ,target_train, cv=kfold, verbose = 2)"
   ]
  },
  {
   "cell_type": "markdown",
   "metadata": {},
   "source": [
    "## Calculate metric values"
   ]
  },
  {
   "cell_type": "code",
   "execution_count": 162,
   "metadata": {},
   "outputs": [
    {
     "name": "stdout",
     "output_type": "stream",
     "text": [
      "Balanced training. acc: 0.5998966301426504\n",
      "Balanced eval. acc: 0.5098484848484849\n"
     ]
    }
   ],
   "source": [
    "def confusion_matrix_to_string(cm):\n",
    "    return f\"True operational={cm[0][0]}, True bankrupt={cm[1][1]}, False operational={cm[0][1]}, False bankrupt={cm[1][0]}\"\n",
    "\n",
    "def RMSLE(y_true, y_pred):\n",
    "    return np.sqrt(mean_squared_log_error(y_true, y_pred))\n",
    "\n",
    "\n",
    "    \n",
    "# Use all training data to calculate confusion matrix for training data\n",
    "training_estimates = estimator.predict(training_features)\n",
    "training_estimates = np.argmax(training_estimates,axis=1)\n",
    "\n",
    "training_accuracy = balanced_accuracy_score(training_targets, training_estimates)\n",
    "training_confusion_matrix = confusion_matrix(training_targets, training_estimates)\n",
    "training_confusion_matrix = confusion_matrix_to_string(training_confusion_matrix)\n",
    "\n",
    "\n",
    "# Use model to estimate manually labeled evaluation Tweets\n",
    "evaluation_estimates = estimator.predict(evaluation_features)\n",
    "evaluation_estimates = np.argmax(evaluation_estimates,axis=1)\n",
    "evaluation_accuracy = balanced_accuracy_score(evaluation_targets, evaluation_estimates)\n",
    "evaluation_confusion_matrix = confusion_matrix(evaluation_targets, evaluation_estimates)\n",
    "evaluation_confusion_matrix = confusion_matrix_to_string(evaluation_confusion_matrix)\n",
    "\n",
    "print(f\"Balanced training. acc: {training_accuracy}\")\n",
    "print(f\"Balanced eval. acc: {evaluation_accuracy}\")"
   ]
  },
  {
   "cell_type": "markdown",
   "metadata": {},
   "source": [
    "## Visualisation of our results"
   ]
  },
  {
   "cell_type": "code",
   "execution_count": 163,
   "metadata": {},
   "outputs": [
    {
     "name": "stdout",
     "output_type": "stream",
     "text": [
      "-- Model Specs --\n",
      "  - Test Accuracy 0.9718675179569034 % \n",
      "  - RMSLE 0.11625977748284202  \n"
     ]
    },
    {
     "data": {
      "image/png": "[encoded data removed]",
      "text/plain": [
       "<Figure size 432x288 with 2 Axes>"
      ]
     },
     "metadata": {
      "needs_background": "light"
     },
     "output_type": "display_data"
    },
    {
     "name": "stdout",
     "output_type": "stream",
     "text": [
      "-- Model Specs --\n",
      "  - Test Accuracy 0.9718675179569034 % \n",
      "  - RMSLE 0.11625977716564499  \n",
      "[[4836    1]\n",
      " [ 140   35]]\n"
     ]
    },
    {
     "data": {
      "image/png": "[encoded data removed]",
      "text/plain": [
       "<Figure size 432x288 with 2 Axes>"
      ]
     },
     "metadata": {
      "needs_background": "light"
     },
     "output_type": "display_data"
    },
    {
     "name": "stdout",
     "output_type": "stream",
     "text": [
      "-- Model Specs --\n",
      "  - Test Accuracy 0.9655425219941349 % \n",
      "  - RMSLE 0.1286670088248655  \n",
      "[[1316    4]\n",
      " [  43    1]]\n"
     ]
    },
    {
     "data": {
      "image/png": "[encoded data removed]",
      "text/plain": [
       "<Figure size 432x288 with 2 Axes>"
      ]
     },
     "metadata": {
      "needs_background": "light"
     },
     "output_type": "display_data"
    }
   ],
   "source": [
    "# Visualise the results\n",
    "from sklearn.metrics import accuracy_score, f1_score\n",
    "\n",
    "def print_model_acc(model, data_test, target_test, history):\n",
    "    \n",
    "    tensorflow.convert_to_tensor(data_test)\n",
    "    data_test_reshape = np.asarray(data_test).astype('float32').reshape((-1,1))\n",
    "    \n",
    "    y_predictions = model.predict(data_test)\n",
    "    predicted_classes = np.argmax(y_predictions,axis=1)\n",
    "    np.set_printoptions(threshold=20)\n",
    "    conf_matrix = confusion_matrix(target_test, predicted_classes)\n",
    "    print('-- Model Specs --')\n",
    "    print(f\"  - Test Accuracy {accuracy_score(target_test, predicted_classes)} % \")\n",
    "    print(f\"  - RMSLE {RMSLE(target_test,predicted_classes)}  \")\n",
    "    \n",
    "    # Accuracy\n",
    "    plt.subplot(1,2,1)\n",
    "    \n",
    "    plt.tight_layout()\n",
    "    plt.plot(history.history['accuracy'])\n",
    "    plt.plot(history.history['val_accuracy'])\n",
    "    plt.title('Model Accuracy')\n",
    "    plt.ylabel('Accuracy')\n",
    "    plt.xlabel('Epoch')\n",
    "    plt.legend(['Train', 'Validation'], loc='upper left')\n",
    "    # Loss\n",
    "    plt.subplot(1,2,2)\n",
    "    \n",
    "    plt.tight_layout()\n",
    "    plt.plot(history.history['loss'])\n",
    "    plt.plot(history.history['val_loss'])\n",
    "    plt.title('Model Loss')\n",
    "    plt.ylabel('Loss')\n",
    "    plt.xlabel('Epoch')\n",
    "    plt.legend(['Train', 'Validation'], loc='upper left')\n",
    "    plt.show()\n",
    "\n",
    "\n",
    "# , evaluation_features ,target_test, target_test_OH, training_features,target_train ,target_train_OH\n",
    "print_model_acc(model, training_features, target_train, history)\n",
    "\n",
    "\n",
    "from sklearn.metrics import confusion_matrix\n",
    "def full_conf_mat(y_test, y_pred, data_title=\"Confusion Matrix of Training data\"):\n",
    "    \n",
    "    print('-- Model Specs --')\n",
    "    print(f\"  - Test Accuracy {accuracy_score(y_test, y_pred)} % \")\n",
    "    print(f\"  - RMSLE {RMSLE(y_test,y_pred)}  \")\n",
    "\n",
    "    #Generate the confusion matrix\n",
    "    cf_matrix = confusion_matrix(y_test, y_pred)\n",
    "    print(cf_matrix)\n",
    "    import seaborn as sns\n",
    "    ax = sns.heatmap(cf_matrix, annot=True, cmap='Blues')\n",
    "    ax.set_title(f'{data_title}\\n\\n');\n",
    "    ax.set_xlabel('\\nPredicted Values')\n",
    "    ax.set_ylabel('Actual Values ');\n",
    "    ax.xaxis.set_ticklabels(['False','True'])\n",
    "    ax.yaxis.set_ticklabels(['False','True'])\n",
    "    plt.show()\n",
    "    \n",
    "full_conf_mat(training_targets, training_estimates, \"Confusion Matrix of Training data\")\n",
    "\n",
    "full_conf_mat(evaluation_targets, evaluation_estimates, \"Confusion Matrix of Validation/Evaluation data\")\n"
   ]
  },
  {
   "cell_type": "code",
   "execution_count": 164,
   "metadata": {},
   "outputs": [
    {
     "name": "stdout",
     "output_type": "stream",
     "text": [
      "Training evaluation\n",
      "              precision    recall  f1-score   support\n",
      "\n",
      "           0       0.97      1.00      0.99      4837\n",
      "           1       0.97      0.20      0.33       175\n",
      "\n",
      "    accuracy                           0.97      5012\n",
      "   macro avg       0.97      0.60      0.66      5012\n",
      "weighted avg       0.97      0.97      0.96      5012\n",
      "\n",
      "Validation/evaluation\n",
      "              precision    recall  f1-score   support\n",
      "\n",
      "           0       0.97      1.00      0.98      1320\n",
      "           1       0.20      0.02      0.04        44\n",
      "\n",
      "    accuracy                           0.97      1364\n",
      "   macro avg       0.58      0.51      0.51      1364\n",
      "weighted avg       0.94      0.97      0.95      1364\n",
      "\n"
     ]
    }
   ],
   "source": [
    "from sklearn.metrics import confusion_matrix, classification_report, roc_curve, recall_score, make_scorer\n",
    "print(\"Training evaluation\")\n",
    "y_pred_train = estimator.predict(training_features) #prediction on our train \n",
    "y_pred_train = np.argmax(y_pred_train,axis=1)\n",
    "print(classification_report(training_targets, y_pred_train))\n",
    "train_conf_matrix = confusion_matrix(training_targets, y_pred_train)\n",
    "\n",
    "print(\"Validation/evaluation\")\n",
    "y_pred_test = estimator.predict(evaluation_features) # prediction on our test set\n",
    "y_pred_test = np.argmax(y_pred_test,axis=1)\n",
    "print(classification_report(evaluation_targets, y_pred_test))\n",
    "test_conf_matrix = confusion_matrix(evaluation_targets, y_pred_test)\n"
   ]
  },
  {
   "cell_type": "markdown",
   "metadata": {},
   "source": [
    "## Save trained model for future reference"
   ]
  },
  {
   "cell_type": "code",
   "execution_count": 165,
   "metadata": {},
   "outputs": [],
   "source": [
    "# with open(OUTPUT_MODEL, \"wb\") as handle:\n",
    "#     pickle.dump(estimator, handle, protocol=pickle.HIGHEST_PROTOCOL)"
   ]
  },
  {
   "cell_type": "markdown",
   "metadata": {},
   "source": [
    "## Save metadata and calculated statistics\n",
    "This is done by saving every textual and numerical variable to file."
   ]
  },
  {
   "cell_type": "code",
   "execution_count": 166,
   "metadata": {},
   "outputs": [
    {
     "name": "stdout",
     "output_type": "stream",
     "text": [
      "CROSS_VALIDATION_CV: 5\n",
      "EVALUATION_FILES: ['../data/original/evaluation_dataset.csv', '..\\\\data\\\\preprocessed\\\\difference_preprocessed_evaluation_dataset.csv', '..\\\\data\\\\preprocessed\\\\ole_RemoveOutliers_and_preprocessing_pipe_evaluation_dataset.csv']\n",
      "FILE_N: 2\n",
      "HYPER_PARAMETER_OPTIMIZATION_CV: 5\n",
      "HYPER_PARAMETER_OPTIMIZATION_SCORING: accuracy\n",
      "INPUT_EVALUATION_FILE: ..\\data\\preprocessed\\ole_RemoveOutliers_and_preprocessing_pipe_evaluation_dataset.csv\n",
      "INPUT_TRAINING_FILE: ..\\data\\preprocessed\\ole_RemoveOutliers_and_preprocessing_pipe_training_dataset.csv\n",
      "LABELS: ['Operational', 'Bankrupt']\n",
      "METHOD_NAME: keras_tensorflow_resnet\n",
      "OUTPUT_MODEL: ../data/models/keras_tensorflow_resnet_model_10_05_2022-23_50_35.pkl\n",
      "OUTPUT_MODEL_ARCHITECTURE_RESULTS: ../img/keras_tensorflow_resnet_model_10_05_2022-23_50_35.png\n",
      "OUTPUT_MODEL_FOLDER: ../data/models/keras_models\n",
      "OUTPUT_RESULTS: ../data/results/keras_tensorflow_resnet_model_10_05_2022-23_50_35.txt\n",
      "PUNISHMENT_FOR_FALSE_BANKRUPT_PREDICTION: 100\n",
      "RANDOM_SEED: 42\n",
      "TIMESTAMP: 10_05_2022-23_50_35\n",
      "TRAINING_FILES: ['../data/original/training_dataset.csv', '..\\\\data\\\\preprocessed\\\\difference_preprocessed_training_dataset.csv', '..\\\\data\\\\preprocessed\\\\ole_RemoveOutliers_and_preprocessing_pipe_training_dataset.csv']\n",
      "evaluation_accuracy: 0.5098484848484849\n",
      "evaluation_confusion_matrix: True operational=1316, True bankrupt=1, False operational=4, False bankrupt=43\n",
      "input_n: 95\n",
      "loss: binary_crossentropy\n",
      "metrics: ['accuracy', 'MeanSquaredError', 'AUC', 'RootMeanSquaredError']\n",
      "optimizer: adam\n",
      "training_accuracy: 0.5998966301426504\n",
      "training_confusion_matrix: True operational=4836, True bankrupt=35, False operational=1, False bankrupt=140\n",
      "\n"
     ]
    }
   ],
   "source": [
    "current_variables = dir()\n",
    "\n",
    "results_string = \"\"\n",
    "\n",
    "for variable in current_variables:\n",
    "    # Skip environment variables and their container variable\n",
    "    # Ignore also underscore variables\n",
    "    if variable in environment_variables or variable == \"environment_variables\" or variable.startswith(\"_\"):\n",
    "        continue\n",
    "\n",
    "    # Get variables value\n",
    "    variable_value = globals()[variable]\n",
    "\n",
    "    # If variable is numerical or string, append it to results\n",
    "    if type(variable_value) is str or type(variable_value) is int or \\\n",
    "        type(variable_value) is float or type(variable_value) is list or \\\n",
    "        type(variable_value) is numpy.float64 or type(variable_value) is dict:\n",
    "        results_string += f\"{variable}: {variable_value}\\n\"\n",
    "\n",
    "# Print results to screen\n",
    "print(results_string)\n",
    "\n",
    "# Save results to file\n",
    "with open(OUTPUT_RESULTS, \"w\") as file:\n",
    "    file.write(results_string)"
   ]
  }
 ],
 "metadata": {
  "interpreter": {
   "hash": "7d2cc45be89154c81e316490ce08739f90b548aca5356e8d287f3c1f6b5a8c71"
  },
  "kernelspec": {
   "display_name": "Python 3.9.7 ('tf')",
   "language": "python",
   "name": "python3"
  },
  "language_info": {
   "codemirror_mode": {
    "name": "ipython",
    "version": 3
   },
   "file_extension": ".py",
   "mimetype": "text/x-python",
   "name": "python",
   "nbconvert_exporter": "python",
   "pygments_lexer": "ipython3",
   "version": "3.9.7"
  },
  "orig_nbformat": 4
 },
 "nbformat": 4,
 "nbformat_minor": 2
}
